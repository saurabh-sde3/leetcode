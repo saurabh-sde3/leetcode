{
 "cells": [
  {
   "cell_type": "markdown",
   "id": "fd8e3c99",
   "metadata": {},
   "source": [
    "## Basics"
   ]
  },
  {
   "cell_type": "code",
   "execution_count": null,
   "id": "d7cd72fe",
   "metadata": {},
   "outputs": [],
   "source": [
    "# Swapping\n",
    "a, b = b, a\n",
    "\n",
    "# List comprehensions\n",
    "squares = [x*x for x in range(5)]\n",
    "\n",
    "# Ternary\n",
    "result = \"Yes\" if x > 0 else \"No\"\n",
    "\n",
    "# String join/split\n",
    "\" \".join(['a', 'b'])     # 'a b'\n",
    "\"a b\".split()            # ['a', 'b']\n",
    "\n",
    "# ASCII\n",
    "ord('a')  # 97\n",
    "chr(97)   # 'a'"
   ]
  },
  {
   "cell_type": "markdown",
   "id": "8cfa4cfb",
   "metadata": {},
   "source": [
    "## Lists"
   ]
  },
  {
   "cell_type": "code",
   "execution_count": null,
   "id": "99d82422",
   "metadata": {},
   "outputs": [],
   "source": [
    "a = [1, 2, 3]\n",
    "a.append(4)\n",
    "a.pop()            # remove last\n",
    "a.pop(0)           # remove first\n",
    "a.remove(2)        # remove by value\n",
    "a.reverse()\n",
    "a.sort()           # in-place\n",
    "sorted(a)          # returns sorted"
   ]
  },
  {
   "cell_type": "markdown",
   "id": "949f831b",
   "metadata": {},
   "source": [
    "## Strings"
   ]
  },
  {
   "cell_type": "code",
   "execution_count": null,
   "id": "cd8b9d2a",
   "metadata": {},
   "outputs": [],
   "source": [
    "s = \"hello\"\n",
    "s[1:4]             # 'ell'\n",
    "s[::-1]            # reverse\n",
    "s.upper(), s.lower()\n",
    "s.find('e'), s.index('e')\n",
    "s.startswith(\"he\"), s.endswith(\"lo\")"
   ]
  },
  {
   "cell_type": "markdown",
   "id": "5a863a8b",
   "metadata": {},
   "source": [
    "## Sets & Set Operations"
   ]
  },
  {
   "cell_type": "code",
   "execution_count": null,
   "id": "938ab4e0",
   "metadata": {},
   "outputs": [],
   "source": [
    "a = set(\"abc\")\n",
    "b = set(\"bcd\")\n",
    "a & b    # intersection\n",
    "a | b    # union\n",
    "a - b    # difference"
   ]
  },
  {
   "cell_type": "markdown",
   "id": "3ae3ec9e",
   "metadata": {},
   "source": [
    "## Dictionaries"
   ]
  },
  {
   "cell_type": "code",
   "execution_count": null,
   "id": "25d01033",
   "metadata": {},
   "outputs": [],
   "source": [
    "d = {'a': 1}\n",
    "d['b'] = 2\n",
    "d.get('c', 0)       # returns 0 if 'c' not found\n",
    "d.keys(), d.values(), d.items()\n",
    "\n",
    "# Counter\n",
    "from collections import Counter\n",
    "Counter(\"leetcode\")\n",
    "\n",
    "# defaultdict\n",
    "from collections import defaultdict\n",
    "d = defaultdict(list)\n",
    "d['a'].append(1)"
   ]
  },
  {
   "cell_type": "markdown",
   "id": "590f49da",
   "metadata": {},
   "source": [
    "## Heaps"
   ]
  },
  {
   "cell_type": "code",
   "execution_count": null,
   "id": "178c18c0",
   "metadata": {},
   "outputs": [],
   "source": [
    "import heapq\n",
    "\n",
    "heap = []\n",
    "heapq.heappush(heap, 3)\n",
    "heapq.heappush(heap, 1)\n",
    "heapq.heappop(heap)        # 1\n",
    "\n",
    "heapq.nlargest(2, heap)\n",
    "heapq.nsmallest(2, heap)"
   ]
  },
  {
   "cell_type": "markdown",
   "id": "f5775de3",
   "metadata": {},
   "source": [
    "## Deque"
   ]
  },
  {
   "cell_type": "code",
   "execution_count": null,
   "id": "48213d13",
   "metadata": {},
   "outputs": [],
   "source": [
    "from collections import deque\n",
    "\n",
    "q = deque()\n",
    "q.append(1)\n",
    "q.popleft()\n",
    "q.appendleft(1)\n",
    "q.pop()"
   ]
  },
  {
   "cell_type": "markdown",
   "id": "f1d51914",
   "metadata": {},
   "source": [
    "## Binary Search"
   ]
  },
  {
   "cell_type": "code",
   "execution_count": null,
   "id": "21e6a3c9",
   "metadata": {},
   "outputs": [],
   "source": [
    "import bisect\n",
    "\n",
    "a = [1, 3, 5, 7]\n",
    "bisect.bisect_left(a, 4)\n",
    "bisect.bisect_right(a, 4)"
   ]
  },
  {
   "cell_type": "markdown",
   "id": "87559ad2",
   "metadata": {},
   "source": [
    "## Itertools"
   ]
  },
  {
   "cell_type": "code",
   "execution_count": null,
   "id": "72febd44",
   "metadata": {},
   "outputs": [],
   "source": [
    "from itertools import permutations, combinations\n",
    "\n",
    "list(permutations([1, 2, 3], 2))\n",
    "list(combinations([1, 2, 3], 2))"
   ]
  },
  {
   "cell_type": "markdown",
   "id": "fbec9065",
   "metadata": {},
   "source": [
    "## Memoization"
   ]
  },
  {
   "cell_type": "code",
   "execution_count": null,
   "id": "3f230712",
   "metadata": {},
   "outputs": [],
   "source": [
    "from functools import lru_cache\n",
    "\n",
    "@lru_cache(maxsize=None)\n",
    "def fib(n):\n",
    "    if n <= 1: return n\n",
    "    return fib(n-1) + fib(n-2)"
   ]
  },
  {
   "cell_type": "markdown",
   "id": "c6e5a432",
   "metadata": {},
   "source": [
    "## Custom Sorting"
   ]
  },
  {
   "cell_type": "code",
   "execution_count": null,
   "id": "8805ae45",
   "metadata": {},
   "outputs": [],
   "source": [
    "points = [(1, 2), (3, 1)]\n",
    "points.sort(key=lambda x: x[1])"
   ]
  },
  {
   "cell_type": "markdown",
   "id": "22335691",
   "metadata": {},
   "source": [
    "## Enumerate, Zip, Map"
   ]
  },
  {
   "cell_type": "code",
   "execution_count": null,
   "id": "1c54260a",
   "metadata": {},
   "outputs": [],
   "source": [
    "for i, ch in enumerate(\"abc\"):\n",
    "    print(i, ch)\n",
    "\n",
    "for a, b in zip([1,2], [3,4]):\n",
    "    print(a, b)\n",
    "\n",
    "list(map(str, [1, 2, 3]))"
   ]
  },
  {
   "cell_type": "markdown",
   "id": "3214849d",
   "metadata": {},
   "source": [
    "## Two Pointers"
   ]
  },
  {
   "cell_type": "code",
   "execution_count": null,
   "id": "1c5f5635",
   "metadata": {},
   "outputs": [],
   "source": [
    "i, j = 0, len(s) - 1\n",
    "while i < j:\n",
    "    i += 1\n",
    "    j -= 1"
   ]
  },
  {
   "cell_type": "markdown",
   "id": "12ba82e5",
   "metadata": {},
   "source": [
    "## Sliding Window"
   ]
  },
  {
   "cell_type": "code",
   "execution_count": null,
   "id": "597250bb",
   "metadata": {},
   "outputs": [],
   "source": [
    "left = 0\n",
    "for right in range(len(s)):\n",
    "    while condition:\n",
    "        left += 1"
   ]
  },
  {
   "cell_type": "markdown",
   "id": "e0c1549a",
   "metadata": {},
   "source": [
    "## Binary Search Template"
   ]
  },
  {
   "cell_type": "code",
   "execution_count": null,
   "id": "8e666644",
   "metadata": {},
   "outputs": [],
   "source": [
    "left, right = 0, len(arr) - 1\n",
    "while left <= right:\n",
    "    mid = (left + right) // 2\n",
    "    if arr[mid] == target:\n",
    "        return mid\n",
    "    elif arr[mid] < target:\n",
    "        left = mid + 1\n",
    "    else:\n",
    "        right = mid - 1"
   ]
  },
  {
   "cell_type": "markdown",
   "id": "d6ade31e",
   "metadata": {},
   "source": [
    "## Tree Traversals"
   ]
  },
  {
   "cell_type": "code",
   "execution_count": null,
   "id": "e4c45e13",
   "metadata": {},
   "outputs": [],
   "source": [
    "def dfs(node):\n",
    "    if not node: return\n",
    "    dfs(node.left)\n",
    "    dfs(node.right)\n",
    "\n",
    "from collections import deque\n",
    "q = deque([root])\n",
    "while q:\n",
    "    node = q.popleft()\n",
    "    if node.left: q.append(node.left)"
   ]
  },
  {
   "cell_type": "markdown",
   "id": "18349a9e",
   "metadata": {},
   "source": [
    "## Graph Traversals"
   ]
  },
  {
   "cell_type": "code",
   "execution_count": null,
   "id": "7654742f",
   "metadata": {},
   "outputs": [],
   "source": [
    "visited = set()\n",
    "def dfs(u):\n",
    "    if u in visited: return\n",
    "    visited.add(u)\n",
    "    for v in graph[u]:\n",
    "        dfs(v)\n",
    "\n",
    "from collections import deque\n",
    "q = deque([start])\n",
    "visited = set([start])\n",
    "\n",
    "while q:\n",
    "    u = q.popleft()\n",
    "    for v in graph[u]:\n",
    "        if v not in visited:\n",
    "            visited.add(v)\n",
    "            q.append(v)"
   ]
  },
  {
   "cell_type": "markdown",
   "id": "95781ed9",
   "metadata": {},
   "source": [
    "## Misc"
   ]
  },
  {
   "cell_type": "code",
   "execution_count": null,
   "id": "37696d30",
   "metadata": {},
   "outputs": [],
   "source": [
    "bin(10)\n",
    "int('1010', 2)\n",
    "\n",
    "# Matrix transpose\n",
    "zip(*matrix)\n",
    "\n",
    "# Flatten list of lists\n",
    "[x for row in matrix for x in row]"
   ]
  },
  {
   "cell_type": "markdown",
   "id": "42223d29",
   "metadata": {},
   "source": [
    "## Class & OOP"
   ]
  },
  {
   "cell_type": "code",
   "execution_count": null,
   "id": "a684a284",
   "metadata": {},
   "outputs": [],
   "source": [
    "class Person:\n",
    "    def __init__(self, name):\n",
    "        self.name = name\n",
    "\n",
    "    def greet(self):\n",
    "        return f\"Hello, I'm {self.name}\"\n",
    "\n",
    "p = Person(\"Alice\")\n",
    "print(p.greet())"
   ]
  },
  {
   "cell_type": "markdown",
   "id": "40ffdd5f",
   "metadata": {},
   "source": [
    "## Static & Class Methods"
   ]
  },
  {
   "cell_type": "code",
   "execution_count": null,
   "id": "e4a8084d",
   "metadata": {},
   "outputs": [],
   "source": [
    "class MyClass:\n",
    "    count = 0\n",
    "\n",
    "    @classmethod\n",
    "    def increment(cls):\n",
    "        cls.count += 1\n",
    "\n",
    "    @staticmethod\n",
    "    def greet():\n",
    "        return \"Hello from static method\"\n",
    "\n",
    "MyClass.increment()\n",
    "print(MyClass.count)\n",
    "print(MyClass.greet())"
   ]
  },
  {
   "cell_type": "markdown",
   "id": "b8c88296",
   "metadata": {},
   "source": [
    "## Decorators"
   ]
  },
  {
   "cell_type": "code",
   "execution_count": null,
   "id": "7f5a903f",
   "metadata": {},
   "outputs": [],
   "source": [
    "def my_decorator(func):\n",
    "    def wrapper(*args, **kwargs):\n",
    "        print(\"Before call\")\n",
    "        result = func(*args, **kwargs)\n",
    "        print(\"After call\")\n",
    "        return result\n",
    "    return wrapper\n",
    "\n",
    "@my_decorator\n",
    "def say_hello():\n",
    "    print(\"Hello!\")\n",
    "\n",
    "say_hello()"
   ]
  },
  {
   "cell_type": "markdown",
   "id": "26b2a93e",
   "metadata": {},
   "source": [
    "## Generators"
   ]
  },
  {
   "cell_type": "code",
   "execution_count": null,
   "id": "bb9a2ecc",
   "metadata": {},
   "outputs": [],
   "source": [
    "def my_generator():\n",
    "    for i in range(3):\n",
    "        yield i\n",
    "\n",
    "for val in my_generator():\n",
    "    print(val)"
   ]
  },
  {
   "cell_type": "markdown",
   "id": "ae454081",
   "metadata": {},
   "source": [
    "## Exception Handling"
   ]
  },
  {
   "cell_type": "code",
   "execution_count": null,
   "id": "116ef5f5",
   "metadata": {},
   "outputs": [],
   "source": [
    "try:\n",
    "    x = 1 / 0\n",
    "except ZeroDivisionError:\n",
    "    print(\"Cannot divide by zero\")\n",
    "finally:\n",
    "    print(\"Done\")"
   ]
  },
  {
   "cell_type": "markdown",
   "id": "a93e4560",
   "metadata": {},
   "source": [
    "## Lambda Functions"
   ]
  },
  {
   "cell_type": "code",
   "execution_count": null,
   "id": "ad54e526",
   "metadata": {},
   "outputs": [],
   "source": [
    "add = lambda x, y: x + y\n",
    "print(add(2, 3))"
   ]
  },
  {
   "cell_type": "markdown",
   "id": "8bc55e6c",
   "metadata": {},
   "source": [
    "## Sorting Complex Structures"
   ]
  },
  {
   "cell_type": "code",
   "execution_count": null,
   "id": "62088d73",
   "metadata": {},
   "outputs": [],
   "source": [
    "data = [(1, 'b'), (2, 'a'), (3, 'c')]\n",
    "sorted_by_second = sorted(data, key=lambda x: x[1])\n",
    "print(sorted_by_second)"
   ]
  },
  {
   "cell_type": "markdown",
   "id": "3460043e",
   "metadata": {},
   "source": [
    "## File I/O"
   ]
  },
  {
   "cell_type": "code",
   "execution_count": null,
   "id": "d6713e59",
   "metadata": {},
   "outputs": [],
   "source": [
    "# Write to file\n",
    "with open(\"output.txt\", \"w\") as f:\n",
    "    f.write(\"Hello, World!\")\n",
    "\n",
    "# Read from file\n",
    "with open(\"output.txt\", \"r\") as f:\n",
    "    content = f.read()\n",
    "    print(content)"
   ]
  },
  {
   "cell_type": "markdown",
   "id": "1054d5a2",
   "metadata": {},
   "source": [
    "## Bit Manipulation"
   ]
  },
  {
   "cell_type": "code",
   "execution_count": null,
   "id": "7db1c2e6",
   "metadata": {},
   "outputs": [],
   "source": [
    "x = 5  # 101\n",
    "y = 3  # 011\n",
    "\n",
    "print(x & y)  # 001\n",
    "print(x | y)  # 111\n",
    "print(x ^ y)  # 110\n",
    "print(x << 1) # 1010\n",
    "print(x >> 1) # 10"
   ]
  },
  {
   "cell_type": "markdown",
   "id": "ebb4a6c1",
   "metadata": {},
   "source": [
    "## Math & Fractions"
   ]
  },
  {
   "cell_type": "code",
   "execution_count": null,
   "id": "cf64ddad",
   "metadata": {},
   "outputs": [],
   "source": [
    "import math\n",
    "print(math.gcd(12, 15))\n",
    "print(math.lcm(12, 15))\n",
    "print(math.sqrt(16))\n",
    "\n",
    "from fractions import Fraction\n",
    "f = Fraction(3, 4) + Fraction(1, 4)\n",
    "print(f)"
   ]
  },
  {
   "cell_type": "markdown",
   "id": "0d8bb51d",
   "metadata": {},
   "source": [
    "## Regex"
   ]
  },
  {
   "cell_type": "code",
   "execution_count": null,
   "id": "d07f3054",
   "metadata": {},
   "outputs": [],
   "source": [
    "import re\n",
    "pattern = r'\\d+'\n",
    "s = \"There are 123 numbers\"\n",
    "print(re.findall(pattern, s))"
   ]
  },
  {
   "cell_type": "markdown",
   "id": "9cee258a",
   "metadata": {},
   "source": [
    "## Custom Comparator (functools.cmp_to_key)"
   ]
  },
  {
   "cell_type": "code",
   "execution_count": null,
   "id": "b4f4e85f",
   "metadata": {},
   "outputs": [],
   "source": [
    "from functools import cmp_to_key\n",
    "\n",
    "def compare(x, y):\n",
    "    return y - x  # descending\n",
    "\n",
    "arr = [5, 2, 9]\n",
    "arr.sort(key=cmp_to_key(compare))\n",
    "print(arr)"
   ]
  },
  {
   "cell_type": "markdown",
   "id": "aa21c801",
   "metadata": {},
   "source": [
    "## Dataclasses"
   ]
  },
  {
   "cell_type": "code",
   "execution_count": null,
   "id": "e83a1645",
   "metadata": {},
   "outputs": [],
   "source": [
    "from dataclasses import dataclass\n",
    "\n",
    "@dataclass\n",
    "class Point:\n",
    "    x: int\n",
    "    y: int\n",
    "\n",
    "p = Point(1, 2)\n",
    "print(p)"
   ]
  },
  {
   "cell_type": "markdown",
   "id": "d1af952a",
   "metadata": {},
   "source": [
    "## Typing & Type Hints"
   ]
  },
  {
   "cell_type": "code",
   "execution_count": null,
   "id": "50128701",
   "metadata": {},
   "outputs": [],
   "source": [
    "from typing import List\n",
    "\n",
    "def add(nums: List[int]) -> int:\n",
    "    return sum(nums)\n",
    "\n",
    "print(add([1, 2, 3]))"
   ]
  },
  {
   "cell_type": "markdown",
   "id": "5f11d6e8",
   "metadata": {},
   "source": [
    "## Asyncio (Asynchronous Programming)"
   ]
  },
  {
   "cell_type": "code",
   "execution_count": null,
   "id": "8c5c52b1",
   "metadata": {},
   "outputs": [],
   "source": [
    "import asyncio\n",
    "\n",
    "async def fetch(i):\n",
    "    await asyncio.sleep(1)\n",
    "    return f\"Result {i}\"\n",
    "\n",
    "async def main():\n",
    "    tasks = [asyncio.create_task(fetch(i)) for i in range(3)]\n",
    "    for res in await asyncio.gather(*tasks):\n",
    "        print(res)\n",
    "\n",
    "# asyncio.run(main())"
   ]
  },
  {
   "cell_type": "markdown",
   "id": "8d10be53",
   "metadata": {},
   "source": [
    "## Threading (I/O‑bound parallelism)"
   ]
  },
  {
   "cell_type": "code",
   "execution_count": null,
   "id": "23270818",
   "metadata": {},
   "outputs": [],
   "source": [
    "import threading, time\n",
    "\n",
    "def io_task(name):\n",
    "    print(f\"Start {name}\")\n",
    "    time.sleep(2)\n",
    "    print(f\"End {name}\")\n",
    "\n",
    "threads = [threading.Thread(target=io_task, args=(f'T{i}',)) for i in range(2)]\n",
    "for t in threads: t.start()\n",
    "for t in threads: t.join()"
   ]
  },
  {
   "cell_type": "markdown",
   "id": "62047b40",
   "metadata": {},
   "source": [
    "## Multiprocessing (CPU‑bound parallelism)"
   ]
  },
  {
   "cell_type": "code",
   "execution_count": null,
   "id": "6b9714bd",
   "metadata": {},
   "outputs": [],
   "source": [
    "from multiprocessing import Pool, cpu_count\n",
    "\n",
    "def square(n):\n",
    "    return n * n\n",
    "\n",
    "with Pool(cpu_count()) as pool:\n",
    "    results = pool.map(square, range(10))\n",
    "print(results)"
   ]
  },
  {
   "cell_type": "markdown",
   "id": "9ece4295",
   "metadata": {},
   "source": [
    "## Design Patterns (Singleton & Factory)"
   ]
  },
  {
   "cell_type": "code",
   "execution_count": null,
   "id": "059a553c",
   "metadata": {},
   "outputs": [],
   "source": [
    "# Singleton using a decorator\n",
    "def singleton(cls):\n",
    "    instances = {}\n",
    "    def get_instance(*args, **kwargs):\n",
    "        if cls not in instances:\n",
    "            instances[cls] = cls(*args, **kwargs)\n",
    "        return instances[cls]\n",
    "    return get_instance\n",
    "\n",
    "@singleton\n",
    "class Logger:\n",
    "    def __init__(self):\n",
    "        self.log = []\n",
    "\n",
    "# Factory pattern\n",
    "class Shape:\n",
    "    def draw(self): pass\n",
    "\n",
    "class Circle(Shape):\n",
    "    def draw(self): print(\"Circle\")\n",
    "\n",
    "class Square(Shape):\n",
    "    def draw(self): print(\"Square\")\n",
    "\n",
    "def shape_factory(t):\n",
    "    return {'circle': Circle(), 'square': Square()}.get(t.lower())\n",
    "\n",
    "s = shape_factory('circle')\n",
    "s.draw()"
   ]
  },
  {
   "cell_type": "markdown",
   "id": "bb3347e3",
   "metadata": {},
   "source": [
    "## Dynamic Programming Templates"
   ]
  },
  {
   "cell_type": "code",
   "execution_count": null,
   "id": "c1b0bf11",
   "metadata": {},
   "outputs": [],
   "source": [
    "# Top‑down (memoization)\n",
    "from functools import lru_cache\n",
    "def fib_td(n):\n",
    "    @lru_cache(None)\n",
    "    def dfs(k):\n",
    "        if k < 2: return k\n",
    "        return dfs(k-1) + dfs(k-2)\n",
    "    return dfs(n)\n",
    "\n",
    "# Bottom‑up\n",
    "def fib_bu(n):\n",
    "    if n < 2: return n\n",
    "    dp = [0, 1]\n",
    "    for _ in range(2, n+1):\n",
    "        dp.append(dp[-1] + dp[-2])\n",
    "    return dp[-1]\n",
    "\n",
    "print(fib_td(10), fib_bu(10))"
   ]
  }
 ],
 "metadata": {
  "kernelspec": {
   "display_name": "Python 3 (ipykernel)",
   "language": "python",
   "name": "python3"
  },
  "language_info": {
   "codemirror_mode": {
    "name": "ipython",
    "version": 3
   },
   "file_extension": ".py",
   "mimetype": "text/x-python",
   "name": "python",
   "nbconvert_exporter": "python",
   "pygments_lexer": "ipython3",
   "version": "3.9.13"
  }
 },
 "nbformat": 4,
 "nbformat_minor": 5
}
