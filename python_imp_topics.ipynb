{
 "cells": [
  {
   "cell_type": "code",
   "execution_count": 2,
   "id": "bb4bd652",
   "metadata": {},
   "outputs": [
    {
     "name": "stdout",
     "output_type": "stream",
     "text": [
      "0=>1 1=>2 2=>3 3=>4 4=>5 "
     ]
    }
   ],
   "source": [
    "li = [1, 2, 3, 4, 5]\n",
    "\n",
    "for i, item in enumerate(li):\n",
    "    print(i, item, sep=\"=>\", end=\" \")"
   ]
  },
  {
   "cell_type": "code",
   "execution_count": 9,
   "id": "3c18269e",
   "metadata": {},
   "outputs": [
    {
     "name": "stdout",
     "output_type": "stream",
     "text": [
      "1\n",
      "2\n",
      "3\n",
      "4\n"
     ]
    }
   ],
   "source": [
    "def myfun(*args):\n",
    "    print(args[0])\n",
    "    print(args[1])\n",
    "    print(args[2])\n",
    "    print(args[3])\n",
    "    \n",
    "myfun(1, 2, 3, 4)"
   ]
  },
  {
   "cell_type": "code",
   "execution_count": 15,
   "id": "853ad60e",
   "metadata": {},
   "outputs": [
    {
     "name": "stdout",
     "output_type": "stream",
     "text": [
      "{'a': 4, 'b': 5}\n",
      "{1: 2}\n"
     ]
    }
   ],
   "source": [
    "def myfun1(d, **kwargs):\n",
    "    print(kwargs)\n",
    "    print(d)\n",
    "    \n",
    "myfun1({1:2}, a = 4, b = 5)"
   ]
  },
  {
   "cell_type": "code",
   "execution_count": 20,
   "id": "68215e6f",
   "metadata": {},
   "outputs": [
    {
     "name": "stdout",
     "output_type": "stream",
     "text": [
      "{'1': 2, '3': 4}\n",
      "4\n",
      "5\n"
     ]
    }
   ],
   "source": [
    "def myfun1(g, h, **kwargs):\n",
    "    print(kwargs)\n",
    "    print(g)\n",
    "    print(h)\n",
    "d =  {\"1\":2, \"3\": 4} # here keywords needs to be string\n",
    "myfun1(**d, g = 4, h = 5)"
   ]
  },
  {
   "cell_type": "code",
   "execution_count": 32,
   "id": "027d103f",
   "metadata": {},
   "outputs": [
    {
     "data": {
      "text/plain": [
       "{1: 'a', 2: 'b', 3: 'c'}"
      ]
     },
     "execution_count": 32,
     "metadata": {},
     "output_type": "execute_result"
    }
   ],
   "source": [
    "# Lists to represent keys and values\n",
    "keys = ['a','b','c','d','e']\n",
    "values = [1,2,3,4,5]\n",
    "\n",
    "# but this line shows dict comprehension here\n",
    "myDict = { k:v for (k,v) in zip(keys, values)}\n",
    "\n",
    "# We can use below too\n",
    "# myDict = dict(zip(keys, values))\n",
    "\n",
    "print (myDict)"
   ]
  },
  {
   "cell_type": "code",
   "execution_count": 33,
   "id": "641cff4b",
   "metadata": {},
   "outputs": [
    {
     "name": "stdout",
     "output_type": "stream",
     "text": [
      "a-->1\n",
      "b-->2\n",
      "c-->3\n",
      "d-->4\n",
      "e-->5\n"
     ]
    }
   ],
   "source": [
    "keys = ['a','b','c','d','e']\n",
    "values = [1,2,3,4,5]\n",
    "\n",
    "for k, v in zip(keys, values):\n",
    "    print(k, v, sep=\"-->\")"
   ]
  },
  {
   "cell_type": "code",
   "execution_count": 34,
   "id": "444c9d89",
   "metadata": {},
   "outputs": [
    {
     "data": {
      "text/plain": [
       "tuple"
      ]
     },
     "execution_count": 34,
     "metadata": {},
     "output_type": "execute_result"
    }
   ],
   "source": [
    "def test1():\n",
    "    return 1, 2, 3\n",
    "\n",
    "type(test1())"
   ]
  },
  {
   "cell_type": "code",
   "execution_count": 35,
   "id": "f5a20f51",
   "metadata": {},
   "outputs": [
    {
     "name": "stdout",
     "output_type": "stream",
     "text": [
      "OrderedDict([('b', 2), ('c', 3), ('a', 1)])\n"
     ]
    }
   ],
   "source": [
    "from collections import OrderedDict\n",
    "\n",
    "od = OrderedDict(a=1, b=2, c=3)\n",
    "od.move_to_end('a')  # moves 'a' to the end\n",
    "print(od)  # OrderedDict([('b', 2), ('c', 3), ('a', 1)])"
   ]
  },
  {
   "cell_type": "code",
   "execution_count": 36,
   "id": "d17c594f",
   "metadata": {},
   "outputs": [
    {
     "name": "stdout",
     "output_type": "stream",
     "text": [
      "{('x', 'y'): 100, 10: 'apple'}\n"
     ]
    }
   ],
   "source": [
    "d = {('x', 'y'): 100, 10: 'apple'}\n",
    "print(d)"
   ]
  },
  {
   "cell_type": "code",
   "execution_count": 37,
   "id": "c21fa263",
   "metadata": {},
   "outputs": [
    {
     "name": "stdout",
     "output_type": "stream",
     "text": [
      "dict_keys(['a', 'b'])\n",
      "dict_values([1, 2])\n",
      "dict_items([('a', 1), ('b', 2)])\n"
     ]
    }
   ],
   "source": [
    "d = {'a': 1, 'b': 2}\n",
    "print(d.keys())  \n",
    "print(d.values()) \n",
    "print(d.items())"
   ]
  },
  {
   "cell_type": "code",
   "execution_count": 38,
   "id": "b71487e9",
   "metadata": {},
   "outputs": [
    {
     "name": "stdout",
     "output_type": "stream",
     "text": [
      "1\n",
      "{'b': 2}\n"
     ]
    }
   ],
   "source": [
    "d = {'a': 1, 'b': 2}\n",
    "print(d.pop('a'))  \n",
    "print(d)"
   ]
  },
  {
   "cell_type": "code",
   "execution_count": 39,
   "id": "7f792c8b",
   "metadata": {},
   "outputs": [
    {
     "name": "stdout",
     "output_type": "stream",
     "text": [
      "{0: 0, 1: 1, 2: 4, 3: 9, 4: 16}\n"
     ]
    }
   ],
   "source": [
    "d = {x: x**2 for x in range(5)}\n",
    "print(d)"
   ]
  },
  {
   "cell_type": "markdown",
   "id": "9da915c9",
   "metadata": {},
   "source": [
    "Python dictionaries are mutable, meaning we can change them after they've been created. We can add, remove or update key-value pairs as needed. This dynamic nature allows us to build and modify dictionaries based on changing data, making them versatile for real-time applications."
   ]
  },
  {
   "cell_type": "code",
   "execution_count": 40,
   "id": "2fcafe4b",
   "metadata": {},
   "outputs": [
    {
     "name": "stdout",
     "output_type": "stream",
     "text": [
      "{'a': 4, 'c': 3}\n"
     ]
    }
   ],
   "source": [
    "d = {'a': 1, 'b': 2}\n",
    "d['c'] = 3  \n",
    "d['a'] = 4 \n",
    "del d['b']  \n",
    "print(d)"
   ]
  },
  {
   "cell_type": "markdown",
   "id": "c63b6f93",
   "metadata": {},
   "source": [
    "Merging Dictionary\n",
    "In Python, merging dictionaries means combining two or more dictionaries into one. If both dictionaries have the same key, the value from the second dictionary will overwrite the value from the first one. There are a few ways to merge dictionaries in Python.\n",
    "\n",
    "Ways to Merge Dictionaries\n",
    "1. Using the update() Method\n",
    "The update() method adds key-value pairs from one dictionary into another. If a key already exists in the first dictionary, the value is updated with the value from the second dictionary."
   ]
  },
  {
   "cell_type": "code",
   "execution_count": 41,
   "id": "7b48cb14",
   "metadata": {},
   "outputs": [
    {
     "name": "stdout",
     "output_type": "stream",
     "text": [
      "{'a': 1, 'b': 3, 'c': 4}\n"
     ]
    }
   ],
   "source": [
    "d1 = {'a': 1, 'b': 2}\n",
    "d2 = {'b': 3, 'c': 4}\n",
    "\n",
    "d1.update(d2)\n",
    "\n",
    "print(d1)"
   ]
  },
  {
   "cell_type": "code",
   "execution_count": 42,
   "id": "660e47c7",
   "metadata": {},
   "outputs": [
    {
     "name": "stdout",
     "output_type": "stream",
     "text": [
      "{'a': 1, 'b': 3, 'c': 4}\n"
     ]
    }
   ],
   "source": [
    "d1 = {'a': 1, 'b': 2}\n",
    "d2 = {'b': 3, 'c': 4}\n",
    "\n",
    "d3 = {**d1, **d2}\n",
    "\n",
    "print(d3)"
   ]
  },
  {
   "cell_type": "markdown",
   "id": "1bf88067",
   "metadata": {},
   "source": [
    "3. Using the | Operator (Python 3.9+)\n",
    "In Python 3.9 and later, we can use the | operator to merge dictionaries."
   ]
  },
  {
   "cell_type": "code",
   "execution_count": 43,
   "id": "18524ff3",
   "metadata": {},
   "outputs": [
    {
     "name": "stdout",
     "output_type": "stream",
     "text": [
      "{'a': 1, 'b': 3, 'c': 4}\n"
     ]
    }
   ],
   "source": [
    "d1 = {'a': 1, 'b': 2}\n",
    "d2 = {'b': 3, 'c': 4}\n",
    "\n",
    "d3 = d1 | d2\n",
    "\n",
    "print(d3)"
   ]
  },
  {
   "cell_type": "markdown",
   "id": "662066b6",
   "metadata": {},
   "source": [
    "Sets in Python\n",
    "Python Set is an unordered collection of data types that can be iterated, mutated and contains no duplicate elements. The order of the elements in a set is unknown, yet it may contain several elements."
   ]
  },
  {
   "cell_type": "code",
   "execution_count": null,
   "id": "b86f93a3",
   "metadata": {},
   "outputs": [],
   "source": [
    "var = {\"Geeks\", \"for\", \"Geeks\"}\n",
    "print(var)"
   ]
  },
  {
   "cell_type": "code",
   "execution_count": 46,
   "id": "52602c9e",
   "metadata": {},
   "outputs": [
    {
     "name": "stdout",
     "output_type": "stream",
     "text": [
      "True\n",
      "False\n",
      "False\n",
      "True\n",
      "False\n"
     ]
    }
   ],
   "source": [
    "# All elements of list are true\n",
    "l = [4, 5, 1]\n",
    "print(all(l))\n",
    "\n",
    "# All elements of list are false\n",
    "l = [0, 0, False]\n",
    "print(all(l))\n",
    "\n",
    "# Some elements of list are\n",
    "# true while others are false\n",
    "l = [1, 0, 6, 7, False]\n",
    "print(all(l))\n",
    "\n",
    "# Empty List\n",
    "l = []\n",
    "print(all(l))\n",
    "\n",
    "# all() with condition - to check if all elements are greater than 0\n",
    "l = [1,-3,0,2,4]\n",
    "print(all(ele > 0 for ele in l))"
   ]
  },
  {
   "cell_type": "markdown",
   "id": "3d3ced4c",
   "metadata": {},
   "source": [
    "2. Using pdb (Python Debugger)\n",
    "The pdb module provides an interactive debugging environment. We can set breakpoints, step through the code, inspect variables and more. To start debugging, insert pdb.set_trace() where we want to start the debugger."
   ]
  },
  {
   "cell_type": "code",
   "execution_count": null,
   "id": "59ec509d",
   "metadata": {},
   "outputs": [
    {
     "name": "stdout",
     "output_type": "stream",
     "text": [
      "--Return--\n",
      "None\n",
      "> \u001b[1;32mc:\\users\\sve200\\appdata\\local\\temp\\ipykernel_13524\\548353523.py\u001b[0m(5)\u001b[0;36m<module>\u001b[1;34m()\u001b[0m\n",
      "\n"
     ]
    }
   ],
   "source": [
    "import pdb\n",
    "\n",
    "x = 5\n",
    "y = 10\n",
    "pdb.set_trace()  # Debugger starts here\n",
    "result = x + y\n",
    "print(result)"
   ]
  },
  {
   "cell_type": "code",
   "execution_count": 1,
   "id": "edc59d4e",
   "metadata": {},
   "outputs": [
    {
     "name": "stderr",
     "output_type": "stream",
     "text": [
      "DEBUG:root:This is a debug message\n",
      "INFO:root:This is an info message\n"
     ]
    }
   ],
   "source": [
    "import logging\n",
    "\n",
    "# Set up logging configuration\n",
    "logging.basicConfig(level=logging.DEBUG)\n",
    "\n",
    "# Log different messages\n",
    "logging.debug(\"This is a debug message\")\n",
    "logging.info(\"This is an info message\")"
   ]
  },
  {
   "cell_type": "markdown",
   "id": "4080163e",
   "metadata": {},
   "source": [
    "Memory Management in Python\n",
    "Memory management in Python is handled by the Python memory manager. Python uses an automatic memory management system, which includes garbage collection to reclaim unused memory and reference counting to track memory usage.\n",
    "\n",
    "Key Concepts:\n",
    "Reference Counting: Every object in Python has a reference count. When the count reaches zero, the object is deleted automatically.\n",
    "Garbage Collection: Python uses a garbage collector to clean up circular references (when objects reference each other in a cycle)."
   ]
  },
  {
   "cell_type": "code",
   "execution_count": null,
   "id": "c4032d72",
   "metadata": {},
   "outputs": [],
   "source": [
    "import sys\n",
    "x = 10\n",
    "y = [1, 2, 3]\n",
    "\n",
    "# Checking memory size of variables\n",
    "print(\"Memory size of x:\", sys.getsizeof(x)) \n",
    "print(\"Memory size of y:\", sys.getsizeof(y)) \n",
    "\n",
    "# Reference counting\n",
    "a = [1, 2, 3]\n",
    "b = a \n",
    "print(sys.getrefcount(a))"
   ]
  },
  {
   "cell_type": "code",
   "execution_count": 2,
   "id": "4e1f184a",
   "metadata": {},
   "outputs": [],
   "source": [
    "import antigravity"
   ]
  },
  {
   "cell_type": "code",
   "execution_count": 3,
   "id": "818e4a50",
   "metadata": {},
   "outputs": [
    {
     "name": "stdout",
     "output_type": "stream",
     "text": [
      "The Zen of Python, by Tim Peters\n",
      "\n",
      "Beautiful is better than ugly.\n",
      "Explicit is better than implicit.\n",
      "Simple is better than complex.\n",
      "Complex is better than complicated.\n",
      "Flat is better than nested.\n",
      "Sparse is better than dense.\n",
      "Readability counts.\n",
      "Special cases aren't special enough to break the rules.\n",
      "Although practicality beats purity.\n",
      "Errors should never pass silently.\n",
      "Unless explicitly silenced.\n",
      "In the face of ambiguity, refuse the temptation to guess.\n",
      "There should be one-- and preferably only one --obvious way to do it.\n",
      "Although that way may not be obvious at first unless you're Dutch.\n",
      "Now is better than never.\n",
      "Although never is often better than *right* now.\n",
      "If the implementation is hard to explain, it's a bad idea.\n",
      "If the implementation is easy to explain, it may be a good idea.\n",
      "Namespaces are one honking great idea -- let's do more of those!\n"
     ]
    }
   ],
   "source": [
    "import this"
   ]
  },
  {
   "cell_type": "code",
   "execution_count": 8,
   "id": "537ee22b",
   "metadata": {},
   "outputs": [],
   "source": [
    "x = lambda a, b: (a+b, a*b)"
   ]
  },
  {
   "cell_type": "code",
   "execution_count": 9,
   "id": "2217c76c",
   "metadata": {},
   "outputs": [
    {
     "data": {
      "text/plain": [
       "(50, 600)"
      ]
     },
     "execution_count": 9,
     "metadata": {},
     "output_type": "execute_result"
    }
   ],
   "source": [
    "x(20, 30)"
   ]
  },
  {
   "cell_type": "code",
   "execution_count": null,
   "id": "e17ac440",
   "metadata": {},
   "outputs": [],
   "source": [
    "# Example: Check if a number is positive, negative, or zero\n",
    "n = lambda x: \"Positive\" if x > 0 else \"Negative\" if x < 0 else \"Zero\"\n",
    "\n",
    "print(n(5))   \n",
    "print(n(-3))  \n",
    "print(n(0))"
   ]
  },
  {
   "cell_type": "code",
   "execution_count": 11,
   "id": "dbc93820",
   "metadata": {},
   "outputs": [
    {
     "name": "stdout",
     "output_type": "stream",
     "text": [
      "20\n",
      "20\n"
     ]
    }
   ],
   "source": []
  },
  {
   "cell_type": "markdown",
   "id": "8e382ce6",
   "metadata": {},
   "source": [
    "Steps to Create and Use User-Defined Exceptions\n",
    "Define a New Exception Class: Create a new class that inherits from Exception or any of its subclasses.\n",
    "Raise the Exception: Use the raise statement to raise the user-defined exception when a specific condition occurs.\n",
    "Handle the Exception: Use try-except blocks to handle the user-defined exception."
   ]
  },
  {
   "cell_type": "code",
   "execution_count": 12,
   "id": "96ab2416",
   "metadata": {},
   "outputs": [
    {
     "name": "stdout",
     "output_type": "stream",
     "text": [
      "150 -> Age must be between 0 and 120\n"
     ]
    }
   ],
   "source": [
    "# Step 1: Define a custom exception class\n",
    "class InvalidAgeError(Exception):\n",
    "    def __init__(self, age, msg=\"Age must be between 0 and 120\"):\n",
    "        self.age = age\n",
    "        self.msg = msg\n",
    "        super().__init__(self.msg)\n",
    "\n",
    "    def __str__(self):\n",
    "        return f'{self.age} -> {self.msg}'\n",
    "\n",
    "# Step 2: Use the custom exception in your code\n",
    "def set_age(age):\n",
    "    if age < 0 or age > 120:\n",
    "        raise InvalidAgeError(age)\n",
    "    else:\n",
    "        print(f\"Age set to: {age}\")\n",
    "\n",
    "# Step 3: Handling the custom exception\n",
    "try:\n",
    "    set_age(150)  # This will raise the custom exception\n",
    "except InvalidAgeError as e:\n",
    "    print(e)"
   ]
  },
  {
   "cell_type": "markdown",
   "id": "11d46c11",
   "metadata": {},
   "source": [
    "Class Variables\n",
    "\n",
    "These are the variables that are shared across all instances of a class. It is defined at the class level, outside any methods. All objects of the class share the same value for a class variable unless explicitly overridden in an object.\n",
    "\n",
    "Instance Variables\n",
    "\n",
    "Variables that are unique to each instance (object) of a class. These are defined within the __init__ method or other instance methods. Each object maintains its own copy of instance variables, independent of other objects."
   ]
  },
  {
   "cell_type": "code",
   "execution_count": 2,
   "id": "66db360e",
   "metadata": {},
   "outputs": [
    {
     "name": "stdout",
     "output_type": "stream",
     "text": [
      "Canine\n",
      "Buddy\n",
      "Charlie\n",
      "Max\n",
      "Feline\n",
      "Feline\n",
      "saurabh\n",
      "Feline\n"
     ]
    }
   ],
   "source": [
    "class Dog:\n",
    "    # Class variable\n",
    "    species = \"Canine\"\n",
    "\n",
    "    def __init__(self, name, age):\n",
    "        # Instance variables\n",
    "        self.name = name\n",
    "        self.age = age\n",
    "\n",
    "# Create objects\n",
    "dog1 = Dog(\"Buddy\", 3)\n",
    "dog2 = Dog(\"Charlie\", 5)\n",
    "\n",
    "# Access class and instance variables\n",
    "print(dog1.species)  # (Class variable)\n",
    "print(dog1.name)     # (Instance variable)\n",
    "print(dog2.name)     # (Instance variable)\n",
    "\n",
    "# Modify instance variables\n",
    "dog1.name = \"Max\"\n",
    "print(dog1.name)     # (Updated instance variable)\n",
    "\n",
    "# Modify class variable\n",
    "Dog.species = \"Feline\"\n",
    "print(dog1.species)  # (Updated class variable)\n",
    "print(dog2.species)\n",
    "\n",
    "dog1.species = \"saurabh\" # this will be updated for dog1 instance only. Not for others\n",
    "print(dog1.species)  # (Updated class variable)\n",
    "print(dog2.species)"
   ]
  },
  {
   "cell_type": "markdown",
   "id": "6fca3d5c",
   "metadata": {},
   "source": [
    "Python Polymorphism\n",
    "Polymorphism allows methods to have the same name but behave differently based on the object's context. It can be achieved through method overriding or overloading.\n",
    "\n",
    "Types of Polymorphism\n",
    "Compile-Time Polymorphism: This type of polymorphism is determined during the compilation of the program. It allows methods or operators with the same name to behave differently based on their input parameters or usage. It is commonly referred to as method or operator overloading.\n",
    "Run-Time Polymorphism: This type of polymorphism is determined during the execution of the program. It occurs when a subclass provides a specific implementation for a method already defined in its parent class, commonly known as method overriding."
   ]
  },
  {
   "cell_type": "code",
   "execution_count": 4,
   "id": "f2647cf9",
   "metadata": {},
   "outputs": [
    {
     "name": "stdout",
     "output_type": "stream",
     "text": [
      "dog sound\n",
      "Labrador woofs\n",
      "Beagle Barks\n",
      "15\n",
      "30\n"
     ]
    }
   ],
   "source": [
    "# Parent Class\n",
    "class Dog:\n",
    "    def sound(self):\n",
    "        print(\"dog sound\")  # Default implementation\n",
    "\n",
    "# Run-Time Polymorphism: Method Overriding\n",
    "class Labrador(Dog):\n",
    "    def sound(self):\n",
    "        print(\"Labrador woofs\")  # Overriding parent method\n",
    "\n",
    "class Beagle(Dog):\n",
    "    def sound(self):\n",
    "        print(\"Beagle Barks\")  # Overriding parent method\n",
    "\n",
    "# Compile-Time Polymorphism: Method Overloading Mimic\n",
    "class Calculator:\n",
    "    def add(self, a, b=0, c=0):\n",
    "        return a + b + c  # Supports multiple ways to call add()\n",
    "\n",
    "# Run-Time Polymorphism\n",
    "dogs = [Dog(), Labrador(), Beagle()]\n",
    "for dog in dogs:\n",
    "    dog.sound()  # Calls the appropriate method based on the object type\n",
    "\n",
    "\n",
    "# Compile-Time Polymorphism (Mimicked using default arguments)\n",
    "calc = Calculator()\n",
    "print(calc.add(5, 10))  # Two arguments\n",
    "print(calc.add(5, 10, 15))  # Three arguments"
   ]
  },
  {
   "cell_type": "markdown",
   "id": "f20d4b5b",
   "metadata": {},
   "source": [
    "Data Abstraction \n",
    "Abstraction hides the internal implementation details while exposing only the necessary functionality. It helps focus on \"what to do\" rather than \"how to do it.\"\n",
    "\n",
    "Types of Abstraction:\n",
    "Partial Abstraction: Abstract class contains both abstract and concrete methods.\n",
    "Full Abstraction: Abstract class contains only abstract methods (like interfaces)."
   ]
  },
  {
   "cell_type": "code",
   "execution_count": 7,
   "id": "d2ae0a13",
   "metadata": {},
   "outputs": [
    {
     "name": "stdout",
     "output_type": "stream",
     "text": [
      "Dog's Name: Buddy\n",
      "Labrador Woof!\n",
      "Dog's Name: Charlie\n",
      "Beagle Bark!\n"
     ]
    }
   ],
   "source": [
    "from abc import ABC, abstractmethod\n",
    "\n",
    "class Dog(ABC):  # Abstract Class\n",
    "    def __init__(self, name):\n",
    "        self.name = name\n",
    "\n",
    "    @abstractmethod\n",
    "    def sound(self):  # Abstract Method\n",
    "        pass\n",
    "\n",
    "    def display_name(self):  # Concrete Method\n",
    "        print(f\"Dog's Name: {self.name}\")\n",
    "\n",
    "class Labrador(Dog):  # Partial Abstraction\n",
    "    def sound(self):\n",
    "        print(\"Labrador Woof!\")\n",
    "\n",
    "class Beagle(Dog):  # Partial Abstraction\n",
    "    def sound(self):\n",
    "        print(\"Beagle Bark!\")\n",
    "\n",
    "# Example Usage\n",
    "dogs = [Labrador(\"Buddy\"), Beagle(\"Charlie\")]\n",
    "for dog in dogs:\n",
    "    dog.display_name()  # Calls concrete method\n",
    "    dog.sound()  # Calls implemented abstract method"
   ]
  },
  {
   "cell_type": "code",
   "execution_count": 9,
   "id": "3c390dbb",
   "metadata": {},
   "outputs": [
    {
     "name": "stdout",
     "output_type": "stream",
     "text": [
      "12\n"
     ]
    }
   ],
   "source": [
    "def getSecondLargest(arr):\n",
    "    n = len(arr)\n",
    "\n",
    "    largest = -1\n",
    "    secondLargest = -1\n",
    "\n",
    "    # finding the second largest element\n",
    "    for i in range(n):\n",
    "\n",
    "        # If arr[i] > largest, update second largest with\n",
    "        # largest and largest with arr[i]\n",
    "        if arr[i] > largest:\n",
    "            secondLargest = largest\n",
    "            largest = arr[i]\n",
    "      \n",
    "        # If arr[i] < largest and arr[i] > second largest, \n",
    "        # update second largest with arr[i]\n",
    "        elif arr[i] < largest and arr[i] > secondLargest:\n",
    "            secondLargest = arr[i]\n",
    "\n",
    "    return secondLargest\n",
    "\n",
    "if __name__ == \"__main__\":\n",
    "    arr = [12, 35]\n",
    "    print(getSecondLargest(arr))"
   ]
  },
  {
   "cell_type": "markdown",
   "id": "12c52fc5",
   "metadata": {},
   "source": [
    "Method resolution order:\n",
    "\n",
    "In Python, every class whether built-in or user-defined is derived from the object class and all the objects are instances of the class object. Hence, the object class is the base class for all the other classes.\n",
    "In the case of multiple inheritance, a given attribute is first searched in the current class if it's not found then it's searched in the parent classes. The parent classes are searched in a left-right fashion and each class is searched once.\n",
    "If we see the above example then the order of search for the attributes will be Derived, Base1, Base2, object. The order that is followed is known as a linearization of the class Derived and this order is found out using a set of rules called Method Resolution Order (MRO).\n",
    "To view the MRO of a class: \n",
    " \n",
    "\n",
    "Use the mro() method, it returns a list \n",
    "Eg. Class4.mro()\n",
    "Use the _mro_ attribute, it returns a tuple \n",
    "Eg. Class4.__mro__ \n",
    " "
   ]
  },
  {
   "cell_type": "code",
   "execution_count": 10,
   "id": "cb9d66f5",
   "metadata": {},
   "outputs": [
    {
     "name": "stdout",
     "output_type": "stream",
     "text": [
      "[<class '__main__.Class4'>, <class '__main__.Class2'>, <class '__main__.Class3'>, <class '__main__.Class1'>, <class 'object'>]\n",
      "(<class '__main__.Class4'>, <class '__main__.Class2'>, <class '__main__.Class3'>, <class '__main__.Class1'>, <class 'object'>)\n"
     ]
    }
   ],
   "source": [
    "# Python program to demonstrate\n",
    "# super()\n",
    "\n",
    "class Class1:\n",
    "    def m(self):\n",
    "        print(\"In Class1\")\n",
    "\n",
    "class Class2(Class1):\n",
    "    def m(self):\n",
    "        print(\"In Class2\")\n",
    "        super().m()\n",
    "\n",
    "class Class3(Class1):\n",
    "    def m(self):\n",
    "        print(\"In Class3\")\n",
    "        super().m()\n",
    "\n",
    "class Class4(Class2, Class3):\n",
    "    def m(self):\n",
    "        print(\"In Class4\")   \n",
    "        super().m()\n",
    "     \n",
    "print(Class4.mro())         #This will print list\n",
    "print(Class4.__mro__)        #This will print tuple"
   ]
  },
  {
   "cell_type": "markdown",
   "id": "1ec36642",
   "metadata": {},
   "source": [
    "The Diamond Problem is a classic issue in multiple inheritance, where a class inherits from two classes that both inherit from a common base class. It creates ambiguity about which version of a method or attribute should be inherited from the common base.\n",
    "\n",
    "💎 Why It's Called the \"Diamond\" Problem\n",
    "Here’s a visual structure:\n",
    "\n",
    "css\n",
    "Copy\n",
    "Edit\n",
    "        A\n",
    "       / \\\n",
    "      B   C\n",
    "       \\ /\n",
    "        D\n",
    "Class B and C inherit from A.\n",
    "\n",
    "Class D inherits from both B and C.\n",
    "\n",
    "This forms a diamond-shaped inheritance graph, hence the name.\n",
    "\n",
    "❓ The Problem\n",
    "What happens when D calls a method or accesses a variable defined in A?\n",
    "\n",
    "Should Python call A via B?\n",
    "\n",
    "Or A via C?\n",
    "\n",
    "Or call A only once?\n",
    "\n",
    "This ambiguity is the diamond problem.\n",
    "\n",
    "🐍 How Python Solves It: MRO (Method Resolution Order)\n",
    "Python resolves this using the C3 linearization algorithm.\n",
    "\n",
    "In Python 3:\n",
    "\n",
    "The MRO defines a linear path through the inheritance tree.\n",
    "\n",
    "The method is called only once, and in a consistent, well-defined order\n",
    "\n",
    "\n",
    "✅ Summary\n",
    "Feature\tDescription\n",
    "What is it?\tAmbiguity in multiple inheritance from a shared ancestor\n",
    "Why it's a problem?\tSame base class may be inherited multiple times\n",
    "How Python solves it?\tUsing MRO and C3 linearization\n",
    "Is super() safe?\tYes! Python’s super() walks the MRO, ensuring no duplicates"
   ]
  },
  {
   "cell_type": "code",
   "execution_count": 11,
   "id": "3c146c33",
   "metadata": {},
   "outputs": [
    {
     "name": "stdout",
     "output_type": "stream",
     "text": [
      "Hello from D\n",
      "Hello from B\n",
      "Hello from C\n",
      "Hello from A\n"
     ]
    }
   ],
   "source": [
    "class A:\n",
    "    def greet(self):\n",
    "        print(\"Hello from A\")\n",
    "\n",
    "class B(A):\n",
    "    def greet(self):\n",
    "        print(\"Hello from B\")\n",
    "        super().greet()\n",
    "\n",
    "class C(A):\n",
    "    def greet(self):\n",
    "        print(\"Hello from C\")\n",
    "        super().greet()\n",
    "\n",
    "class D(B, C):\n",
    "    def greet(self):\n",
    "        print(\"Hello from D\")\n",
    "        super().greet()\n",
    "\n",
    "d = D()\n",
    "d.greet()\n"
   ]
  },
  {
   "cell_type": "markdown",
   "id": "50faf026",
   "metadata": {},
   "source": [
    "If we do slicing right key is exclusive"
   ]
  },
  {
   "cell_type": "code",
   "execution_count": 1,
   "id": "6332b842",
   "metadata": {},
   "outputs": [
    {
     "data": {
      "text/plain": [
       "[1, 2, 3]"
      ]
     },
     "execution_count": 1,
     "metadata": {},
     "output_type": "execute_result"
    }
   ],
   "source": [
    "li = [1, 2, 3, 4, 5]\n",
    "li[0: 3]"
   ]
  },
  {
   "cell_type": "markdown",
   "id": "b437fb8c",
   "metadata": {},
   "source": [
    "Example for generator"
   ]
  },
  {
   "cell_type": "code",
   "execution_count": 19,
   "id": "126750f3",
   "metadata": {},
   "outputs": [],
   "source": [
    "def mygen(n):\n",
    "    i = 0\n",
    "    while i < n:\n",
    "        yield i\n",
    "        i += 1"
   ]
  },
  {
   "cell_type": "code",
   "execution_count": 21,
   "id": "2be3d7b5",
   "metadata": {},
   "outputs": [
    {
     "name": "stdout",
     "output_type": "stream",
     "text": [
      "0\n",
      "1\n",
      "2\n",
      "3\n",
      "4\n"
     ]
    }
   ],
   "source": [
    "for item in mygen(5):\n",
    "    print(item)"
   ]
  },
  {
   "cell_type": "markdown",
   "id": "0799a779",
   "metadata": {},
   "source": [
    "decoraor without arguments"
   ]
  },
  {
   "cell_type": "code",
   "execution_count": 64,
   "id": "40517027",
   "metadata": {},
   "outputs": [
    {
     "name": "stdout",
     "output_type": "stream",
     "text": [
      "12\n"
     ]
    }
   ],
   "source": [
    "def mydeco(func):\n",
    "    def wrapper(a, b):\n",
    "        if a < 0 or b < 0:\n",
    "            return \"Invalid Numbers\"\n",
    "        return func(a, b)\n",
    "    return wrapper\n",
    "\n",
    "@mydeco\n",
    "def mysum(a, b):\n",
    "    return a + b\n",
    "\n",
    "print(mysum(10, 2))"
   ]
  },
  {
   "cell_type": "markdown",
   "id": "a633f841",
   "metadata": {},
   "source": [
    "decorator with arguments"
   ]
  },
  {
   "cell_type": "code",
   "execution_count": 61,
   "id": "e46d703e",
   "metadata": {},
   "outputs": [
    {
     "name": "stdout",
     "output_type": "stream",
     "text": [
      "12\n"
     ]
    }
   ],
   "source": [
    "def mydeco_new(x, y):\n",
    "    def mydeco(func):\n",
    "        def wrapper(a, b):\n",
    "            if a < x or b < y:\n",
    "                return \"Invalid Numbers\"\n",
    "            return func(a, b)\n",
    "        return wrapper\n",
    "    return mydeco\n",
    "\n",
    "@mydeco_new(0, 0)\n",
    "def mysum(a, b):\n",
    "    return a + b\n",
    "\n",
    "print(mysum(10, 2))"
   ]
  },
  {
   "cell_type": "code",
   "execution_count": 65,
   "id": "23316293",
   "metadata": {},
   "outputs": [
    {
     "name": "stdout",
     "output_type": "stream",
     "text": [
      "3\n"
     ]
    }
   ],
   "source": [
    "import math\n",
    "\n",
    "n = 3.7\n",
    "F_num = math.floor(n)\n",
    "\n",
    "print(F_num)"
   ]
  },
  {
   "cell_type": "code",
   "execution_count": 68,
   "id": "7187f287",
   "metadata": {},
   "outputs": [],
   "source": [
    "def mydeco(x):\n",
    "    def wrapper(func):\n",
    "        def wrapper2(a, b):\n",
    "            if a < x or b < x:\n",
    "                return \"Invalid input\"\n",
    "            return func(a, b)\n",
    "        return wrapper2\n",
    "    return wrapper"
   ]
  },
  {
   "cell_type": "code",
   "execution_count": 71,
   "id": "2f4f5008",
   "metadata": {},
   "outputs": [
    {
     "data": {
      "text/plain": [
       "'Invalid input'"
      ]
     },
     "execution_count": 71,
     "metadata": {},
     "output_type": "execute_result"
    }
   ],
   "source": [
    "@mydeco\n",
    "def sum1(a, b):\n",
    "    return a + b\n",
    "sum1(2, 30)"
   ]
  },
  {
   "cell_type": "code",
   "execution_count": 72,
   "id": "d9fd6e23",
   "metadata": {},
   "outputs": [],
   "source": [
    "x = lambda a, b : 10 if a > b else 20"
   ]
  },
  {
   "cell_type": "code",
   "execution_count": 75,
   "id": "5a596593",
   "metadata": {},
   "outputs": [
    {
     "data": {
      "text/plain": [
       "10"
      ]
     },
     "execution_count": 75,
     "metadata": {},
     "output_type": "execute_result"
    }
   ],
   "source": [
    "x(3, 2)"
   ]
  },
  {
   "cell_type": "code",
   "execution_count": 79,
   "id": "a0f1247d",
   "metadata": {},
   "outputs": [],
   "source": [
    "li = [10, 3, 8, 3, 4, 6, 1, 20]"
   ]
  },
  {
   "cell_type": "code",
   "execution_count": 85,
   "id": "3a610c71",
   "metadata": {},
   "outputs": [
    {
     "data": {
      "text/plain": [
       "[20, 10, 8, 6, 4, 3, 3, 1]"
      ]
     },
     "execution_count": 85,
     "metadata": {},
     "output_type": "execute_result"
    }
   ],
   "source": [
    "li.sort(reverse=True)\n",
    "li"
   ]
  },
  {
   "cell_type": "code",
   "execution_count": 82,
   "id": "73e42cf4",
   "metadata": {},
   "outputs": [],
   "source": [
    "li2 = [10, 3, 8, 3, 4, 6, 1, 20]"
   ]
  },
  {
   "cell_type": "code",
   "execution_count": 84,
   "id": "5e27121b",
   "metadata": {},
   "outputs": [
    {
     "data": {
      "text/plain": [
       "[1, 3, 3, 4, 6, 8, 10, 20]"
      ]
     },
     "execution_count": 84,
     "metadata": {},
     "output_type": "execute_result"
    }
   ],
   "source": [
    "new_li = sorted(li2, reverse=True)\n",
    "new_li"
   ]
  },
  {
   "cell_type": "code",
   "execution_count": 87,
   "id": "d4dcc51a",
   "metadata": {},
   "outputs": [
    {
     "data": {
      "text/plain": [
       "[(7, 5), (4, 6), (9, 10), (2, 13), (1, 20)]"
      ]
     },
     "execution_count": 87,
     "metadata": {},
     "output_type": "execute_result"
    }
   ],
   "source": [
    "li = [(1, 20), (7, 5), (4, 6), (9, 10), (2, 13)]\n",
    "li.sort(key=lambda x: x[1])\n",
    "li"
   ]
  },
  {
   "cell_type": "code",
   "execution_count": 94,
   "id": "1995149a",
   "metadata": {},
   "outputs": [],
   "source": [
    "li = [{\"name\": \"saurabh\", \"age\": 32, \"dept\": \"IT\"}, \n",
    "      {\"name\": \"aurabh\", \"age\": 39, \"dept\": \"T\"}, \n",
    "      {\"name\": \"urabh\", \"age\": 35, \"dept\": \"AT\"}]"
   ]
  },
  {
   "cell_type": "code",
   "execution_count": 95,
   "id": "eef0dfd4",
   "metadata": {},
   "outputs": [
    {
     "data": {
      "text/plain": [
       "[{'name': 'urabh', 'age': 35, 'dept': 'AT'},\n",
       " {'name': 'saurabh', 'age': 32, 'dept': 'IT'},\n",
       " {'name': 'aurabh', 'age': 39, 'dept': 'T'}]"
      ]
     },
     "execution_count": 95,
     "metadata": {},
     "output_type": "execute_result"
    }
   ],
   "source": [
    "li.sort(key=lambda x: x[\"dept\"])\n",
    "li"
   ]
  },
  {
   "cell_type": "code",
   "execution_count": 96,
   "id": "07dd846b",
   "metadata": {},
   "outputs": [
    {
     "data": {
      "text/plain": [
       "{1: 20, 7: 5, 4: 6, 9: 10, 2: 13}"
      ]
     },
     "execution_count": 96,
     "metadata": {},
     "output_type": "execute_result"
    }
   ],
   "source": [
    "li = [(1, 20), (7, 5), (4, 6), (9, 10), (2, 13)]\n",
    "d = {'name': 'urabh', 'age': 35, 'dept': 'AT'}\n",
    "{x:y for x, y in li}"
   ]
  },
  {
   "cell_type": "code",
   "execution_count": 97,
   "id": "6bfa0fbd",
   "metadata": {},
   "outputs": [
    {
     "name": "stdout",
     "output_type": "stream",
     "text": [
      "0-->a\n",
      "1-->b\n",
      "2-->c\n",
      "3-->d\n"
     ]
    }
   ],
   "source": [
    "li = [\"a\", \"b\", \"c\", \"d\"]\n",
    "for i, j in enumerate(li):\n",
    "    print(i, j, sep=\"-->\")"
   ]
  },
  {
   "cell_type": "code",
   "execution_count": 105,
   "id": "e3663dbe",
   "metadata": {},
   "outputs": [
    {
     "data": {
      "text/plain": [
       "{3: 'd'}"
      ]
     },
     "execution_count": 105,
     "metadata": {},
     "output_type": "execute_result"
    }
   ],
   "source": [
    "li = [\"a\", \"b\", \"c\", \"d\"]\n",
    "{x:y for x, y in enumerate(li) if x > 2}"
   ]
  },
  {
   "cell_type": "markdown",
   "id": "534d67bc",
   "metadata": {},
   "source": [
    "22. What is the difference between Python Arrays and Lists?\n",
    "Arrays (when talking about the array module in Python) are specifically used to store a collection of numeric elements that are all of the same type. This makes them more efficient for storing large amounts of data and performing numerical computations where the type consistency is maintained.\n",
    "Syntax: Need to import the array module to use arrays."
   ]
  },
  {
   "cell_type": "code",
   "execution_count": 112,
   "id": "899d18d1",
   "metadata": {},
   "outputs": [
    {
     "ename": "NameError",
     "evalue": "name 'size' is not defined",
     "output_type": "error",
     "traceback": [
      "\u001b[1;31m---------------------------------------------------------------------------\u001b[0m",
      "\u001b[1;31mNameError\u001b[0m                                 Traceback (most recent call last)",
      "\u001b[1;32m~\\AppData\\Local\\Temp\\ipykernel_27484\\2527947973.py\u001b[0m in \u001b[0;36m<module>\u001b[1;34m\u001b[0m\n\u001b[0;32m      1\u001b[0m \u001b[1;32mfrom\u001b[0m \u001b[0marray\u001b[0m \u001b[1;32mimport\u001b[0m \u001b[0marray\u001b[0m\u001b[1;33m\u001b[0m\u001b[1;33m\u001b[0m\u001b[0m\n\u001b[0;32m      2\u001b[0m \u001b[0marr\u001b[0m \u001b[1;33m=\u001b[0m \u001b[0marray\u001b[0m\u001b[1;33m(\u001b[0m\u001b[1;34m'i'\u001b[0m\u001b[1;33m,\u001b[0m \u001b[1;33m[\u001b[0m\u001b[1;36m1\u001b[0m\u001b[1;33m,\u001b[0m \u001b[1;36m2\u001b[0m\u001b[1;33m,\u001b[0m \u001b[1;36m3\u001b[0m\u001b[1;33m,\u001b[0m \u001b[1;36m4\u001b[0m\u001b[1;33m]\u001b[0m\u001b[1;33m)\u001b[0m  \u001b[1;31m# Array of integers\u001b[0m\u001b[1;33m\u001b[0m\u001b[1;33m\u001b[0m\u001b[0m\n\u001b[1;32m----> 3\u001b[1;33m \u001b[0msize\u001b[0m\u001b[1;33m(\u001b[0m\u001b[0marr\u001b[0m\u001b[1;33m[\u001b[0m\u001b[1;36m2\u001b[0m\u001b[1;33m]\u001b[0m\u001b[1;33m)\u001b[0m\u001b[1;33m\u001b[0m\u001b[1;33m\u001b[0m\u001b[0m\n\u001b[0m",
      "\u001b[1;31mNameError\u001b[0m: name 'size' is not defined"
     ]
    }
   ],
   "source": [
    "from array import array\n",
    "arr = array('i', [1, 2, 3, 4])  # Array of integers\n",
    "size(arr[2].size"
   ]
  },
  {
   "cell_type": "code",
   "execution_count": 121,
   "id": "f0069a5c",
   "metadata": {},
   "outputs": [
    {
     "name": "stdout",
     "output_type": "stream",
     "text": [
      "li--->  [[[1, 7], 2], [3, 4], 6]\n",
      "li2-->  [[[9, 7], 2], [3, 4], 6]\n"
     ]
    }
   ],
   "source": [
    "import copy\n",
    "li = [[[1, 7], 2], [3, 4], 6]\n",
    "li2 = copy.deepcopy(li)\n",
    "li2[0][0][0] = 9\n",
    "print(\"li---> \", li)\n",
    "print(\"li2--> \", li2)\n"
   ]
  },
  {
   "cell_type": "markdown",
   "id": "b6967a70",
   "metadata": {},
   "source": [
    "🧠 What is __call__?\n",
    "In Python, __call__ is a special method that allows an instance of a class to be called like a function.\n",
    "\n",
    "| Concept     | Description                                    |\n",
    "| ----------- | ---------------------------------------------- |\n",
    "| `__call__`  | Makes an object callable like a function       |\n",
    "| Common uses | Decorators, wrappers, stateful logic           |\n",
    "| Benefits    | Combines object-oriented and functional styles |\n",
    "| Real-world  | Libraries like `sklearn`, `FastAPI`, `torch`   |\n"
   ]
  },
  {
   "cell_type": "code",
   "execution_count": 123,
   "id": "d6d2e41d",
   "metadata": {},
   "outputs": [
    {
     "name": "stdout",
     "output_type": "stream",
     "text": [
      "Called 1 times\n",
      "Called 2 times\n"
     ]
    }
   ],
   "source": [
    "class Counter:\n",
    "    def __init__(self):\n",
    "        self.count = 0\n",
    "\n",
    "    def __call__(self):\n",
    "        self.count += 1\n",
    "        print(f\"Called {self.count} times\")\n",
    "\n",
    "c = Counter()\n",
    "c()  # Called 1 times\n",
    "c()  # Called 2 times"
   ]
  },
  {
   "cell_type": "markdown",
   "id": "dd176aaf",
   "metadata": {},
   "source": [
    "🧠 What Is a Class Decorator?\n",
    "A class decorator is a function (or a class with __call__) that takes a class as input, modifies it, and returns a new or modified class.\n",
    "\n",
    "It's similar to a function decorator — but it works on a class instead of a function.\n",
    "\n",
    "✅ When to Use Class Decorators?\n",
    "Add methods or attributes to a class\n",
    "\n",
    "Inject behavior like validation, logging, access control\n",
    "\n",
    "Automatically register classes (e.g., plugin systems)\n",
    "\n"
   ]
  },
  {
   "cell_type": "code",
   "execution_count": 124,
   "id": "9849fbeb",
   "metadata": {},
   "outputs": [
    {
     "name": "stdout",
     "output_type": "stream",
     "text": [
      "<Person object: {'name': 'Saurabh', 'age': 30}>\n"
     ]
    }
   ],
   "source": [
    "def add_repr(cls):\n",
    "    def __repr__(self):\n",
    "        return f\"<{cls.__name__} object: {self.__dict__}>\"\n",
    "    cls.__repr__ = __repr__\n",
    "    return cls\n",
    "\n",
    "@add_repr\n",
    "class Person:\n",
    "    def __init__(self, name, age):\n",
    "        self.name = name\n",
    "        self.age = age\n",
    "\n",
    "p = Person(\"Saurabh\", 30)\n",
    "print(p)  # <Person object: {'name': 'Saurabh', 'age': 30}>"
   ]
  },
  {
   "cell_type": "code",
   "execution_count": null,
   "id": "a8665d4f",
   "metadata": {},
   "outputs": [],
   "source": [
    "def validate_fields(cls):\n",
    "    orig_init = cls.__init__\n",
    "    def new_init(self, name, age):\n",
    "        if not name or not isinstance(age, int):\n",
    "            raise ValueError(\"Invalid data\")\n",
    "        orig_init(self, name, age)\n",
    "    cls.__init__ = new_init\n",
    "    return cls\n",
    "\n",
    "@validate_fields\n",
    "class User:\n",
    "    def __init__(self, name, age):\n",
    "        self.name = name\n",
    "        self.age = age\n",
    "\n",
    "u = User(\"Saurabh\", 35)  # OK\n",
    "# u = User(\"\", \"35\")     # ❌ Raises ValueError"
   ]
  },
  {
   "cell_type": "code",
   "execution_count": 125,
   "id": "71b678ab",
   "metadata": {},
   "outputs": [
    {
     "name": "stdout",
     "output_type": "stream",
     "text": [
      "[LOG] Creating instance of Product\n"
     ]
    }
   ],
   "source": [
    "class Logger:\n",
    "    def __init__(self, cls):\n",
    "        self.cls = cls\n",
    "\n",
    "    def __call__(self, *args, **kwargs):\n",
    "        print(f\"[LOG] Creating instance of {self.cls.__name__}\")\n",
    "        return self.cls(*args, **kwargs)\n",
    "\n",
    "@Logger\n",
    "class Product:\n",
    "    def __init__(self, name):\n",
    "        self.name = name\n",
    "\n",
    "p = Product(\"Book\")  # Logs creation"
   ]
  },
  {
   "cell_type": "markdown",
   "id": "37809204",
   "metadata": {},
   "source": [
    "31. How do you debug a Python program?\n",
    "1. Using pdb (Python Debugger):\n",
    "\n",
    "pdb is a built-in module that allows you to set breakpoints and step through the code line by line. You can start the debugger by adding import pdb; pdb.set_trace() in your code where you want to begin debugging."
   ]
  },
  {
   "cell_type": "code",
   "execution_count": null,
   "id": "13d9e6c3",
   "metadata": {},
   "outputs": [],
   "source": [
    "import pdb\n",
    "x = 5\n",
    "pdb.set_trace()  # Debugger starts here\n",
    "print(x)"
   ]
  },
  {
   "cell_type": "markdown",
   "id": "7d7e40d8",
   "metadata": {},
   "source": [
    "2. Using logging Module:\n",
    "\n",
    "For more advanced debugging, the logging module provides a flexible way to log messages with different severity levels (INFO, DEBUG, WARNING, ERROR, CRITICAL)."
   ]
  },
  {
   "cell_type": "code",
   "execution_count": 126,
   "id": "37e429b9",
   "metadata": {},
   "outputs": [
    {
     "name": "stderr",
     "output_type": "stream",
     "text": [
      "DEBUG:root:This is a debug message\n"
     ]
    }
   ],
   "source": [
    "import logging\n",
    "logging.basicConfig(level=logging.DEBUG)\n",
    "logging.debug(\"This is a debug message\")"
   ]
  },
  {
   "cell_type": "markdown",
   "id": "d8236cf4",
   "metadata": {},
   "source": [
    "In Python, iterators are used to iterate a group of elements, containers like a list. Iterators are collections of items and they can be a list, tuples, or a dictionary. Python iterator implements __itr__ and the next() method to iterate the stored elements. We generally use loops to iterate over the collections (list, tuple) in Python.\n",
    "\n"
   ]
  },
  {
   "cell_type": "markdown",
   "id": "fc81d469",
   "metadata": {},
   "source": [
    "33. What are Generators in Python?\n",
    "In Python, the generator is a way that specifies how to implement iterators. It is a normal function except that it yields expression in the function. It does not implement __itr__ and __next__ method and reduces other overheads as well.\n",
    "\n",
    "If a function contains at least a yield statement, it becomes a generator. The yield keyword pauses the current execution by saving its states and then resumes from the same when required."
   ]
  },
  {
   "cell_type": "markdown",
   "id": "5decdd4c",
   "metadata": {},
   "source": [
    "🔄 Threading Works Well For I/O-Bound Tasks\n",
    "Examples:\n",
    "Reading/writing files\n",
    "\n",
    "Making API requests\n",
    "\n",
    "Waiting on a database or network\n",
    "\n",
    "Delaying with time.sleep()\n",
    "\n",
    "While one thread waits for I/O, another thread can acquire the GIL and run."
   ]
  },
  {
   "cell_type": "code",
   "execution_count": 130,
   "id": "1e37a0c8",
   "metadata": {},
   "outputs": [
    {
     "name": "stdout",
     "output_type": "stream",
     "text": [
      "Start downloading from url1\n",
      "Start downloading from url2\n",
      "Start downloading from url3\n",
      "Finished downloading from url1Finished downloading from url2\n",
      "\n",
      "Finished downloading from url3\n",
      "All downloads complete.\n"
     ]
    }
   ],
   "source": [
    "import threading\n",
    "import time\n",
    "\n",
    "def download_data(url):\n",
    "    print(f\"Start downloading from {url}\")\n",
    "    time.sleep(2)  # Simulate I/O delay\n",
    "    print(f\"Finished downloading from {url}\")\n",
    "\n",
    "urls = [\"url1\", \"url2\", \"url3\"]\n",
    "threads = []\n",
    "\n",
    "for url in urls:\n",
    "    t = threading.Thread(target=download_data, args=(url,))\n",
    "    t.start()\n",
    "    threads.append(t)\n",
    "\n",
    "for t in threads:\n",
    "    t.join()\n",
    "\n",
    "print(\"All downloads complete.\")"
   ]
  },
  {
   "cell_type": "markdown",
   "id": "92ee1382",
   "metadata": {},
   "source": [
    "✅ Solution for CPU-bound: multiprocessing\n",
    "Use the multiprocessing module instead — it launches separate processes, each with its own Python interpreter and memory space (no GIL!)."
   ]
  },
  {
   "cell_type": "code",
   "execution_count": null,
   "id": "0a6d7a4c",
   "metadata": {},
   "outputs": [],
   "source": [
    "from multiprocessing import Process\n",
    "\n",
    "def cpu_heavy(n):\n",
    "    count = 0\n",
    "    for i in range(n):\n",
    "        count += i * i\n",
    "\n",
    "p1 = Process(target=cpu_heavy, args=(10**7,))\n",
    "p2 = Process(target=cpu_heavy, args=(10**7,))\n",
    "p1.start()\n",
    "p2.start()\n",
    "p1.join()\n",
    "p2.join()"
   ]
  },
  {
   "cell_type": "code",
   "execution_count": 131,
   "id": "cbba3490",
   "metadata": {},
   "outputs": [
    {
     "name": "stdout",
     "output_type": "stream",
     "text": [
      "5\n",
      "4\n",
      "3\n",
      "2\n",
      "1\n"
     ]
    }
   ],
   "source": [
    "numbers = [1, 2, 3, 4, 5]\n",
    "\n",
    "while (n := len(numbers)) > 0:\n",
    "    print(numbers.pop())"
   ]
  },
  {
   "cell_type": "markdown",
   "id": "431d74cb",
   "metadata": {},
   "source": [
    "Counters are a subclass of the dict class in Python collections module. They are used to count the occurrences of elements in an iterable or to count the frequency of items in a mapping. Counters provide a clean and efficient way to tally up elements and perform various operations related to counting."
   ]
  },
  {
   "cell_type": "code",
   "execution_count": 133,
   "id": "51357e13",
   "metadata": {},
   "outputs": [],
   "source": [
    "from collections import Counter"
   ]
  },
  {
   "cell_type": "code",
   "execution_count": 134,
   "id": "30cbf3d6",
   "metadata": {},
   "outputs": [
    {
     "data": {
      "text/plain": [
       "Counter({1: 3, 2: 1, 3: 3, 5: 1, 6: 1})"
      ]
     },
     "execution_count": 134,
     "metadata": {},
     "output_type": "execute_result"
    }
   ],
   "source": [
    "Counter([1, 2, 3, 5, 1, 1, 3, 3, 6])"
   ]
  },
  {
   "cell_type": "code",
   "execution_count": 135,
   "id": "59f20aae",
   "metadata": {},
   "outputs": [
    {
     "name": "stdout",
     "output_type": "stream",
     "text": [
      "Counter({2: 3, 3: 3, 1: 1, 4: 1})\n",
      "Counter({1: 1, 2: 1})\n",
      "Counter({2: 1, 3: 1})\n",
      "Counter({2: 2, 3: 2, 1: 1, 4: 1})\n"
     ]
    }
   ],
   "source": [
    "from collections import Counter\n",
    "\n",
    "ctr1 = Counter([1, 2, 2, 3])\n",
    "ctr2 = Counter([2, 3, 3, 4])\n",
    "\n",
    "# Addition\n",
    "print(ctr1 + ctr2)  \n",
    "# Subtraction\n",
    "print(ctr1 - ctr2)  \n",
    "\n",
    "# Intersection\n",
    "print(ctr1 & ctr2)  \n",
    "# Union\n",
    "print(ctr1 | ctr2)"
   ]
  },
  {
   "cell_type": "code",
   "execution_count": 136,
   "id": "b8b51ad1",
   "metadata": {},
   "outputs": [
    {
     "name": "stdout",
     "output_type": "stream",
     "text": [
      "Counter({2: 3, 3: 3, 1: 1})\n"
     ]
    }
   ],
   "source": [
    "ctr = Counter([1, 2, 2])\n",
    "\n",
    "# Adding new elements\n",
    "ctr.update([2, 3, 3, 3])\n",
    "\n",
    "print(ctr)"
   ]
  },
  {
   "cell_type": "code",
   "execution_count": 138,
   "id": "a58b44d0",
   "metadata": {},
   "outputs": [
    {
     "name": "stdout",
     "output_type": "stream",
     "text": [
      "[1, 2, 2, 3, 3, 3]\n"
     ]
    }
   ],
   "source": [
    "ctr = Counter([1, 2, 2, 3, 3, 3])\n",
    "items = list(ctr.elements())\n",
    "\n",
    "print(items)"
   ]
  },
  {
   "cell_type": "code",
   "execution_count": 137,
   "id": "ca47789d",
   "metadata": {},
   "outputs": [
    {
     "name": "stdout",
     "output_type": "stream",
     "text": [
      "[(3, 3), (2, 2)]\n"
     ]
    }
   ],
   "source": [
    "ctr = Counter([1, 2, 2, 3, 3, 3])\n",
    "common = ctr.most_common(2)\n",
    "\n",
    "print(common)"
   ]
  },
  {
   "cell_type": "code",
   "execution_count": 144,
   "id": "4429f432",
   "metadata": {},
   "outputs": [
    {
     "name": "stdout",
     "output_type": "stream",
     "text": [
      "Counter({3: 3, 2: 2, 1: 1})\n"
     ]
    }
   ],
   "source": [
    "ctr = Counter([1, 2, 2, 3, 3, 3])\n",
    "# ctr.subtract([2, 3, 3])\n",
    "\n",
    "print(ctr)"
   ]
  },
  {
   "cell_type": "code",
   "execution_count": 145,
   "id": "0ddc6a20",
   "metadata": {},
   "outputs": [
    {
     "data": {
      "text/plain": [
       "[1, 2, 2, 3, 3, 3]"
      ]
     },
     "execution_count": 145,
     "metadata": {},
     "output_type": "execute_result"
    }
   ],
   "source": [
    "list(ctr.elements())"
   ]
  },
  {
   "cell_type": "markdown",
   "id": "c87f54bd",
   "metadata": {},
   "source": [
    "OrderedDict\n",
    "An OrderedDict is a type of dictionary that keeps track of the order in which keys were added. While Python dictionaries started keeping insertion order from version 3.7, OrderedDict has always done this, even in earlier versions of Python.\n",
    "\n",
    "In simple terms, both regular dictionaries (from Python 3.7 onwards) and OrderedDict remember the order in which keys are inserted, but OrderedDict has extra features. For example, when you remove a key and then add it back, it will be placed at the end of the dictionary in an OrderedDict."
   ]
  },
  {
   "cell_type": "code",
   "execution_count": 149,
   "id": "bb6a3a9a",
   "metadata": {},
   "outputs": [
    {
     "name": "stdout",
     "output_type": "stream",
     "text": [
      "This is a Dict:\n",
      "\n",
      "b 2\n",
      "c 3\n",
      "d 4\n",
      "a 1\n",
      "\n",
      "This is an Ordered Dict:\n",
      "\n",
      "b 2\n",
      "c 3\n",
      "d 4\n",
      "a 1\n"
     ]
    }
   ],
   "source": [
    "# A Python program to demonstrate working\n",
    "# of OrderedDict \n",
    "\n",
    "from collections import OrderedDict \n",
    "  \n",
    "print(\"This is a Dict:\\n\") \n",
    "d = {} \n",
    "d['a'] = 1\n",
    "d['b'] = 2\n",
    "d['c'] = 3\n",
    "d['d'] = 4\n",
    "\n",
    "d.pop('a')\n",
    "\n",
    "d['a'] = 1\n",
    "for key, value in d.items(): \n",
    "    print(key, value) \n",
    "  \n",
    "print(\"\\nThis is an Ordered Dict:\\n\") \n",
    "od = OrderedDict() \n",
    "od['a'] = 1\n",
    "od['b'] = 2\n",
    "od['c'] = 3\n",
    "od['d'] = 4\n",
    "od.pop('a')\n",
    "\n",
    "od['a'] = 1\n",
    "for key, value in od.items(): \n",
    "    print(key, value)"
   ]
  },
  {
   "cell_type": "code",
   "execution_count": 153,
   "id": "ede41d2f",
   "metadata": {},
   "outputs": [],
   "source": [
    "d1 = {1: 2, 3: 4}\n",
    "d2 = {3: 4, 1: 2}"
   ]
  },
  {
   "cell_type": "markdown",
   "id": "1e220657",
   "metadata": {},
   "source": [
    "Why True?\n",
    "Because both have the same keys and same values\n",
    "\n",
    "Order doesn't matter when comparing dicts (even though dicts are ordered from Python 3.7+)"
   ]
  },
  {
   "cell_type": "code",
   "execution_count": 157,
   "id": "6e076042",
   "metadata": {},
   "outputs": [
    {
     "data": {
      "text/plain": [
       "True"
      ]
     },
     "execution_count": 157,
     "metadata": {},
     "output_type": "execute_result"
    }
   ],
   "source": [
    "d1 == d2"
   ]
  },
  {
   "cell_type": "code",
   "execution_count": 155,
   "id": "ec1da29f",
   "metadata": {},
   "outputs": [
    {
     "data": {
      "text/plain": [
       "1621697690752"
      ]
     },
     "execution_count": 155,
     "metadata": {},
     "output_type": "execute_result"
    }
   ],
   "source": [
    "id(d1)"
   ]
  },
  {
   "cell_type": "code",
   "execution_count": 156,
   "id": "5f8ed8ca",
   "metadata": {},
   "outputs": [
    {
     "data": {
      "text/plain": [
       "1621714487552"
      ]
     },
     "execution_count": 156,
     "metadata": {},
     "output_type": "execute_result"
    }
   ],
   "source": [
    "id(d2)"
   ]
  },
  {
   "cell_type": "code",
   "execution_count": 158,
   "id": "5da3ca4c",
   "metadata": {},
   "outputs": [
    {
     "name": "stdout",
     "output_type": "stream",
     "text": [
      "set()\n",
      "{'c'}\n",
      "{'b': (2, 3)}\n"
     ]
    }
   ],
   "source": [
    "d1 = {'a': 1, 'b': 2}\n",
    "d2 = {'a': 1, 'b': 3, 'c': 4}\n",
    "\n",
    "# Keys only in d1\n",
    "print(d1.keys() - d2.keys())  # {'b'}\n",
    "# Keys only in d2\n",
    "print(d2.keys() - d1.keys())  # {'c'}\n",
    "# Common keys with different values\n",
    "print({k: (d1[k], d2[k]) for k in d1.keys() & d2.keys() if d1[k] != d2[k]})  # {'b': (2, 3)}\n"
   ]
  },
  {
   "cell_type": "code",
   "execution_count": 159,
   "id": "9c10d2d9",
   "metadata": {},
   "outputs": [
    {
     "name": "stdout",
     "output_type": "stream",
     "text": [
      "OrderedDict([('x', 10), ('y', 20), ('z', 30)])\n"
     ]
    }
   ],
   "source": [
    "from collections import OrderedDict\n",
    "\n",
    "od = OrderedDict([('x', 10), ('y', 20), ('z', 30)])\n",
    "od.move_to_end('x', last=False)  # move to beginning\n",
    "print(od)  # OrderedDict([('x', 10), ('y', 20), ('z', 30)])\n"
   ]
  },
  {
   "cell_type": "code",
   "execution_count": 160,
   "id": "f4af122d",
   "metadata": {},
   "outputs": [
    {
     "name": "stdout",
     "output_type": "stream",
     "text": [
      "True\n"
     ]
    }
   ],
   "source": [
    "from collections import OrderedDict\n",
    "print({'a': 1, 'b': 2} == OrderedDict([('a', 1), ('b', 2)]))  # ✅ True\n"
   ]
  },
  {
   "cell_type": "code",
   "execution_count": 162,
   "id": "81d3ecff",
   "metadata": {},
   "outputs": [
    {
     "name": "stdout",
     "output_type": "stream",
     "text": [
      "c 3\n",
      "b 2\n",
      "a 1\n"
     ]
    }
   ],
   "source": [
    "from collections import OrderedDict\n",
    "\n",
    "d1 = OrderedDict([('a', 1), ('b', 2), ('c', 3)])\n",
    "d2 = OrderedDict(reversed(list(d1.items())))\n",
    "\n",
    "for k, v in d2.items():\n",
    "    print(k, v)\n"
   ]
  },
  {
   "cell_type": "code",
   "execution_count": 174,
   "id": "72449dda",
   "metadata": {},
   "outputs": [
    {
     "name": "stdout",
     "output_type": "stream",
     "text": [
      "1\n",
      "('b', 2)\n",
      "('d', 4)\n"
     ]
    }
   ],
   "source": [
    "from collections import OrderedDict\n",
    "d = OrderedDict([('a', 1), ('b', 2), ('c', 3), ('d', 4)])\n",
    "\n",
    "res = d.pop('a')  # delete specific key\n",
    "print(res)\n",
    "\n",
    "res = d.popitem(last=False)  # Remove first item\n",
    "print(res)\n",
    "\n",
    "res = d.popitem()  # Remove last item\n",
    "print(res)"
   ]
  },
  {
   "cell_type": "code",
   "execution_count": 167,
   "id": "b5abe460",
   "metadata": {},
   "outputs": [
    {
     "name": "stdout",
     "output_type": "stream",
     "text": [
      "b 2\n",
      "c 3\n",
      "a 1\n"
     ]
    }
   ],
   "source": [
    "from collections import OrderedDict\n",
    "d = OrderedDict([('a', 1), ('b', 2), ('c', 3)])\n",
    "\n",
    "d.move_to_end('a')         # Move 'a' to end\n",
    "d.move_to_end('b', last=False)  # Move 'b' to front\n",
    "\n",
    "for k, v in d.items():\n",
    "    print(k, v)"
   ]
  },
  {
   "cell_type": "markdown",
   "id": "75c9a951",
   "metadata": {},
   "source": [
    "7. Deleting and re-inserting keys\n",
    "Deleting and re-inserting a key in an OrderedDict moves it to the end, preserving insertion order useful for tracking recent actions or updating featured items."
   ]
  },
  {
   "cell_type": "code",
   "execution_count": 168,
   "id": "a754047a",
   "metadata": {},
   "outputs": [
    {
     "name": "stdout",
     "output_type": "stream",
     "text": [
      "a 1\n",
      "b 2\n",
      "d 4\n",
      "a 1\n",
      "b 2\n",
      "d 4\n",
      "c 3\n"
     ]
    }
   ],
   "source": [
    "from collections import OrderedDict\n",
    "od = OrderedDict([('a', 1), ('b', 2), ('c', 3), ('d', 4)])\n",
    "od.pop('c')    # Delete 'c'\n",
    "\n",
    "for k, v in od.items():\n",
    "    print(k, v)\n",
    "\n",
    "od['c'] = 3    # Re-insert 'c' at end\n",
    "for k, v in od.items():\n",
    "    print(k, v)"
   ]
  },
  {
   "cell_type": "markdown",
   "id": "c15d58ca",
   "metadata": {},
   "source": [
    " But this:\n",
    "\n",
    "Creates a new object\n",
    "\n",
    "Not efficient for large dictionaries"
   ]
  },
  {
   "cell_type": "code",
   "execution_count": 169,
   "id": "719e4a40",
   "metadata": {},
   "outputs": [],
   "source": [
    "a = {1:2, 3: 4}\n",
    "b = {5:6, **a}"
   ]
  },
  {
   "cell_type": "code",
   "execution_count": 170,
   "id": "aa062d25",
   "metadata": {
    "scrolled": true
   },
   "outputs": [
    {
     "data": {
      "text/plain": [
       "{5: 6, 1: 2, 3: 4}"
      ]
     },
     "execution_count": 170,
     "metadata": {},
     "output_type": "execute_result"
    }
   ],
   "source": [
    "b"
   ]
  },
  {
   "cell_type": "markdown",
   "id": "0c5ba826",
   "metadata": {},
   "source": [
    "Reversing a dictionary"
   ]
  },
  {
   "cell_type": "code",
   "execution_count": 171,
   "id": "a4d59840",
   "metadata": {},
   "outputs": [
    {
     "data": {
      "text/plain": [
       "{3: 4, 1: 2}"
      ]
     },
     "execution_count": 171,
     "metadata": {},
     "output_type": "execute_result"
    }
   ],
   "source": [
    "a = {1:2, 3: 4}\n",
    "dict(reversed(list(a.items())))"
   ]
  },
  {
   "cell_type": "markdown",
   "id": "d2c8b7c9",
   "metadata": {},
   "source": [
    "Defaultdict in Python\n",
    "In Python, defaultdict is a subclass of the built-in dict class from the collections module. It is used to provide a default value for a nonexistent key in the dictionary, eliminating the need for checking if the key exists before using it."
   ]
  },
  {
   "cell_type": "code",
   "execution_count": 187,
   "id": "6bdd02d3",
   "metadata": {},
   "outputs": [
    {
     "name": "stdout",
     "output_type": "stream",
     "text": [
      "defaultdict(<class 'list'>, {'fruits': ['apple'], 'vegetables': ['carrot']})\n",
      "[]\n"
     ]
    }
   ],
   "source": [
    "from collections import defaultdict, OrderedDict\n",
    "\n",
    "d = defaultdict(list)\n",
    "\n",
    "d['fruits'].append('apple')\n",
    "d['vegetables'].append('carrot')\n",
    "print(d)\n",
    "\n",
    "print(d['juices'])"
   ]
  },
  {
   "cell_type": "code",
   "execution_count": 178,
   "id": "3ed3d785",
   "metadata": {},
   "outputs": [
    {
     "data": {
      "text/plain": [
       "0"
      ]
     },
     "execution_count": 178,
     "metadata": {},
     "output_type": "execute_result"
    }
   ],
   "source": [
    "d = defaultdict(int)\n",
    "d[0] = 1\n",
    "d[1] = 2\n",
    "d[2]"
   ]
  },
  {
   "cell_type": "code",
   "execution_count": 177,
   "id": "563af0e6",
   "metadata": {},
   "outputs": [
    {
     "data": {
      "text/plain": [
       "0.0"
      ]
     },
     "execution_count": 177,
     "metadata": {},
     "output_type": "execute_result"
    }
   ],
   "source": [
    "d = defaultdict(float)\n",
    "d[0] = 1\n",
    "d[1] = 2\n",
    "d[2]"
   ]
  },
  {
   "cell_type": "code",
   "execution_count": 182,
   "id": "83672ac6",
   "metadata": {},
   "outputs": [
    {
     "data": {
      "text/plain": [
       "0j"
      ]
     },
     "execution_count": 182,
     "metadata": {},
     "output_type": "execute_result"
    }
   ],
   "source": [
    "d = defaultdict(complex)\n",
    "d[0] = 1 + 2j\n",
    "d[1] = 2\n",
    "d[2]"
   ]
  },
  {
   "cell_type": "code",
   "execution_count": 184,
   "id": "c0d70c8b",
   "metadata": {},
   "outputs": [
    {
     "data": {
      "text/plain": [
       "defaultdict(tuple, {0: 1, 1: 2})"
      ]
     },
     "execution_count": 184,
     "metadata": {},
     "output_type": "execute_result"
    }
   ],
   "source": [
    "d = defaultdict(tuple)\n",
    "d[0] = 1\n",
    "d[1] = 2\n",
    "d"
   ]
  },
  {
   "cell_type": "code",
   "execution_count": 186,
   "id": "02f0c2a7",
   "metadata": {},
   "outputs": [
    {
     "data": {
      "text/plain": [
       "defaultdict(set, {0: 1, 1: 2})"
      ]
     },
     "execution_count": 186,
     "metadata": {},
     "output_type": "execute_result"
    }
   ],
   "source": [
    "d = defaultdict(set)\n",
    "d[0] = 1\n",
    "d[1] = 2\n",
    "d"
   ]
  },
  {
   "cell_type": "code",
   "execution_count": 196,
   "id": "04571e71",
   "metadata": {},
   "outputs": [
    {
     "data": {
      "text/plain": [
       "OrderedDict()"
      ]
     },
     "execution_count": 196,
     "metadata": {},
     "output_type": "execute_result"
    }
   ],
   "source": [
    "d = defaultdict(OrderedDict)\n",
    "d[0] = 1\n",
    "d[1] = 2\n",
    "d[2]"
   ]
  },
  {
   "cell_type": "code",
   "execution_count": 197,
   "id": "bab05513",
   "metadata": {},
   "outputs": [
    {
     "name": "stdout",
     "output_type": "stream",
     "text": [
      "1\n",
      "2\n",
      "Not Present\n"
     ]
    }
   ],
   "source": [
    "from collections import defaultdict\n",
    "\n",
    "    \n",
    "# Defining the dict and passing lambda as default_factory argument\n",
    "d = defaultdict(lambda: \"Not Present\")\n",
    "d[\"a\"] = 1\n",
    "d[\"b\"] = 2\n",
    "\n",
    "print(d[\"a\"])\n",
    "print(d[\"b\"])\n",
    "print(d[\"c\"])"
   ]
  },
  {
   "cell_type": "code",
   "execution_count": 198,
   "id": "7c8ebdf5",
   "metadata": {},
   "outputs": [
    {
     "name": "stdout",
     "output_type": "stream",
     "text": [
      "Dictionary with values as list:\n",
      "defaultdict(<class 'list'>, {0: [0], 1: [1], 2: [2], 3: [3], 4: [4]})\n"
     ]
    }
   ],
   "source": [
    "from collections import defaultdict\n",
    "\n",
    "d = defaultdict(list)\n",
    "\n",
    "for i in range(5):\n",
    "    d[i].append(i)\n",
    "    \n",
    "print(\"Dictionary with values as list:\")\n",
    "print(d)"
   ]
  },
  {
   "cell_type": "code",
   "execution_count": 207,
   "id": "c144d1db",
   "metadata": {},
   "outputs": [
    {
     "name": "stdout",
     "output_type": "stream",
     "text": [
      "defaultdict(<class 'int'>, {1: 2, 2: 3, 3: 1, 4: 2})\n",
      "{1: 2, 2: 3, 3: 1, 4: 2}\n",
      "{1: 2, 2: 3, 3: 1, 4: 2}\n"
     ]
    },
    {
     "data": {
      "text/plain": [
       "True"
      ]
     },
     "execution_count": 207,
     "metadata": {},
     "output_type": "execute_result"
    }
   ],
   "source": [
    "from collections import defaultdict, Counter\n",
    " \n",
    "d = defaultdict(int)\n",
    " \n",
    "a = [1, 2, 3, 4, 2, 4, 1, 2]\n",
    " \n",
    "\n",
    "for i in a:\n",
    "\n",
    "    d[i] += 1\n",
    "     \n",
    "print(d)\n",
    "y = dict(d)\n",
    "x = dict(Counter(a))\n",
    "print(x)\n",
    "print(y)\n",
    "x == y"
   ]
  },
  {
   "cell_type": "code",
   "execution_count": 201,
   "id": "8e91080f",
   "metadata": {},
   "outputs": [
    {
     "name": "stdout",
     "output_type": "stream",
     "text": [
      "defaultdict(<class 'str'>, {'greeting': 'Hello'})\n"
     ]
    }
   ],
   "source": [
    "from collections import defaultdict\n",
    "\n",
    "# Using str as the factory function\n",
    "sd = defaultdict(str)\n",
    "sd['greeting'] = 'Hello'\n",
    "print(sd)"
   ]
  },
  {
   "cell_type": "markdown",
   "id": "1e74c0a0",
   "metadata": {},
   "source": [
    "Python defaultdict Type for Handling Missing Keys\n",
    "Defaultdict adds one writable instance variable and one method in addition to the standard dictionary operations. The instance variable is the default_factory parameter and the method provided is __missing__.\n",
    "\n",
    "This function is used to provide the default value for the dictionary. It takes default_factory as an argument and if this argument is None, a KeyError is raised otherwise it provides a default value for the given key. This method is basically called by the __getitem__() method of the dict class when the requested key is not found. __getitem__() raises or return the value returned by the __missing__(). method."
   ]
  },
  {
   "cell_type": "code",
   "execution_count": 208,
   "id": "33912209",
   "metadata": {},
   "outputs": [
    {
     "name": "stdout",
     "output_type": "stream",
     "text": [
      "Not Present\n",
      "Not Present\n"
     ]
    }
   ],
   "source": [
    "from collections import defaultdict\n",
    "  \n",
    "d = defaultdict(lambda: \"Not Present\")\n",
    "d[\"a\"] = 1\n",
    "d[\"b\"] = 2\n",
    "\n",
    "print(d.__missing__('a'))\n",
    "print(d.__missing__('d'))"
   ]
  },
  {
   "cell_type": "markdown",
   "id": "10996bc6",
   "metadata": {},
   "source": [
    "Python contains a container called \"ChainMap\" which encapsulates many dictionaries into one unit. ChainMap is member of module \"collections\". Example:"
   ]
  },
  {
   "cell_type": "code",
   "execution_count": 209,
   "id": "0489dff3",
   "metadata": {},
   "outputs": [
    {
     "name": "stdout",
     "output_type": "stream",
     "text": [
      "ChainMap({'a': 1, 'b': 2}, {'a': 3, 'd': 4}, {'e': 5, 'f': 6})\n"
     ]
    }
   ],
   "source": [
    "# Python program to demonstrate  \n",
    "# ChainMap  \n",
    "     \n",
    "     \n",
    "from collections import ChainMap  \n",
    "     \n",
    "     \n",
    "d1 = {'a': 1, 'b': 2} \n",
    "d2 = {'a': 3, 'd': 4} \n",
    "d3 = {'e': 5, 'f': 6} \n",
    "  \n",
    "# Defining the chainmap  \n",
    "c = ChainMap(d1, d2, d3)  \n",
    "     \n",
    "print(c)"
   ]
  },
  {
   "cell_type": "code",
   "execution_count": 211,
   "id": "faceeb77",
   "metadata": {},
   "outputs": [
    {
     "data": {
      "text/plain": [
       "4"
      ]
     },
     "execution_count": 211,
     "metadata": {},
     "output_type": "execute_result"
    }
   ],
   "source": [
    "c['d']"
   ]
  },
  {
   "cell_type": "code",
   "execution_count": 217,
   "id": "4ab5849e",
   "metadata": {},
   "outputs": [
    {
     "name": "stdout",
     "output_type": "stream",
     "text": [
      "[{'a': 1, 'b': 2}, {'a': 3, 'd': 4}, {'e': 5, 'f': 6}]\n",
      "KeysView(ChainMap({'a': 1, 'b': 2}, {'a': 3, 'd': 4}, {'e': 5, 'f': 6}))\n",
      "ValuesView(ChainMap({'a': 1, 'b': 2}, {'a': 3, 'd': 4}, {'e': 5, 'f': 6}))\n"
     ]
    }
   ],
   "source": [
    "print(c.maps)\n",
    "print(c.keys())\n",
    "print(c.values())"
   ]
  },
  {
   "cell_type": "markdown",
   "id": "39ef61d1",
   "metadata": {},
   "source": [
    "new_child() :- This function adds a new dictionary in the beginning of the ChainMap.\n",
    "reversed() :- This function reverses the relative ordering of dictionaries in the ChainMap."
   ]
  },
  {
   "cell_type": "code",
   "execution_count": 218,
   "id": "92b8ef09",
   "metadata": {},
   "outputs": [
    {
     "name": "stdout",
     "output_type": "stream",
     "text": [
      "All the ChainMap contents are : \n",
      "[{'a': 1, 'b': 2}, {'b': 3, 'c': 4}]\n",
      "Displaying new ChainMap : \n",
      "[{'f': 5}, {'a': 1, 'b': 2}, {'b': 3, 'c': 4}]\n",
      "Value associated with b before reversing is : 2\n",
      "Value associated with b after reversing is : 3\n"
     ]
    }
   ],
   "source": [
    "# Please select Python 3 for running this code in IDE\n",
    "# Python code to demonstrate ChainMap and\n",
    "# reversed() and new_child()\n",
    "\n",
    "# importing collections for ChainMap operations\n",
    "import collections\n",
    "\n",
    "# initializing dictionaries\n",
    "dic1 = { 'a' : 1, 'b' : 2 }\n",
    "dic2 = { 'b' : 3, 'c' : 4 }\n",
    "dic3 = { 'f' : 5 }\n",
    "\n",
    "# initializing ChainMap\n",
    "chain = collections.ChainMap(dic1, dic2)\n",
    "\n",
    "# printing chainMap using map\n",
    "print (\"All the ChainMap contents are : \")\n",
    "print (chain.maps)\n",
    "\n",
    "# using new_child() to add new dictionary\n",
    "chain1 = chain.new_child(dic3)\n",
    "\n",
    "# printing chainMap using map\n",
    "print (\"Displaying new ChainMap : \")\n",
    "print (chain1.maps)\n",
    "\n",
    "# displaying value associated with b before reversing\n",
    "print (\"Value associated with b before reversing is : \",end=\"\")\n",
    "print (chain1['b'])\n",
    "\n",
    "# reversing the ChainMap\n",
    "chain1.maps = reversed(chain1.maps)\n",
    "\n",
    "# displaying value associated with b after reversing\n",
    "print (\"Value associated with b after reversing is : \",end=\"\")\n",
    "print (chain1['b'])"
   ]
  },
  {
   "cell_type": "markdown",
   "id": "727302c3",
   "metadata": {},
   "source": [
    "namedtuple(typename, field_names)\n",
    "\n",
    "typename - The name of the namedtuple. \n",
    "field_names - The list of attributes stored in the namedtuple.\n",
    "\n",
    "Access by index\n",
    "Access by keyname\n",
    "Access Using getattr()"
   ]
  },
  {
   "cell_type": "code",
   "execution_count": 232,
   "id": "73c24932",
   "metadata": {},
   "outputs": [],
   "source": [
    "from collections import namedtuple\n",
    "Student = namedtuple(\"Student\", [\"name\", \"age\"])\n",
    "s = Student(\"Saurabh\", 35)\n",
    "t = (\"Saurabh\", 35)"
   ]
  },
  {
   "cell_type": "code",
   "execution_count": 235,
   "id": "35c4ed1c",
   "metadata": {},
   "outputs": [
    {
     "name": "stdout",
     "output_type": "stream",
     "text": [
      "Saurabh\n",
      "Saurabh\n",
      "Saurabh\n",
      "35\n"
     ]
    }
   ],
   "source": [
    "print(s[0])\n",
    "print(s.name)\n",
    "print(t[0])\n",
    "print(getattr(s, 'age'))\n",
    "# print(t.name) # this will not work"
   ]
  },
  {
   "cell_type": "code",
   "execution_count": 231,
   "id": "95715844",
   "metadata": {},
   "outputs": [
    {
     "name": "stdout",
     "output_type": "stream",
     "text": [
      "1 2\n"
     ]
    }
   ],
   "source": [
    "Point = namedtuple('Point', ['x', 'y'])\n",
    "p = Point(x=1, y=2)\n",
    "print(p.x, p.y)"
   ]
  },
  {
   "cell_type": "markdown",
   "id": "2166519d",
   "metadata": {},
   "source": [
    "Using _make()  -- convert namedtuple instance using iterable is\n",
    "Using _asdict() -- convert OrderedDict instance using namedtuple\n",
    "Using “**” (double star) operator  -- convert a dictionary into the namedtuple()"
   ]
  },
  {
   "cell_type": "code",
   "execution_count": 236,
   "id": "2df3b6ad",
   "metadata": {},
   "outputs": [
    {
     "name": "stdout",
     "output_type": "stream",
     "text": [
      "The namedtuple instance using iterable is  : \n",
      "Student(name='Manjeet', age='19', DOB='411997')\n"
     ]
    }
   ],
   "source": [
    "# importing \"collections\" for namedtuple()\n",
    "import collections\n",
    "\n",
    "# Declaring namedtuple()\n",
    "Student = collections.namedtuple('Student',\n",
    "                                 ['name', 'age', 'DOB'])\n",
    "\n",
    "# Adding values\n",
    "S = Student('Nandini', '19', '2541997')\n",
    "\n",
    "# initializing iterable\n",
    "li = ['Manjeet', '19', '411997']\n",
    "\n",
    "# using _make() to return namedtuple()\n",
    "print(\"The namedtuple instance using iterable is  : \")\n",
    "print(Student._make(li))"
   ]
  },
  {
   "cell_type": "code",
   "execution_count": 238,
   "id": "a3f9dbed",
   "metadata": {},
   "outputs": [
    {
     "name": "stdout",
     "output_type": "stream",
     "text": [
      "The OrderedDict instance using namedtuple is  : \n",
      "{'name': 'Nandini', 'age': '19', 'DOB': '2541997'}\n"
     ]
    }
   ],
   "source": [
    "import collections\n",
    "# Declaring namedtuple()\n",
    "Student = collections.namedtuple('Student',\n",
    "                                 ['name', 'age', 'DOB'])\n",
    "\n",
    "# Adding values\n",
    "S = Student('Nandini', '19', '2541997')\n",
    "\n",
    "# using _asdict() to return an OrderedDict()\n",
    "print(\"The OrderedDict instance using namedtuple is  : \")\n",
    "print(S._asdict())"
   ]
  },
  {
   "cell_type": "markdown",
   "id": "5edb6bb9",
   "metadata": {},
   "source": [
    "Additional Operations \n",
    "There are some additional operations that are provided in Python for NamedTuples:\n",
    "\n",
    "_fields\n",
    "_replace()\n",
    "__new__()\n",
    "__getnewargs__()"
   ]
  },
  {
   "cell_type": "markdown",
   "id": "03e59584",
   "metadata": {},
   "source": [
    "What is the difference between typed dict and namedtuple?\n",
    "Type Checking: TypedDict (from the typing module) provides type hints for dictionaries with specific key-value pairs, useful for type checking. namedtuple does not provide type hints.\n",
    "Mutability: TypedDict instances are mutable, allowing changes to the values, while namedtuple instances are immutable.\n",
    "Structure: TypedDict is used to define the structure of dictionaries with specific types for each key, whereas namedtuple provides named fields for tuple-like data."
   ]
  },
  {
   "cell_type": "markdown",
   "id": "3d495c22",
   "metadata": {},
   "source": [
    "Deque\n",
    "Deque (Doubly Ended Queue) is the optimized list for quicker append and pop operations from both sides of the container. It provides O(1) time complexity for append and pop operations as compared to list with O(n) time complexity.\n",
    "\n",
    "Appending and Deleting Dequeue Items\n",
    "append(x): **Adds x to the right end of the deque.**\n",
    "appendleft(x): **Adds x to the left end of the deque.**\n",
    "    \n",
    "extend(iterable): Adds all elements from the iterable to the right end.\n",
    "extendleft(iterable): Adds all elements from the iterable to the left end (in reverse order).\n",
    "    \n",
    "remove(value): Removes the first occurrence of the specified value from the deque. If value is not found, it raises a ValueError.\n",
    "    \n",
    "pop(): Removes and returns an element from the right end.\n",
    "popleft(): Removes and returns an element from the left end.\n",
    "\n",
    "clear(): Removes all elements from the deque."
   ]
  },
  {
   "cell_type": "code",
   "execution_count": 241,
   "id": "a3d2e817",
   "metadata": {},
   "outputs": [
    {
     "name": "stdout",
     "output_type": "stream",
     "text": [
      "After extend([50, 60, 70]): deque([5, 10, 20, 30, 40, 50, 60, 70])\n",
      "After extendleft([0, 5]): deque([5, 0, 5, 10, 20, 30, 40, 50, 60, 70])\n",
      "After remove(20): deque([5, 0, 5, 10, 30, 40, 50, 60, 70])\n",
      "After pop and popleft: deque([0, 5, 10, 30, 40, 50, 60])\n",
      "After clear(): deque([])\n"
     ]
    }
   ],
   "source": [
    "from collections import deque\n",
    "\n",
    "dq = deque([10, 20, 30])\n",
    "\n",
    "# Add elements to the right\n",
    "dq.append(40)  \n",
    "\n",
    "# Add elements to the left\n",
    "dq.appendleft(5)  \n",
    "\n",
    "# extend(iterable)\n",
    "dq.extend([50, 60, 70]) \n",
    "print(\"After extend([50, 60, 70]):\", dq)\n",
    "\n",
    "# extendleft(iterable)\n",
    "dq.extendleft([0, 5])  \n",
    "print(\"After extendleft([0, 5]):\", dq)\n",
    "\n",
    "# remove method\n",
    "dq.remove(20)\n",
    "print(\"After remove(20):\", dq)\n",
    "\n",
    "# Remove elements from the right\n",
    "dq.pop()\n",
    "\n",
    "# Remove elements from the left\n",
    "dq.popleft()  \n",
    "\n",
    "print(\"After pop and popleft:\", dq)\n",
    "\n",
    "# clear() - Removes all elements from the deque\n",
    "dq.clear()  # deque: []\n",
    "print(\"After clear():\", dq)"
   ]
  },
  {
   "cell_type": "code",
   "execution_count": 242,
   "id": "01ecc42f",
   "metadata": {},
   "outputs": [
    {
     "name": "stdout",
     "output_type": "stream",
     "text": [
      "1\n",
      "4\n",
      "7\n"
     ]
    }
   ],
   "source": [
    "import collections\n",
    "\n",
    "dq = collections.deque([1, 2, 3, 3, 4, 2, 4])\n",
    "\n",
    "# Accessing elements by index\n",
    "print(dq[0])  \n",
    "print(dq[-1]) \n",
    "\n",
    "# Finding the length of the deque\n",
    "print(len(dq))"
   ]
  },
  {
   "cell_type": "code",
   "execution_count": 248,
   "id": "011d4fa2",
   "metadata": {},
   "outputs": [
    {
     "name": "stdout",
     "output_type": "stream",
     "text": [
      "3\n",
      "2\n",
      "deque([30, 20, 10, 20, 30, 40, 50, 20])\n",
      "deque([20, 30, 40, 50, 20, 30, 20, 10])\n",
      "deque([10, 20, 30, 20, 50, 40, 30, 20])\n"
     ]
    }
   ],
   "source": [
    "from collections import deque\n",
    "\n",
    "# Create a deque\n",
    "dq = deque([10, 20, 30, 40, 50, 20, 30, 20])\n",
    "\n",
    "# 1. Counting occurrences of a value\n",
    "print(dq.count(20))  # Occurrences of 20\n",
    "print(dq.count(30))  # Occurrences of 30\n",
    "\n",
    "# 2. Rotating the deque\n",
    "dq.rotate(2)  # Rotate the deque 2 steps to the right\n",
    "print(dq)\n",
    "\n",
    "dq.rotate(-3)  # Rotate the deque 3 steps to the left\n",
    "print(dq)\n",
    "\n",
    "# 3. Reversing the deque\n",
    "dq.reverse()  # Reverse the deque\n",
    "print(dq)"
   ]
  },
  {
   "cell_type": "code",
   "execution_count": 254,
   "id": "38e6ad58",
   "metadata": {},
   "outputs": [
    {
     "data": {
      "text/plain": [
       "[4, 5, 6, 1, 2, 3]"
      ]
     },
     "execution_count": 254,
     "metadata": {},
     "output_type": "execute_result"
    }
   ],
   "source": [
    "# we can rotate a list very easily by using dequeue\n",
    "li = [1, 2, 3, 4, 5, 6]\n",
    "\n",
    "dq = deque(li)\n",
    "dq.rotate(3)\n",
    "list(dq)"
   ]
  },
  {
   "cell_type": "code",
   "execution_count": 256,
   "id": "44abf957",
   "metadata": {},
   "outputs": [
    {
     "data": {
      "text/plain": [
       "[6, 5, 4, 3, 2, 1]"
      ]
     },
     "execution_count": 256,
     "metadata": {},
     "output_type": "execute_result"
    }
   ],
   "source": [
    "# list has li method we can use it directly\n",
    "li = [1, 2, 3, 4, 5, 6]\n",
    "li.reverse()\n",
    "li"
   ]
  },
  {
   "cell_type": "markdown",
   "id": "67c9e78c",
   "metadata": {},
   "source": [
    "Collections.UserDict\n",
    "Python supports a dictionary like a container called UserDict present in the collections module. This class acts as a wrapper class around the dictionary objects. This class is useful when one wants to create a dictionary of their own with some modified functionality or with some new functionality. It can be considered as a way of adding new behaviors to the dictionary. This class takes a dictionary instance as an argument and simulates a dictionary that is kept in a regular dictionary. The dictionary is accessible by the data attribute of this class."
   ]
  },
  {
   "cell_type": "code",
   "execution_count": 265,
   "id": "79b849f4",
   "metadata": {},
   "outputs": [
    {
     "name": "stdout",
     "output_type": "stream",
     "text": [
      "Original Dictionary\n",
      "{'a': 1, 'b': 2, 'c': 3}\n"
     ]
    },
    {
     "ename": "RuntimeError",
     "evalue": "Deletion not allowed",
     "output_type": "error",
     "traceback": [
      "\u001b[1;31m---------------------------------------------------------------------------\u001b[0m",
      "\u001b[1;31mRuntimeError\u001b[0m                              Traceback (most recent call last)",
      "\u001b[1;32m~\\AppData\\Local\\Temp\\ipykernel_27484\\3157046202.py\u001b[0m in \u001b[0;36m<module>\u001b[1;34m\u001b[0m\n\u001b[0;32m     33\u001b[0m \u001b[0mprint\u001b[0m\u001b[1;33m(\u001b[0m\u001b[0md\u001b[0m\u001b[1;33m)\u001b[0m\u001b[1;33m\u001b[0m\u001b[1;33m\u001b[0m\u001b[0m\n\u001b[0;32m     34\u001b[0m \u001b[1;33m\u001b[0m\u001b[0m\n\u001b[1;32m---> 35\u001b[1;33m \u001b[0md\u001b[0m\u001b[1;33m.\u001b[0m\u001b[0mpop\u001b[0m\u001b[1;33m(\u001b[0m\u001b[1;36m1\u001b[0m\u001b[1;33m)\u001b[0m\u001b[1;33m\u001b[0m\u001b[1;33m\u001b[0m\u001b[0m\n\u001b[0m",
      "\u001b[1;32m~\\AppData\\Local\\Temp\\ipykernel_27484\\3157046202.py\u001b[0m in \u001b[0;36mpop\u001b[1;34m(self, s)\u001b[0m\n\u001b[0;32m     18\u001b[0m     \u001b[1;31m# dictionary\u001b[0m\u001b[1;33m\u001b[0m\u001b[1;33m\u001b[0m\u001b[0m\n\u001b[0;32m     19\u001b[0m     \u001b[1;32mdef\u001b[0m \u001b[0mpop\u001b[0m\u001b[1;33m(\u001b[0m\u001b[0mself\u001b[0m\u001b[1;33m,\u001b[0m \u001b[0ms\u001b[0m \u001b[1;33m=\u001b[0m \u001b[1;32mNone\u001b[0m\u001b[1;33m)\u001b[0m\u001b[1;33m:\u001b[0m\u001b[1;33m\u001b[0m\u001b[1;33m\u001b[0m\u001b[0m\n\u001b[1;32m---> 20\u001b[1;33m         \u001b[1;32mraise\u001b[0m \u001b[0mRuntimeError\u001b[0m\u001b[1;33m(\u001b[0m\u001b[1;34m\"Deletion not allowed\"\u001b[0m\u001b[1;33m)\u001b[0m\u001b[1;33m\u001b[0m\u001b[1;33m\u001b[0m\u001b[0m\n\u001b[0m\u001b[0;32m     21\u001b[0m \u001b[1;33m\u001b[0m\u001b[0m\n\u001b[0;32m     22\u001b[0m     \u001b[1;31m# Function to stop popitem\u001b[0m\u001b[1;33m\u001b[0m\u001b[1;33m\u001b[0m\u001b[0m\n",
      "\u001b[1;31mRuntimeError\u001b[0m: Deletion not allowed"
     ]
    }
   ],
   "source": [
    "# Python program to demonstrate\n",
    "# userdict\n",
    " \n",
    "\n",
    "from collections import UserDict\n",
    " \n",
    "\n",
    "# Creating a Dictionary where\n",
    "# deletion is not allowed\n",
    "class MyDict(UserDict):\n",
    "    \n",
    "    # Function to stop deletion\n",
    "    # from dictionary\n",
    "    def __del__(self):\n",
    "        raise RuntimeError(\"Deletion not allowed\")\n",
    "        \n",
    "    # Function to stop pop from \n",
    "    # dictionary\n",
    "    def pop(self, s = None):\n",
    "        raise RuntimeError(\"Deletion not allowed\")\n",
    "        \n",
    "    # Function to stop popitem \n",
    "    # from Dictionary\n",
    "    def popitem(self, s = None):\n",
    "        raise RuntimeError(\"Deletion not allowed\")\n",
    "    \n",
    "# Driver's code\n",
    "d = MyDict({'a':1,\n",
    "    'b': 2,\n",
    "    'c': 3})\n",
    "\n",
    "print(\"Original Dictionary\")\n",
    "print(d)\n",
    "\n",
    "d.pop(1)"
   ]
  },
  {
   "cell_type": "markdown",
   "id": "12119e8d",
   "metadata": {},
   "source": [
    "Collections.UserList\n",
    "\n",
    "Python supports a List like a container called UserList present in the collections module. This class acts as a wrapper class around the List objects. This class is useful when one wants to create a list of their own with some modified functionality or with some new functionality. It can be considered as a way of adding new behaviors for the list. This class takes a list instance as an argument and simulates a list that is kept in a regular list. The list is accessible by the data attribute of the this class."
   ]
  },
  {
   "cell_type": "code",
   "execution_count": 266,
   "id": "04dea1fb",
   "metadata": {},
   "outputs": [
    {
     "name": "stdout",
     "output_type": "stream",
     "text": [
      "Original List\n",
      "After Insertion\n",
      "[1, 2, 3, 4, 5]\n"
     ]
    },
    {
     "ename": "RuntimeError",
     "evalue": "Deletion not allowed",
     "output_type": "error",
     "traceback": [
      "\u001b[1;31m---------------------------------------------------------------------------\u001b[0m",
      "\u001b[1;31mRuntimeError\u001b[0m                              Traceback (most recent call last)",
      "\u001b[1;32m~\\AppData\\Local\\Temp\\ipykernel_27484\\3554610443.py\u001b[0m in \u001b[0;36m<module>\u001b[1;34m\u001b[0m\n\u001b[0;32m     31\u001b[0m \u001b[1;33m\u001b[0m\u001b[0m\n\u001b[0;32m     32\u001b[0m \u001b[1;31m# Deleting From List\u001b[0m\u001b[1;33m\u001b[0m\u001b[1;33m\u001b[0m\u001b[0m\n\u001b[1;32m---> 33\u001b[1;33m \u001b[0mL\u001b[0m\u001b[1;33m.\u001b[0m\u001b[0mremove\u001b[0m\u001b[1;33m(\u001b[0m\u001b[1;33m)\u001b[0m\u001b[1;33m\u001b[0m\u001b[1;33m\u001b[0m\u001b[0m\n\u001b[0m",
      "\u001b[1;32m~\\AppData\\Local\\Temp\\ipykernel_27484\\3554610443.py\u001b[0m in \u001b[0;36mremove\u001b[1;34m(self, s)\u001b[0m\n\u001b[0;32m     13\u001b[0m     \u001b[1;31m# from List\u001b[0m\u001b[1;33m\u001b[0m\u001b[1;33m\u001b[0m\u001b[0m\n\u001b[0;32m     14\u001b[0m     \u001b[1;32mdef\u001b[0m \u001b[0mremove\u001b[0m\u001b[1;33m(\u001b[0m\u001b[0mself\u001b[0m\u001b[1;33m,\u001b[0m \u001b[0ms\u001b[0m \u001b[1;33m=\u001b[0m \u001b[1;32mNone\u001b[0m\u001b[1;33m)\u001b[0m\u001b[1;33m:\u001b[0m\u001b[1;33m\u001b[0m\u001b[1;33m\u001b[0m\u001b[0m\n\u001b[1;32m---> 15\u001b[1;33m         \u001b[1;32mraise\u001b[0m \u001b[0mRuntimeError\u001b[0m\u001b[1;33m(\u001b[0m\u001b[1;34m\"Deletion not allowed\"\u001b[0m\u001b[1;33m)\u001b[0m\u001b[1;33m\u001b[0m\u001b[1;33m\u001b[0m\u001b[0m\n\u001b[0m\u001b[0;32m     16\u001b[0m \u001b[1;33m\u001b[0m\u001b[0m\n\u001b[0;32m     17\u001b[0m     \u001b[1;31m# Function to stop pop from\u001b[0m\u001b[1;33m\u001b[0m\u001b[1;33m\u001b[0m\u001b[0m\n",
      "\u001b[1;31mRuntimeError\u001b[0m: Deletion not allowed"
     ]
    }
   ],
   "source": [
    "# Python program to demonstrate\n",
    "# userlist\n",
    " \n",
    "\n",
    "from collections import UserList\n",
    " \n",
    "\n",
    "# Creating a List where\n",
    "# deletion is not allowed\n",
    "class MyList(UserList):\n",
    "    \n",
    "    # Function to stop deletion\n",
    "    # from List\n",
    "    def remove(self, s = None):\n",
    "        raise RuntimeError(\"Deletion not allowed\")\n",
    "        \n",
    "    # Function to stop pop from \n",
    "    # List\n",
    "    def pop(self, s = None):\n",
    "        raise RuntimeError(\"Deletion not allowed\")\n",
    "    \n",
    "# Driver's code\n",
    "L = MyList([1, 2, 3, 4])\n",
    "\n",
    "print(\"Original List\")\n",
    "\n",
    "# Inserting to List\"\n",
    "L.append(5)\n",
    "print(\"After Insertion\")\n",
    "print(L)\n",
    "\n",
    "# Deleting From List\n",
    "L.remove()"
   ]
  },
  {
   "cell_type": "markdown",
   "id": "895d6c25",
   "metadata": {},
   "source": [
    "Collections.UserString\n",
    "\n",
    "Python supports a String like a container called UserString present in the collections module. This class acts as a wrapper class around the string objects. This class is useful when one wants to create a string of their own with some modified functionality or with some new functionality. It can be considered as a way of adding new behaviors for the string. This class takes any argument that can be converted to string and simulates a string whose content is kept in a regular string. The string is accessible by the data attribute of this class."
   ]
  },
  {
   "cell_type": "code",
   "execution_count": 267,
   "id": "5ed2848f",
   "metadata": {},
   "outputs": [
    {
     "name": "stdout",
     "output_type": "stream",
     "text": [
      "Original String: Geeks\n",
      "String After Appending: Geekss\n",
      "String after Removing: Gkss\n"
     ]
    }
   ],
   "source": [
    "# Python program to demonstrate\n",
    "# userstring\n",
    " \n",
    "\n",
    "from collections import UserString\n",
    " \n",
    "\n",
    "# Creating a Mutable String\n",
    "class Mystring(UserString):\n",
    "    \n",
    "    # Function to append to\n",
    "    # string\n",
    "    def append(self, s):\n",
    "        self.data += s\n",
    "        \n",
    "    # Function to remove from \n",
    "    # string\n",
    "    def remove(self, s):\n",
    "        self.data = self.data.replace(s, \"\")\n",
    "    \n",
    "# Driver's code\n",
    "s1 = Mystring(\"Geeks\")\n",
    "print(\"Original String:\", s1.data)\n",
    "\n",
    "# Appending to string\n",
    "s1.append(\"s\")\n",
    "print(\"String After Appending:\", s1.data)\n",
    "\n",
    "# Removing from string\n",
    "s1.remove(\"e\")\n",
    "print(\"String after Removing:\", s1.data)"
   ]
  },
  {
   "cell_type": "code",
   "execution_count": 269,
   "id": "945945e0",
   "metadata": {},
   "outputs": [
    {
     "data": {
      "text/plain": [
       "'asas  '"
      ]
     },
     "execution_count": 269,
     "metadata": {},
     "output_type": "execute_result"
    }
   ],
   "source": [
    "\"     asas  \".lstrip()"
   ]
  },
  {
   "cell_type": "code",
   "execution_count": 270,
   "id": "7589b3a1",
   "metadata": {},
   "outputs": [
    {
     "data": {
      "text/plain": [
       "'     asas'"
      ]
     },
     "execution_count": 270,
     "metadata": {},
     "output_type": "execute_result"
    }
   ],
   "source": [
    "\"     asas  \".rstrip()"
   ]
  },
  {
   "cell_type": "code",
   "execution_count": 271,
   "id": "67227693",
   "metadata": {},
   "outputs": [
    {
     "data": {
      "text/plain": [
       "'asas'"
      ]
     },
     "execution_count": 271,
     "metadata": {},
     "output_type": "execute_result"
    }
   ],
   "source": [
    "\"     asas  \".strip()"
   ]
  },
  {
   "cell_type": "code",
   "execution_count": 273,
   "id": "3be3a885",
   "metadata": {},
   "outputs": [
    {
     "name": "stdout",
     "output_type": "stream",
     "text": [
      "48\n",
      "57\n",
      "97\n",
      "122\n",
      "65\n",
      "90\n"
     ]
    }
   ],
   "source": [
    "print(ord(\"0\"))\n",
    "print(ord(\"9\"))\n",
    "print(ord(\"a\"))\n",
    "print(ord(\"z\"))\n",
    "print(ord(\"A\"))\n",
    "print(ord(\"Z\"))"
   ]
  },
  {
   "cell_type": "code",
   "execution_count": 274,
   "id": "311159de",
   "metadata": {},
   "outputs": [
    {
     "data": {
      "text/plain": [
       "-2147483648"
      ]
     },
     "execution_count": 274,
     "metadata": {},
     "output_type": "execute_result"
    }
   ],
   "source": [
    "-2**31 # minimum 32 bit signed number possible"
   ]
  },
  {
   "cell_type": "code",
   "execution_count": 275,
   "id": "e91a4ae2",
   "metadata": {},
   "outputs": [
    {
     "data": {
      "text/plain": [
       "2147483647"
      ]
     },
     "execution_count": 275,
     "metadata": {},
     "output_type": "execute_result"
    }
   ],
   "source": [
    "2**31 - 1 # maximum 32 bit signed number possible"
   ]
  },
  {
   "cell_type": "code",
   "execution_count": 276,
   "id": "d9226a28",
   "metadata": {},
   "outputs": [
    {
     "data": {
      "text/plain": [
       "True"
      ]
     },
     "execution_count": 276,
     "metadata": {},
     "output_type": "execute_result"
    }
   ],
   "source": [
    "\"1\".isdigit()"
   ]
  },
  {
   "cell_type": "code",
   "execution_count": 277,
   "id": "fa1fe8a3",
   "metadata": {},
   "outputs": [
    {
     "data": {
      "text/plain": [
       "True"
      ]
     },
     "execution_count": 277,
     "metadata": {},
     "output_type": "execute_result"
    }
   ],
   "source": [
    "\"asa1\".isalnum()"
   ]
  },
  {
   "cell_type": "code",
   "execution_count": 278,
   "id": "67a8f397",
   "metadata": {},
   "outputs": [
    {
     "data": {
      "text/plain": [
       "True"
      ]
     },
     "execution_count": 278,
     "metadata": {},
     "output_type": "execute_result"
    }
   ],
   "source": [
    "\"asa\".isalpha()"
   ]
  },
  {
   "cell_type": "markdown",
   "id": "83d1ba94",
   "metadata": {},
   "source": [
    "# Python Itertools"
   ]
  },
  {
   "cell_type": "markdown",
   "id": "76e97d19",
   "metadata": {},
   "source": [
    "Iterator in Python is any Python type that can be used with a ‘for in loop’. Python lists, tuples, dictionaries, and sets are all examples of inbuilt iterators. But it is not necessary that an iterator object has to exhaust, sometimes it can be infinite. Such types of iterators are known as Infinite iterators.\n",
    "\n",
    "Python provides three types of infinite iterators: \n",
    "\n",
    "count(start, step): This iterator starts printing from the “start” number and prints infinitely. If steps are mentioned, the numbers are skipped else step is 1 by default. See the below example for its use with for in loop."
   ]
  },
  {
   "cell_type": "code",
   "execution_count": 279,
   "id": "d444efda",
   "metadata": {},
   "outputs": [
    {
     "name": "stdout",
     "output_type": "stream",
     "text": [
      "5 10 15 20 25 30 "
     ]
    }
   ],
   "source": [
    "# Python program to demonstrate\n",
    "# infinite iterators\n",
    "\n",
    "import itertools\n",
    "\n",
    "# for in loop\n",
    "for i in itertools.count(5, 5):\n",
    "    if i == 35:\n",
    "        break\n",
    "    else:\n",
    "        print(i, end=\" \")"
   ]
  },
  {
   "cell_type": "markdown",
   "id": "64088ddb",
   "metadata": {},
   "source": [
    "cycle(iterable): This iterator prints all values in order from the passed container. It restarts printing from the beginning again when all elements are printed in a cyclic manner."
   ]
  },
  {
   "cell_type": "code",
   "execution_count": 284,
   "id": "ea25303f",
   "metadata": {},
   "outputs": [
    {
     "name": "stdout",
     "output_type": "stream",
     "text": [
      "A B C A B C A B "
     ]
    }
   ],
   "source": [
    "# Python program to demonstrate\n",
    "# infinite iterators\n",
    "\n",
    "import itertools\n",
    "\n",
    "count = 0\n",
    "\n",
    "# for in loop\n",
    "for i in itertools.cycle(\"ABC\"):\n",
    "    if count > 7:\n",
    "        break\n",
    "    else:\n",
    "        print(i, end=\" \")\n",
    "        count += 1"
   ]
  },
  {
   "cell_type": "code",
   "execution_count": 286,
   "id": "31054fc1",
   "metadata": {},
   "outputs": [
    {
     "name": "stdout",
     "output_type": "stream",
     "text": [
      "Geeks for Geeks Geeks for Geeks "
     ]
    }
   ],
   "source": [
    "# Python program to demonstrate\n",
    "# infinite iterators\n",
    "\n",
    "import itertools\n",
    "\n",
    "l = ['Geeks', 'for', 'Geeks']\n",
    "\n",
    "# defining iterator\n",
    "iterators = itertools.cycle(l)\n",
    "\n",
    "# for in loop\n",
    "for i in range(6):\n",
    "\n",
    "    # Using next function\n",
    "    print(next(iterators), end=\" \")"
   ]
  },
  {
   "cell_type": "markdown",
   "id": "5f76e48f",
   "metadata": {},
   "source": [
    "repeat(val, num): This iterator repeatedly prints the passed value an infinite number of times. If the optional keyword num is mentioned, then it repeatedly prints num number of times."
   ]
  },
  {
   "cell_type": "code",
   "execution_count": null,
   "id": "f49fb9e2",
   "metadata": {},
   "outputs": [],
   "source": [
    "# Python code to demonstrate the working of\n",
    "# repeat()\n",
    "\n",
    "# importing \"itertools\" for iterator operations\n",
    "import itertools\n",
    "\n",
    "# using repeat() to repeatedly print number\n",
    "print(\"Printing the numbers repeatedly : \")\n",
    "print(list(itertools.repeat(25, 4)))"
   ]
  },
  {
   "cell_type": "markdown",
   "id": "59018d7c",
   "metadata": {},
   "source": [
    "# Combinatoric iterators"
   ]
  },
  {
   "cell_type": "markdown",
   "id": "f98d0c6b",
   "metadata": {},
   "source": [
    "The recursive generators that are used to simplify combinatorial constructs such as permutations, combinations, and Cartesian products are called combinatoric iterators.\n",
    "In Python there are 4 combinatoric iterators: \n",
    "\n",
    "**Product()**: This tool computes the cartesian product of input iterables. To compute the product of an iterable with itself, we use the optional repeat keyword argument to specify the number of repetitions. The output of this function is tuples in sorted order."
   ]
  },
  {
   "cell_type": "code",
   "execution_count": 287,
   "id": "4d77fef8",
   "metadata": {},
   "outputs": [
    {
     "name": "stdout",
     "output_type": "stream",
     "text": [
      "The cartesian product using repeat:\n",
      "[(1, 1), (1, 2), (2, 1), (2, 2)]\n",
      "\n",
      "The cartesian product of the containers:\n",
      "[('geeks', '2'), ('for', '2'), ('geeks', '2')]\n",
      "\n",
      "The cartesian product of the containers:\n",
      "[('A', 3), ('A', 4), ('B', 3), ('B', 4)]\n"
     ]
    }
   ],
   "source": [
    "# import the product function from itertools module\n",
    "from itertools import product\n",
    "\n",
    "print(\"The cartesian product using repeat:\")\n",
    "print(list(product([1, 2], repeat=2)))\n",
    "print()\n",
    "\n",
    "print(\"The cartesian product of the containers:\")\n",
    "print(list(product(['geeks', 'for', 'geeks'], '2')))\n",
    "print()\n",
    "\n",
    "print(\"The cartesian product of the containers:\")\n",
    "print(list(product('AB', [3, 4])))"
   ]
  },
  {
   "cell_type": "markdown",
   "id": "a3f87b09",
   "metadata": {},
   "source": [
    "**Permutations()**: Permutations() as the name speaks for itself is used to generate all possible permutations of an iterable. All elements are treated as unique based on their position and not their values. This function takes an iterable and group_size, if the value of group_size is not specified or is equal to None then the value of group_size becomes the length of the iterable."
   ]
  },
  {
   "cell_type": "code",
   "execution_count": 297,
   "id": "ea75dae1",
   "metadata": {},
   "outputs": [
    {
     "name": "stdout",
     "output_type": "stream",
     "text": [
      "All the permutations of the given list is:\n",
      "[(1, 'geeks'), ('geeks', 1)]\n",
      "\n",
      "All the permutations of the given string is:\n",
      "[('A', 'B'), ('B', 'A')]\n",
      "\n",
      "All the permutations of the given container is:\n",
      "[(0, 1), (0, 2), (1, 0), (1, 2), (2, 0), (2, 1)]\n"
     ]
    }
   ],
   "source": [
    "# import the product function from itertools module\n",
    "from itertools import permutations\n",
    "\n",
    "print(\"All the permutations of the given list is:\")\n",
    "print(list(permutations([1, 'geeks'], 2)))\n",
    "print()\n",
    "\n",
    "print(\"All the permutations of the given string is:\")\n",
    "print(list(permutations('AB', 2)))\n",
    "print()\n",
    "\n",
    "print(\"All the permutations of the given container is:\")\n",
    "print(list(permutations(range(3), 2)))"
   ]
  },
  {
   "cell_type": "code",
   "execution_count": 295,
   "id": "5741f3e3",
   "metadata": {},
   "outputs": [
    {
     "name": "stdout",
     "output_type": "stream",
     "text": [
      "All the combination of list in sorted order(without replacement) is:\n",
      "[('A', 2)]\n",
      "\n",
      "All the combination of string in sorted order(without replacement) is:\n",
      "[('A', 'B'), ('A', 'C'), ('B', 'C')]\n",
      "\n",
      "All the combination of list in sorted order(without replacement) is:\n",
      "[(0, 1)]\n"
     ]
    }
   ],
   "source": [
    "# import combinations from itertools module \n",
    "  \n",
    "from itertools import combinations \n",
    "  \n",
    "print (\"All the combination of list in sorted order(without replacement) is:\")  \n",
    "print(list(combinations(['A', 2], 2))) \n",
    "print() \n",
    "  \n",
    "print (\"All the combination of string in sorted order(without replacement) is:\") \n",
    "print(list(combinations('ABC', 2))) \n",
    "print() \n",
    "  \n",
    "print (\"All the combination of list in sorted order(without replacement) is:\") \n",
    "print(list(combinations(range(2), 2)))"
   ]
  },
  {
   "cell_type": "markdown",
   "id": "6948a653",
   "metadata": {},
   "source": [
    "**Combinations_with_replacement()**: This function returns a subsequence of length n from the elements of the iterable where n is the argument that the function takes determining the length of the subsequences generated by the function. **Individual elements may repeat itself** in combinations_with_replacement function."
   ]
  },
  {
   "cell_type": "code",
   "execution_count": 298,
   "id": "b4effac3",
   "metadata": {},
   "outputs": [
    {
     "name": "stdout",
     "output_type": "stream",
     "text": [
      "All the combination of string in sorted order(with replacement) is:\n",
      "[('A', 'A'), ('A', 'B'), ('B', 'B')]\n",
      "\n",
      "All the combination of list in sorted order(with replacement) is:\n",
      "[(1, 1), (1, 2), (2, 2)]\n",
      "\n",
      "All the combination of container in sorted order(with replacement) is:\n",
      "[(0,), (1,)]\n"
     ]
    }
   ],
   "source": [
    "# import combinations from itertools module\n",
    "\n",
    "from itertools import combinations_with_replacement\n",
    "\n",
    "print(\"All the combination of string in sorted order(with replacement) is:\")\n",
    "print(list(combinations_with_replacement(\"AB\", 2)))\n",
    "print()\n",
    "\n",
    "print(\"All the combination of list in sorted order(with replacement) is:\")\n",
    "print(list(combinations_with_replacement([1, 2], 2)))\n",
    "print()\n",
    "\n",
    "print(\"All the combination of container in sorted order(with replacement) is:\")\n",
    "print(list(combinations_with_replacement(range(2), 1)))"
   ]
  },
  {
   "cell_type": "markdown",
   "id": "dd3fe37a",
   "metadata": {},
   "source": [
    "## Terminating iterators"
   ]
  },
  {
   "cell_type": "markdown",
   "id": "37c2480d",
   "metadata": {},
   "source": [
    "Terminating iterators are used to work on the short input sequences and produce the output based on the functionality of the method used.\n",
    "\n",
    "Different types of terminating iterators are: \n",
    "\n",
    "accumulate(iter, func): This iterator takes two arguments, iterable target and the function which would be followed at each iteration of value in target. If no function is passed, addition takes place by default. If the input iterable is empty, the output iterable will also be empty."
   ]
  },
  {
   "cell_type": "code",
   "execution_count": 299,
   "id": "881de284",
   "metadata": {},
   "outputs": [
    {
     "name": "stdout",
     "output_type": "stream",
     "text": [
      "The sum after each iteration is : [1, 5, 10, 17]\n",
      "The product after each iteration is : [1, 4, 20, 140]\n",
      "The sum after each iteration is : [1, 5, 10, 17]\n",
      "The product after each iteration is : [1, 4, 20, 140]\n"
     ]
    }
   ],
   "source": [
    "import itertools\n",
    "import operator\n",
    "\n",
    "# initializing list 1\n",
    "li1 = [1, 4, 5, 7]\n",
    "\n",
    "# using accumulate()\n",
    "# prints the successive summation of elements\n",
    "print(\"The sum after each iteration is : \", end=\"\")\n",
    "print(list(itertools.accumulate(li1)))\n",
    "\n",
    "# using accumulate()\n",
    "# prints the successive multiplication of elements\n",
    "print(\"The product after each iteration is : \", end=\"\")\n",
    "print(list(itertools.accumulate(li1, operator.mul)))\n",
    "\n",
    "# using accumulate()\n",
    "# prints the successive summation of elements\n",
    "print(\"The sum after each iteration is : \", end=\"\")\n",
    "print(list(itertools.accumulate(li1)))\n",
    "\n",
    "# using accumulate()\n",
    "# prints the successive multiplication of elements\n",
    "print(\"The product after each iteration is : \", end=\"\")\n",
    "print(list(itertools.accumulate(li1, operator.mul)))"
   ]
  },
  {
   "cell_type": "markdown",
   "id": "4a438afa",
   "metadata": {},
   "source": [
    "chain(iter1, iter2..): This function is used to print all the values in iterable targets one after another mentioned in its arguments."
   ]
  },
  {
   "cell_type": "code",
   "execution_count": 300,
   "id": "c48999af",
   "metadata": {},
   "outputs": [
    {
     "name": "stdout",
     "output_type": "stream",
     "text": [
      "All values in mentioned chain are : [1, 4, 5, 7, 1, 6, 5, 9, 8, 10, 5, 4]\n"
     ]
    }
   ],
   "source": [
    "# Python code to demonstrate the working of\n",
    "# and chain()\n",
    "\n",
    "\n",
    "import itertools\n",
    "\n",
    "# initializing list 1\n",
    "li1 = [1, 4, 5, 7]\n",
    "\n",
    "# initializing list 2\n",
    "li2 = [1, 6, 5, 9]\n",
    "\n",
    "# initializing list 3\n",
    "li3 = [8, 10, 5, 4]\n",
    "\n",
    "# using chain() to print all elements of lists\n",
    "print(\"All values in mentioned chain are : \", end=\"\")\n",
    "print(list(itertools.chain(li1, li2, li3)))"
   ]
  },
  {
   "cell_type": "code",
   "execution_count": 301,
   "id": "cbdd8d68",
   "metadata": {},
   "outputs": [
    {
     "name": "stdout",
     "output_type": "stream",
     "text": [
      "All values in mentioned chain are : [1, 4, 5, 7, 1, 6, 5, 9, 8, 10, 5, 4]\n"
     ]
    }
   ],
   "source": [
    "# Python code to demonstrate the working of  \n",
    "# chain.from_iterable()\n",
    "\n",
    "\n",
    "import itertools\n",
    "\n",
    "\n",
    "# initializing list 1 \n",
    "li1 = [1, 4, 5, 7] \n",
    "  \n",
    "# initializing list 2 \n",
    "li2 = [1, 6, 5, 9] \n",
    "  \n",
    "# initializing list 3 \n",
    "li3 = [8, 10, 5, 4] \n",
    "  \n",
    "# initializing list of list \n",
    "li4 = [li1, li2, li3] \n",
    "\n",
    "# using chain.from_iterable() to print all elements of lists \n",
    "print (\"All values in mentioned chain are : \", end =\"\") \n",
    "print (list(itertools.chain.from_iterable(li4)))"
   ]
  },
  {
   "cell_type": "markdown",
   "id": "14ee7c42",
   "metadata": {},
   "source": [
    "**compress(iter, selector)**: This iterator selectively picks the values to print from the passed container according to the boolean list value passed as other arguments. The arguments corresponding to boolean true are printed else all are skipped."
   ]
  },
  {
   "cell_type": "code",
   "execution_count": 302,
   "id": "ce3f207b",
   "metadata": {},
   "outputs": [
    {
     "name": "stdout",
     "output_type": "stream",
     "text": [
      "The compressed values in string are : ['G', 'F', 'G']\n"
     ]
    }
   ],
   "source": [
    "# Python code to demonstrate the working of\n",
    "# and compress()\n",
    "\n",
    "\n",
    "import itertools\n",
    "\n",
    "\n",
    "# using compress() selectively print data values\n",
    "print(\"The compressed values in string are : \", end=\"\")\n",
    "print(list(itertools.compress('GEEKSFORGEEKS', [\n",
    "      1, 0, 0, 0, 0, 1, 0, 0, 1, 0, 0, 0, 0])))"
   ]
  },
  {
   "cell_type": "code",
   "execution_count": 303,
   "id": "c990ef64",
   "metadata": {},
   "outputs": [
    {
     "name": "stdout",
     "output_type": "stream",
     "text": [
      "The values after condition returns false : [5, 7, 8]\n"
     ]
    }
   ],
   "source": [
    "# Python code to demonstrate the working of  \n",
    "# dropwhile()\n",
    "\n",
    "\n",
    "import itertools\n",
    "\n",
    "\n",
    "# initializing list  \n",
    "li = [2, 4, 5, 7, 8] \n",
    "  \n",
    "# using dropwhile() to start displaying after condition is false \n",
    "print (\"The values after condition returns false : \", end =\"\") \n",
    "print (list(itertools.dropwhile(lambda x : x % 2 == 0, li))) # keep skipping the elements until condition is False"
   ]
  },
  {
   "cell_type": "code",
   "execution_count": 304,
   "id": "af23274a",
   "metadata": {},
   "outputs": [
    {
     "name": "stdout",
     "output_type": "stream",
     "text": [
      "The values that return false to function are : [5, 7]\n"
     ]
    }
   ],
   "source": [
    "# Python code to demonstrate the working of  \n",
    "# filterfalse() \n",
    "  \n",
    "\n",
    "import itertools \n",
    "  \n",
    "# initializing list  \n",
    "li = [2, 4, 5, 7, 8]\n",
    "\n",
    "# using filterfalse() to print false values \n",
    "print (\"The values that return false to function are : \", end =\"\") \n",
    "print (list(itertools.filterfalse(lambda x : x % 2 == 0, li)))"
   ]
  },
  {
   "cell_type": "markdown",
   "id": "3778b097",
   "metadata": {},
   "source": [
    "**islice(iterable, start, stop, step)**: This iterator selectively prints the values mentioned in its iterable container passed as argument. This iterator takes 4 arguments, iterable container, starting pos., ending position and step."
   ]
  },
  {
   "cell_type": "code",
   "execution_count": 305,
   "id": "43cbf392",
   "metadata": {},
   "outputs": [
    {
     "name": "stdout",
     "output_type": "stream",
     "text": [
      "The sliced list values are : [4, 7, 10]\n"
     ]
    }
   ],
   "source": [
    "# Python code to demonstrate the working of  \n",
    "# islice()\n",
    "  \n",
    " \n",
    "import itertools \n",
    "  \n",
    "# initializing list  \n",
    "li = [2, 4, 5, 7, 8, 10, 20] \n",
    "    \n",
    "# using islice() to slice the list acc. to need \n",
    "# starts printing from 2nd index till 6th skipping 2 \n",
    "print (\"The sliced list values are : \", end =\"\") \n",
    "print (list(itertools.islice(li, 1, 6, 2)))"
   ]
  },
  {
   "cell_type": "code",
   "execution_count": 307,
   "id": "78a7d293",
   "metadata": {},
   "outputs": [
    {
     "data": {
      "text/plain": [
       "(4, 7, 10)"
      ]
     },
     "execution_count": 307,
     "metadata": {},
     "output_type": "execute_result"
    }
   ],
   "source": [
    "li = (2, 4, 5, 7, 8, 10, 20)\n",
    "li[1:6:2]"
   ]
  },
  {
   "cell_type": "markdown",
   "id": "5bd37de4",
   "metadata": {},
   "source": [
    "**starmap(func., tuple list)**: This iterator takes a function and tuple list as argument and returns the value according to the function from each tuple of the list."
   ]
  },
  {
   "cell_type": "code",
   "execution_count": 308,
   "id": "e16b56c8",
   "metadata": {},
   "outputs": [
    {
     "name": "stdout",
     "output_type": "stream",
     "text": [
      "The values acc. to function are : [1, 1, 4, 1]\n"
     ]
    }
   ],
   "source": [
    "# Python code to demonstrate the working of  \n",
    "# starmap() \n",
    "  \n",
    "\n",
    "import itertools \n",
    "  \n",
    "  \n",
    "# initializing tuple list \n",
    "li = [ (1, 10, 5), (8, 4, 1), (5, 4, 9), (11, 10, 1) ] \n",
    "  \n",
    "# using starmap() for selection value acc. to function \n",
    "# selects min of all tuple values \n",
    "print (\"The values acc. to function are : \", end =\"\") \n",
    "print (list(itertools.starmap(min, li)))"
   ]
  },
  {
   "cell_type": "code",
   "execution_count": 311,
   "id": "7b2a8c46",
   "metadata": {},
   "outputs": [
    {
     "data": {
      "text/plain": [
       "20"
      ]
     },
     "execution_count": 311,
     "metadata": {},
     "output_type": "execute_result"
    }
   ],
   "source": [
    "li = [2, 4, 5, 7, 8, 10, 20]\n",
    "max(li, key=lambda x : x if x%2 == 0 else float('-inf'))"
   ]
  },
  {
   "cell_type": "code",
   "execution_count": 310,
   "id": "25168074",
   "metadata": {},
   "outputs": [
    {
     "data": {
      "text/plain": [
       "20"
      ]
     },
     "execution_count": 310,
     "metadata": {},
     "output_type": "execute_result"
    }
   ],
   "source": [
    "max(li, key=lambda x: (x % 2 == 0, x))"
   ]
  },
  {
   "cell_type": "code",
   "execution_count": 317,
   "id": "1f8037b3",
   "metadata": {},
   "outputs": [
    {
     "data": {
      "text/plain": [
       "True"
      ]
     },
     "execution_count": 317,
     "metadata": {},
     "output_type": "execute_result"
    }
   ],
   "source": [
    "float('-inf') < -10000000000000"
   ]
  },
  {
   "cell_type": "code",
   "execution_count": 315,
   "id": "d8843709",
   "metadata": {},
   "outputs": [
    {
     "data": {
      "text/plain": [
       "True"
      ]
     },
     "execution_count": 315,
     "metadata": {},
     "output_type": "execute_result"
    }
   ],
   "source": [
    "float('inf') > 1000000000000000000000000"
   ]
  },
  {
   "cell_type": "markdown",
   "id": "1b28bb82",
   "metadata": {},
   "source": [
    "**starmap(func., tuple list)**: This iterator takes a function and tuple list as argument and returns the value according to the function from each tuple of the list."
   ]
  },
  {
   "cell_type": "code",
   "execution_count": 319,
   "id": "e98b1c35",
   "metadata": {},
   "outputs": [
    {
     "name": "stdout",
     "output_type": "stream",
     "text": [
      "The values acc. to function are : [1, 1, 5, 1]\n"
     ]
    }
   ],
   "source": [
    "# Python code to demonstrate the working of  \n",
    "# starmap() \n",
    "  \n",
    "\n",
    "import itertools \n",
    "  \n",
    "  \n",
    "# initializing tuple list \n",
    "li = [ (1, 10, 5), (8, 4, 1), (5, 7, 9), (11, 10, 1) ] \n",
    "  \n",
    "# using starmap() for selection value acc. to function \n",
    "# selects min of all tuple values \n",
    "print (\"The values acc. to function are : \", end =\"\") \n",
    "print (list(itertools.starmap(min, li)))"
   ]
  },
  {
   "cell_type": "markdown",
   "id": "64cd79a6",
   "metadata": {},
   "source": [
    "**takewhile(func, iterable)**: This iterator is the opposite of dropwhile(), it prints the values till the function returns false for 1st time."
   ]
  },
  {
   "cell_type": "code",
   "execution_count": 320,
   "id": "535a34b9",
   "metadata": {},
   "outputs": [
    {
     "name": "stdout",
     "output_type": "stream",
     "text": [
      "The list values till 1st false value are : [2, 4, 6]\n"
     ]
    }
   ],
   "source": [
    "# Python code to demonstrate the working of  \n",
    "# takewhile()\n",
    "  \n",
    "\n",
    "import itertools \n",
    "  \n",
    "# initializing list  \n",
    "li = [2, 4, 6, 7, 8, 10, 20] \n",
    "  \n",
    "# using takewhile() to print values till condition is false. \n",
    "print (\"The list values till 1st false value are : \", end =\"\")\n",
    "print (list(itertools.takewhile(lambda x : x % 2 == 0, li )))"
   ]
  },
  {
   "cell_type": "markdown",
   "id": "f571bcc2",
   "metadata": {},
   "source": [
    "**tee(iterator, count)**:- This iterator splits the container into a number of iterators mentioned in the argument."
   ]
  },
  {
   "cell_type": "code",
   "execution_count": 323,
   "id": "4aa0f4f1",
   "metadata": {},
   "outputs": [
    {
     "name": "stdout",
     "output_type": "stream",
     "text": [
      "<list_iterator object at 0x0000017997130CA0>\n",
      "(<itertools._tee object at 0x0000017996C26500>, <itertools._tee object at 0x0000017996C26100>, <itertools._tee object at 0x0000017996EF1940>)\n",
      "The iterators are : \n",
      "[2, 4, 6, 7, 8, 10, 20]\n",
      "[2, 4, 6, 7, 8, 10, 20]\n",
      "[2, 4, 6, 7, 8, 10, 20]\n"
     ]
    }
   ],
   "source": [
    "# Python code to demonstrate the working of\n",
    "# tee()\n",
    "\n",
    "\n",
    "import itertools\n",
    "\n",
    "# initializing list\n",
    "li = [2, 4, 6, 7, 8, 10, 20]\n",
    "\n",
    "# storing list in iterator\n",
    "iti = iter(li)\n",
    "print(iti)\n",
    "\n",
    "# using tee() to make a list of iterators\n",
    "# makes list of 3 iterators having same values.\n",
    "it = itertools.tee(iti, 3)\n",
    "print(it)\n",
    "\n",
    "# printing the values of iterators\n",
    "print(\"The iterators are : \")\n",
    "for i in range(0, 3):\n",
    "    print(list(it[i]))"
   ]
  },
  {
   "cell_type": "markdown",
   "id": "83416cae",
   "metadata": {},
   "source": [
    "**zip_longest( iterable1, iterable2, fillval)**: This iterator prints the values of iterables alternatively in sequence. If one of the iterables is printed fully, the remaining values are filled by the values assigned to fillvalue."
   ]
  },
  {
   "cell_type": "code",
   "execution_count": 327,
   "id": "5869284f",
   "metadata": {},
   "outputs": [
    {
     "name": "stdout",
     "output_type": "stream",
     "text": [
      "The combined values of iterables is  : \n",
      "('G', 'e') ('e', 'k') ('s', 'f') ('o', 'r') ('G', 'e') ('e', 'k') ('s', '_')\n"
     ]
    }
   ],
   "source": [
    "# Python code to demonstrate the working of\n",
    "# zip_longest()\n",
    "\n",
    "\n",
    "import itertools\n",
    "\n",
    "# using zip_longest() to combine two iterables.\n",
    "print(\"The combined values of iterables is  : \")\n",
    "print(*(itertools.zip_longest('GesoGes', 'ekfrek', fillvalue='_')))"
   ]
  },
  {
   "cell_type": "code",
   "execution_count": 329,
   "id": "347be51f",
   "metadata": {},
   "outputs": [
    {
     "data": {
      "text/plain": [
       "[('G', 'e'), ('e', 'k'), ('s', 'f'), ('o', 'r'), ('G', 'e'), ('e', 'k')]"
      ]
     },
     "execution_count": 329,
     "metadata": {},
     "output_type": "execute_result"
    }
   ],
   "source": [
    "list(zip('GesoGes', 'ekfrek'))"
   ]
  },
  {
   "cell_type": "markdown",
   "id": "15149989",
   "metadata": {},
   "source": [
    "# Heap queue or heapq in Python"
   ]
  },
  {
   "cell_type": "markdown",
   "id": "dd6f83ca",
   "metadata": {},
   "source": [
    "A heap queue or priority queue is a data structure that allows us to quickly access the smallest (min-heap) or largest (max-heap) element. A heap is typically implemented as a binary tree, where each parent node's value is smaller (for a min-heap) or larger (for a max-heap) than its children. However, in Python, heaps are usually implemented as min-heaps which means the smallest element is always at the root of the tree, making it easy to access.\n",
    "\n",
    "heapq module allows us to treat a list as a heap, providing efficient methods for adding and removing elements."
   ]
  },
  {
   "cell_type": "code",
   "execution_count": 346,
   "id": "0b9969de",
   "metadata": {},
   "outputs": [
    {
     "name": "stdout",
     "output_type": "stream",
     "text": [
      "Heap queue: [10, 20, 15, 30, 40]\n",
      "Heap queue: [10, 20, 11, 30, 40, 15]\n",
      "Heap queue: [11, 20, 15, 30, 40]\n",
      "Heap queue: [11, 20, 15, 30, 40]\n",
      "RES: [40, 30, 20]\n"
     ]
    }
   ],
   "source": [
    "import heapq\n",
    "\n",
    "# Creating a list\n",
    "li = [20, 40, 15, 30, 10]\n",
    "\n",
    "# Convert the list into a heap\n",
    "heapq.heapify(li)\n",
    "\n",
    "print(\"Heap queue:\", li)\n",
    "\n",
    "heapq.heappush(li, 11)\n",
    "\n",
    "print(\"Heap queue:\", li)\n",
    "\n",
    "heapq.heappop(li)\n",
    "\n",
    "print(\"Heap queue:\", li)\n",
    "\n",
    "largest = heapq.nlargest(3, li)\n",
    "\n",
    "print(\"Heap queue:\", li)\n",
    "\n",
    "print(\"largest:\", largest)\n",
    "\n"
   ]
  },
  {
   "cell_type": "markdown",
   "id": "b64922bf",
   "metadata": {},
   "source": [
    "## Key operations of a heap:\n",
    "\n",
    "Push (heappush): Adds an element to the heap while maintaining the heap property.\n",
    "\n",
    "Pop (heappop): Removes and returns the smallest element in the heap, again maintaining the heap property.\n",
    "\n",
    "Peek: View the smallest element without removing it.\n",
    "\n",
    "Heapify: Convert a regular list into a valid heap in-place."
   ]
  },
  {
   "cell_type": "markdown",
   "id": "08d7ee80",
   "metadata": {},
   "source": [
    "## Appending and Popping Elements from a Heap Queue\n",
    "Heap queues allow us to efficiently append elements and remove the smallest element. heappush() function is used to add an element to the heap while maintaining the heap property and heappop() is used to remove the smallest element. To append and pop elements from a heap queue we can use the following two functions:\n",
    "\n",
    "heapq.heappush() function adds a new element to the heap while maintaining the heap order.\n",
    "heapq.heappop() function removes the smallest element from the heap and returns it."
   ]
  },
  {
   "cell_type": "markdown",
   "id": "b08aea32",
   "metadata": {},
   "source": [
    "## Replace and Merge Operations on Heapq\n",
    "Python’s heapq module provides additional useful operations for heaps like replace and merge.\n",
    "\n",
    "Replace Operation\n",
    "heapq.heapreplace() function is a combination of pop and push. It pops the smallest element from the heap and inserts a new element into the heap, maintaining the heap property. This operation is useful when we want to replace the smallest element with a new value in a heap.\n",
    "\n",
    "It returns the smallest element before replacing it.\n",
    "It is more efficient than using heappop() followed by heappush() because it performs both operations in one step.\n",
    "Merge Operation\n",
    "heapq.merge() function is used to merge multiple sorted iterables into a single sorted heap. It returns an iterator over the sorted values, which we can then iterate through.\n",
    "\n",
    "This operation is efficient because it avoids sorting the elements from scratch. Instead, it merges already-sorted iterables in a way that maintains the heap property."
   ]
  },
  {
   "cell_type": "markdown",
   "id": "c5c0dbf0",
   "metadata": {},
   "source": [
    "Note that the heapq module in Python provides functions for performing heap operations on lists in-place, without creating a separate data structure for the heap. The heapq module is efficient and easy to use, making it a popular choice for implementing priority queues and other data structures in Python."
   ]
  },
  {
   "cell_type": "code",
   "execution_count": 349,
   "id": "eac7a2c5",
   "metadata": {},
   "outputs": [
    {
     "name": "stdout",
     "output_type": "stream",
     "text": [
      "10\n",
      "[5, 20, 15, 30, 40]\n",
      "Merged heap: [4, 5, 8, 6, 12, 20, 15, 30, 40]\n"
     ]
    }
   ],
   "source": [
    "import heapq\n",
    "\n",
    "# Creating a heap\n",
    "h1 = [10, 20, 15, 30, 40]\n",
    "heapq.heapify(h1)\n",
    "\n",
    "# Replacing the smallest element (10) with 5\n",
    "min = heapq.heapreplace(h1, 5)\n",
    "\n",
    "print(min)\n",
    "print(h1)\n",
    "\n",
    "# Merging Heaps\n",
    "h2 = [12, 4, 6, 8]\n",
    "heapq.heapify(h2)\n",
    "\n",
    "# Merging the lists\n",
    "h3 = list(heapq.merge(h1, h2))\n",
    "print(\"Merged heap:\", h3)"
   ]
  },
  {
   "cell_type": "markdown",
   "id": "b37e7761",
   "metadata": {},
   "source": [
    "\n",
    "## Advantages of using a heap queue (or heapq) in Python:\n",
    "Efficient: A heap queue is a highly efficient data structure for managing priority queues and heaps in Python. It provides logarithmic time complexity for many operations, making it a popular choice for many applications.\n",
    "Space-efficient: Heap queues store elements in a list-like format. This means they don't take up unnecessary extra space, making them more memory-friendly than some other options, like linked lists.\n",
    "Easy to use: The heapq module provides easy-to-understand functions that let us quickly add, remove or get elements without much hassle.\n",
    "Flexible: Heap queues in Python can be used to implement various data structures like priority queues, heaps and binary trees, making them a versatile tool for many applications.\n",
    "## Disadvantages of using a heap queue (or heapq) in Python:\n",
    "Limited functionality: Heap might not work well for more complex operations or data structures that require different features.\n",
    "No random access: Heap queues do not support random access to elements, making it difficult to access elements in the middle of the heap or modify elements that are not at the top of the heap.\n",
    "No sorting: Heap queues do not support sorting, so if we need to sort elements in a specific order, we will need to use a different data structure or algorithm.\n",
    "Not thread-safe: Heap queues are not designed to handle multiple threads accessing the data at the same time.\n",
    "Overall, heap queues are a highly efficient and flexible data structure for managing priority queues and heaps in Python, but may have limited functionality and may not be suitable for all applications."
   ]
  },
  {
   "cell_type": "markdown",
   "id": "b6258b2f",
   "metadata": {},
   "source": [
    "**Yes, Python’s heapq module only provides a min-heap by default, but you can easily simulate a max-heap using a simple trick: negate the values.**"
   ]
  },
  {
   "cell_type": "markdown",
   "id": "3d0dd82d",
   "metadata": {},
   "source": [
    "## How to create a max-heap in Python using heapq"
   ]
  },
  {
   "cell_type": "code",
   "execution_count": 364,
   "id": "962c593b",
   "metadata": {},
   "outputs": [
    {
     "name": "stdout",
     "output_type": "stream",
     "text": [
      "10\n",
      "8\n",
      "1\n"
     ]
    },
    {
     "data": {
      "text/plain": [
       "[10, -4, 8, 1]"
      ]
     },
     "execution_count": 364,
     "metadata": {},
     "output_type": "execute_result"
    }
   ],
   "source": [
    "import heapq\n",
    "\n",
    "nums = [10, -4, 8, 1]\n",
    "neg_nums = [-num for num in nums]\n",
    "\n",
    "heapq.heapify(neg_nums)\n",
    "\n",
    "# Get max value\n",
    "print(-heapq.heappop(neg_nums))  # 10\n",
    "print(-heapq.heappop(neg_nums))  # 10\n",
    "print(-heapq.heappop(neg_nums))  # 10\n",
    "\n",
    "heapq.heappush(neg_nums, -3)\n",
    "heapq.heappush(neg_nums, -7)\n",
    "heapq.heappush(neg_nums, -4)\n",
    "               \n",
    "nums\n",
    "# neg_nums"
   ]
  },
  {
   "cell_type": "markdown",
   "id": "a6c7bea8",
   "metadata": {},
   "source": [
    "## Functools module in Python"
   ]
  },
  {
   "cell_type": "markdown",
   "id": "4ee2f0fd",
   "metadata": {},
   "source": [
    "The functools module offers a collection of tools that simplify working with functions and callable objects. It includes utilities to modify, extend, or optimize functions without rewriting their core logic, helping you write cleaner and more efficient code.\n",
    "\n",
    "Let's discuss them in detail.\n",
    "\n",
    "**1. Partial class**\n",
    "The partial class lets you fix certain arguments of a function and create a new function with fewer parameters. This is especially useful for creating specialized versions of functions without defining new ones from scratch."
   ]
  },
  {
   "cell_type": "code",
   "execution_count": 365,
   "id": "f7f00444",
   "metadata": {},
   "outputs": [
    {
     "name": "stdout",
     "output_type": "stream",
     "text": [
      "8\n",
      "16\n",
      "81\n",
      "25\n",
      "<function power at 0x0000017996C76790>\n",
      "{'b': 2}\n",
      "(5,)\n"
     ]
    }
   ],
   "source": [
    "from functools import partial\n",
    "\n",
    "def power(a, b):\n",
    "    return a ** b\n",
    "\n",
    "pow2 = partial(power, b=2) \n",
    "pow4 = partial(power, b=4)  \n",
    "power_of_5 = partial(power, 5) \n",
    "\n",
    "print(power(2, 3))    \n",
    "print(pow2(4))       \n",
    "print(pow4(3))       \n",
    "print(power_of_5(2))  \n",
    "\n",
    "print(pow2.func)     \n",
    "print(pow2.keywords) \n",
    "print(power_of_5.args)"
   ]
  },
  {
   "cell_type": "markdown",
   "id": "dafcac74",
   "metadata": {},
   "source": [
    "partial.func: It returns the name of parent function along with hexadecimal address.\n",
    "partial.args: It returns the positional arguments provided in partial function.\n",
    "partial.keywords: It returns the keyword arguments provided in partial function."
   ]
  },
  {
   "cell_type": "markdown",
   "id": "e3a9e9d8",
   "metadata": {},
   "source": [
    "**2. Partialmethod Class**\n",
    "Partialmethod works like partial, but for class methods. It allows you to fix some method arguments when defining methods inside classes without making a new method manually."
   ]
  },
  {
   "cell_type": "code",
   "execution_count": 366,
   "id": "5923d552",
   "metadata": {},
   "outputs": [
    {
     "name": "stdout",
     "output_type": "stream",
     "text": [
      "black\n",
      "blue\n"
     ]
    }
   ],
   "source": [
    "from functools import partialmethod\n",
    "\n",
    "class Demo:\n",
    "    def __init__(self):\n",
    "        self.color = 'black'\n",
    "\n",
    "    def _color(self, type):\n",
    "        self.color = type\n",
    "\n",
    "    set_red = partialmethod(_color, type='red')\n",
    "    set_blue = partialmethod(_color, type='blue')\n",
    "    set_green = partialmethod(_color, type='green')\n",
    "\n",
    "\n",
    "obj = Demo()\n",
    "print(obj.color)\n",
    "obj.set_blue()\n",
    "print(obj.color)"
   ]
  },
  {
   "cell_type": "markdown",
   "id": "4904b7f7",
   "metadata": {},
   "source": [
    "**3. cmp_to_key**\n",
    "\n",
    "Cmp_to_key converts a comparison function into a key function. The comparison function must return 1, -1 and 0 for different conditions. It can be used in key functions such as sorted(), min(), max(). \n",
    "\n",
    "Explanation:\n",
    "\n",
    "Converts comparison function to a key function.\n",
    "\n",
    "Enables sorting by criteria like last character.\n",
    "\n",
    "sorted() uses the key function to order items."
   ]
  },
  {
   "cell_type": "code",
   "execution_count": 368,
   "id": "2636e526",
   "metadata": {},
   "outputs": [
    {
     "name": "stdout",
     "output_type": "stream",
     "text": [
      "Sorted list: ['for', 'geeks', 'geeks']\n"
     ]
    }
   ],
   "source": [
    "from functools import cmp_to_key\n",
    "\n",
    "def cmp_fun(a, b):\n",
    "    if a[-1] > b[-1]:\n",
    "        return 1\n",
    "    elif a[-1] < b[-1]:\n",
    "        return -1\n",
    "    else:\n",
    "        return 0\n",
    "\n",
    "list1 = ['geeks', 'for', 'geeks']\n",
    "sorted_list = sorted(list1, key=cmp_to_key(cmp_fun))\n",
    "print('Sorted list:', sorted_list)"
   ]
  },
  {
   "cell_type": "markdown",
   "id": "7e45d908",
   "metadata": {},
   "source": [
    "**5. total_ordering**\n",
    "This class decorator automatically fills in missing comparison methods (__lt__, __gt__, etc.) based on the few you provide. It helps you write less code when implementing rich comparisons."
   ]
  },
  {
   "cell_type": "code",
   "execution_count": 369,
   "id": "85f0076c",
   "metadata": {},
   "outputs": [
    {
     "name": "stdout",
     "output_type": "stream",
     "text": [
      "6 > 2: False\n",
      "3 < 1: True\n",
      "2 <= 7: False\n",
      "9 >= 10: True\n",
      "5 == 5: True\n"
     ]
    }
   ],
   "source": [
    "from functools import total_ordering\n",
    "\n",
    "@total_ordering\n",
    "class N:\n",
    "    def __init__(self, value):\n",
    "        self.value = value\n",
    "\n",
    "    def __eq__(self, other):\n",
    "        return self.value == other.value\n",
    "\n",
    "    def __lt__(self, other):\n",
    "        return self.value > other.value  # Inverted for demo\n",
    "\n",
    "print('6 > 2:', N(6) > N(2))\n",
    "print('3 < 1:', N(3) < N(1))\n",
    "print('2 <= 7:', N(2) <= N(7))\n",
    "print('9 >= 10:', N(9) >= N(10))\n",
    "print('5 == 5:', N(5) == N(5))"
   ]
  },
  {
   "cell_type": "markdown",
   "id": "5bb96015",
   "metadata": {},
   "source": [
    "**8. lru_cache**\n",
    "lru_cache caches recent function results to speed up repeated calls with the same arguments, improving performance at the cost of memory."
   ]
  },
  {
   "cell_type": "code",
   "execution_count": 370,
   "id": "550903e8",
   "metadata": {},
   "outputs": [
    {
     "name": "stdout",
     "output_type": "stream",
     "text": [
      "[1, 1, 2, 6, 24, 120, 720]\n",
      "CacheInfo(hits=5, misses=7, maxsize=None, currsize=7)\n"
     ]
    }
   ],
   "source": [
    "from functools import lru_cache\n",
    "\n",
    "@lru_cache(maxsize=None)\n",
    "def factorial(n):\n",
    "    if n <= 1:\n",
    "        return 1\n",
    "    return n * factorial(n-1)\n",
    "\n",
    "print([factorial(n) for n in range(7)])\n",
    "print(factorial.cache_info())"
   ]
  },
  {
   "cell_type": "markdown",
   "id": "22afa8ac",
   "metadata": {},
   "source": [
    "## Dunder or magic methods in Python"
   ]
  },
  {
   "cell_type": "markdown",
   "id": "5b521886",
   "metadata": {},
   "source": [
    "**Python Magic methods** are the methods starting and ending with double underscores '__'. They are defined by built-in classes in Python and commonly used for operator overloading. \n",
    "\n",
    "They are also called Dunder methods, Dunder here means \"Double Under (Underscores)\".\n",
    "\n",
    "**Python Magic Methods**\n",
    "Built in classes define many magic methods, dir() function can show you magic methods inherited by a class.\n",
    "\n",
    "Example:\n",
    "\n",
    "This code displays the magic methods inherited by int class."
   ]
  },
  {
   "cell_type": "code",
   "execution_count": 373,
   "id": "7d2f2c5d",
   "metadata": {},
   "outputs": [
    {
     "data": {
      "text/plain": [
       "['__abs__',\n",
       " '__add__',\n",
       " '__and__',\n",
       " '__bool__',\n",
       " '__ceil__',\n",
       " '__class__',\n",
       " '__delattr__',\n",
       " '__dir__',\n",
       " '__divmod__',\n",
       " '__doc__',\n",
       " '__eq__',\n",
       " '__float__',\n",
       " '__floor__',\n",
       " '__floordiv__',\n",
       " '__format__',\n",
       " '__ge__',\n",
       " '__getattribute__',\n",
       " '__getnewargs__',\n",
       " '__gt__',\n",
       " '__hash__',\n",
       " '__index__',\n",
       " '__init__',\n",
       " '__init_subclass__',\n",
       " '__int__',\n",
       " '__invert__',\n",
       " '__le__',\n",
       " '__lshift__',\n",
       " '__lt__',\n",
       " '__mod__',\n",
       " '__mul__',\n",
       " '__ne__',\n",
       " '__neg__',\n",
       " '__new__',\n",
       " '__or__',\n",
       " '__pos__',\n",
       " '__pow__',\n",
       " '__radd__',\n",
       " '__rand__',\n",
       " '__rdivmod__',\n",
       " '__reduce__',\n",
       " '__reduce_ex__',\n",
       " '__repr__',\n",
       " '__rfloordiv__',\n",
       " '__rlshift__',\n",
       " '__rmod__',\n",
       " '__rmul__',\n",
       " '__ror__',\n",
       " '__round__',\n",
       " '__rpow__',\n",
       " '__rrshift__',\n",
       " '__rshift__',\n",
       " '__rsub__',\n",
       " '__rtruediv__',\n",
       " '__rxor__',\n",
       " '__setattr__',\n",
       " '__sizeof__',\n",
       " '__str__',\n",
       " '__sub__',\n",
       " '__subclasshook__',\n",
       " '__truediv__',\n",
       " '__trunc__',\n",
       " '__xor__',\n",
       " 'as_integer_ratio',\n",
       " 'bit_length',\n",
       " 'conjugate',\n",
       " 'denominator',\n",
       " 'from_bytes',\n",
       " 'imag',\n",
       " 'numerator',\n",
       " 'real',\n",
       " 'to_bytes']"
      ]
     },
     "execution_count": 373,
     "metadata": {},
     "output_type": "execute_result"
    }
   ],
   "source": [
    "dir(int)"
   ]
  },
  {
   "cell_type": "markdown",
   "id": "c7bc0d94",
   "metadata": {},
   "source": [
    "**2. __repr__ method**\n",
    "__repr__ method in Python defines how an object is presented as a string.\n",
    "\n",
    "The below snippet of code prints only the memory address of the string object. Let's add a __repr__ method to represent our object. "
   ]
  },
  {
   "cell_type": "markdown",
   "id": "4a5695c2",
   "metadata": {},
   "source": [
    "## Serialization:\n",
    "The process of converting an object's state (its data) into a format that can be stored or transmitted. In JSON serialization, this means converting the object into a string that conforms to the JSON syntax. \n",
    "## Deserialization:\n",
    "The process of reconstructing an object from its serialized form. In JSON deserialization, this involves converting a JSON string back into an object in the target programming language. "
   ]
  },
  {
   "cell_type": "code",
   "execution_count": null,
   "id": "6bc5d886",
   "metadata": {},
   "outputs": [],
   "source": []
  },
  {
   "cell_type": "code",
   "execution_count": null,
   "id": "0e0313de",
   "metadata": {},
   "outputs": [],
   "source": []
  },
  {
   "cell_type": "code",
   "execution_count": null,
   "id": "a980d776",
   "metadata": {},
   "outputs": [],
   "source": []
  },
  {
   "cell_type": "code",
   "execution_count": null,
   "id": "f76e6bd8",
   "metadata": {},
   "outputs": [],
   "source": []
  },
  {
   "cell_type": "code",
   "execution_count": null,
   "id": "beb52500",
   "metadata": {},
   "outputs": [],
   "source": []
  },
  {
   "cell_type": "code",
   "execution_count": null,
   "id": "b8868932",
   "metadata": {},
   "outputs": [],
   "source": []
  },
  {
   "cell_type": "code",
   "execution_count": null,
   "id": "68beb80c",
   "metadata": {},
   "outputs": [],
   "source": []
  },
  {
   "cell_type": "code",
   "execution_count": null,
   "id": "ebd2e537",
   "metadata": {},
   "outputs": [],
   "source": []
  },
  {
   "cell_type": "code",
   "execution_count": null,
   "id": "dae5509d",
   "metadata": {},
   "outputs": [],
   "source": []
  },
  {
   "cell_type": "code",
   "execution_count": null,
   "id": "83d5fac4",
   "metadata": {},
   "outputs": [],
   "source": []
  },
  {
   "cell_type": "code",
   "execution_count": null,
   "id": "6341b0bf",
   "metadata": {},
   "outputs": [],
   "source": []
  },
  {
   "cell_type": "code",
   "execution_count": null,
   "id": "7e122a50",
   "metadata": {},
   "outputs": [],
   "source": []
  },
  {
   "cell_type": "code",
   "execution_count": null,
   "id": "97c441d0",
   "metadata": {},
   "outputs": [],
   "source": []
  },
  {
   "cell_type": "code",
   "execution_count": null,
   "id": "6ce7f1f3",
   "metadata": {},
   "outputs": [],
   "source": []
  },
  {
   "cell_type": "code",
   "execution_count": null,
   "id": "6e031476",
   "metadata": {},
   "outputs": [],
   "source": []
  },
  {
   "cell_type": "code",
   "execution_count": null,
   "id": "9893c793",
   "metadata": {},
   "outputs": [],
   "source": []
  },
  {
   "cell_type": "code",
   "execution_count": null,
   "id": "c14d5a0a",
   "metadata": {},
   "outputs": [],
   "source": []
  },
  {
   "cell_type": "code",
   "execution_count": null,
   "id": "ed712acc",
   "metadata": {},
   "outputs": [],
   "source": []
  },
  {
   "cell_type": "code",
   "execution_count": null,
   "id": "b6e277da",
   "metadata": {},
   "outputs": [],
   "source": []
  },
  {
   "cell_type": "code",
   "execution_count": null,
   "id": "6254474e",
   "metadata": {},
   "outputs": [],
   "source": []
  },
  {
   "cell_type": "code",
   "execution_count": null,
   "id": "a5b27f03",
   "metadata": {},
   "outputs": [],
   "source": []
  },
  {
   "cell_type": "code",
   "execution_count": null,
   "id": "c6e4b9d5",
   "metadata": {},
   "outputs": [],
   "source": []
  },
  {
   "cell_type": "code",
   "execution_count": null,
   "id": "588c1bef",
   "metadata": {},
   "outputs": [],
   "source": []
  },
  {
   "cell_type": "code",
   "execution_count": null,
   "id": "97f1ba7e",
   "metadata": {},
   "outputs": [],
   "source": []
  },
  {
   "cell_type": "code",
   "execution_count": null,
   "id": "9156aace",
   "metadata": {},
   "outputs": [],
   "source": []
  },
  {
   "cell_type": "code",
   "execution_count": null,
   "id": "5dfb2b64",
   "metadata": {},
   "outputs": [],
   "source": []
  },
  {
   "cell_type": "code",
   "execution_count": null,
   "id": "0a51cba4",
   "metadata": {},
   "outputs": [],
   "source": []
  },
  {
   "cell_type": "code",
   "execution_count": null,
   "id": "93c26a08",
   "metadata": {},
   "outputs": [],
   "source": []
  },
  {
   "cell_type": "code",
   "execution_count": null,
   "id": "b6c66f3a",
   "metadata": {},
   "outputs": [],
   "source": []
  },
  {
   "cell_type": "code",
   "execution_count": null,
   "id": "d522fecd",
   "metadata": {},
   "outputs": [],
   "source": []
  },
  {
   "cell_type": "code",
   "execution_count": null,
   "id": "184c1431",
   "metadata": {},
   "outputs": [],
   "source": []
  },
  {
   "cell_type": "code",
   "execution_count": null,
   "id": "cfe0709f",
   "metadata": {},
   "outputs": [],
   "source": []
  },
  {
   "cell_type": "code",
   "execution_count": null,
   "id": "e6b6a5da",
   "metadata": {},
   "outputs": [],
   "source": []
  },
  {
   "cell_type": "code",
   "execution_count": null,
   "id": "d5edeaa0",
   "metadata": {},
   "outputs": [],
   "source": []
  },
  {
   "cell_type": "code",
   "execution_count": null,
   "id": "2e679096",
   "metadata": {},
   "outputs": [],
   "source": []
  },
  {
   "cell_type": "code",
   "execution_count": null,
   "id": "2dcac683",
   "metadata": {},
   "outputs": [],
   "source": []
  },
  {
   "cell_type": "code",
   "execution_count": null,
   "id": "6243ec5c",
   "metadata": {},
   "outputs": [],
   "source": []
  },
  {
   "cell_type": "code",
   "execution_count": null,
   "id": "ca57afaf",
   "metadata": {},
   "outputs": [],
   "source": []
  },
  {
   "cell_type": "code",
   "execution_count": null,
   "id": "3056d248",
   "metadata": {},
   "outputs": [],
   "source": []
  },
  {
   "cell_type": "code",
   "execution_count": null,
   "id": "f72ce9ce",
   "metadata": {},
   "outputs": [],
   "source": []
  },
  {
   "cell_type": "code",
   "execution_count": null,
   "id": "69da7a7b",
   "metadata": {},
   "outputs": [],
   "source": []
  },
  {
   "cell_type": "code",
   "execution_count": null,
   "id": "10c31fa0",
   "metadata": {},
   "outputs": [],
   "source": []
  },
  {
   "cell_type": "code",
   "execution_count": null,
   "id": "afe76048",
   "metadata": {},
   "outputs": [],
   "source": []
  },
  {
   "cell_type": "code",
   "execution_count": null,
   "id": "4b890167",
   "metadata": {},
   "outputs": [],
   "source": []
  },
  {
   "cell_type": "code",
   "execution_count": null,
   "id": "96cf6cce",
   "metadata": {},
   "outputs": [],
   "source": []
  },
  {
   "cell_type": "code",
   "execution_count": null,
   "id": "e610ee53",
   "metadata": {},
   "outputs": [],
   "source": []
  },
  {
   "cell_type": "code",
   "execution_count": null,
   "id": "920771a2",
   "metadata": {},
   "outputs": [],
   "source": []
  },
  {
   "cell_type": "code",
   "execution_count": null,
   "id": "4caf3256",
   "metadata": {},
   "outputs": [],
   "source": []
  },
  {
   "cell_type": "code",
   "execution_count": null,
   "id": "810c637f",
   "metadata": {},
   "outputs": [],
   "source": []
  },
  {
   "cell_type": "code",
   "execution_count": null,
   "id": "1636a82e",
   "metadata": {},
   "outputs": [],
   "source": []
  },
  {
   "cell_type": "code",
   "execution_count": null,
   "id": "207d095f",
   "metadata": {},
   "outputs": [],
   "source": []
  },
  {
   "cell_type": "code",
   "execution_count": null,
   "id": "a5376669",
   "metadata": {},
   "outputs": [],
   "source": []
  },
  {
   "cell_type": "code",
   "execution_count": null,
   "id": "b3e47615",
   "metadata": {},
   "outputs": [],
   "source": []
  },
  {
   "cell_type": "code",
   "execution_count": null,
   "id": "a9bbc046",
   "metadata": {},
   "outputs": [],
   "source": []
  },
  {
   "cell_type": "code",
   "execution_count": null,
   "id": "cf0d7af3",
   "metadata": {},
   "outputs": [],
   "source": []
  },
  {
   "cell_type": "code",
   "execution_count": null,
   "id": "5239681b",
   "metadata": {},
   "outputs": [],
   "source": []
  },
  {
   "cell_type": "code",
   "execution_count": null,
   "id": "008b5217",
   "metadata": {},
   "outputs": [],
   "source": []
  },
  {
   "cell_type": "code",
   "execution_count": null,
   "id": "5b16a0bc",
   "metadata": {},
   "outputs": [],
   "source": []
  },
  {
   "cell_type": "code",
   "execution_count": null,
   "id": "5e5856fd",
   "metadata": {},
   "outputs": [],
   "source": []
  },
  {
   "cell_type": "code",
   "execution_count": null,
   "id": "d7457840",
   "metadata": {},
   "outputs": [],
   "source": []
  },
  {
   "cell_type": "code",
   "execution_count": null,
   "id": "3c547e4c",
   "metadata": {},
   "outputs": [],
   "source": []
  },
  {
   "cell_type": "code",
   "execution_count": null,
   "id": "a92e3ced",
   "metadata": {},
   "outputs": [],
   "source": []
  },
  {
   "cell_type": "code",
   "execution_count": null,
   "id": "6f8312db",
   "metadata": {},
   "outputs": [],
   "source": []
  },
  {
   "cell_type": "code",
   "execution_count": null,
   "id": "aee5e600",
   "metadata": {},
   "outputs": [],
   "source": []
  },
  {
   "cell_type": "code",
   "execution_count": null,
   "id": "0a71b6e5",
   "metadata": {},
   "outputs": [],
   "source": [
    "file = open('filename.txt', 'mode')\n",
    "\n",
    "with open('example.txt', 'r') as file:\n",
    "    # Using read()\n",
    "    content = file.read() \n",
    "    print(content)\n",
    "    \n",
    "    # Resetting the pointer to the beginning of the file\n",
    "    file.seek(0)\n",
    "    \n",
    "    # Using readline()\n",
    "    first_line = file.readline() \n",
    "    print(first_line)\n",
    "    \n",
    "    # Resetting the pointer again\n",
    "    file.seek(0)\n",
    "    \n",
    "    # Using readlines()\n",
    "    lines = file.readlines()  \n",
    "    print(lines)\n",
    "    \n",
    "with open('filename.txt', 'w') as file:\n",
    "    file.write(\"Hello, World!\")\n",
    "    \n",
    "    \n",
    "with open('filename.txt', 'w') as file:\n",
    "    file.writelines(['Hello\\n', 'World\\n'])\n",
    "    \n",
    "file.close()"
   ]
  }
 ],
 "metadata": {
  "kernelspec": {
   "display_name": "llms",
   "language": "python",
   "name": "python3"
  },
  "language_info": {
   "codemirror_mode": {
    "name": "ipython",
    "version": 3
   },
   "file_extension": ".py",
   "mimetype": "text/x-python",
   "name": "python",
   "nbconvert_exporter": "python",
   "pygments_lexer": "ipython3",
   "version": "3.11.12"
  }
 },
 "nbformat": 4,
 "nbformat_minor": 5
}
