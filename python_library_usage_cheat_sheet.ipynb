{
 "cells": [
  {
   "cell_type": "markdown",
   "id": "9be37f8e",
   "metadata": {},
   "source": [
    "## math module"
   ]
  },
  {
   "cell_type": "code",
   "execution_count": null,
   "id": "f9a7e746",
   "metadata": {},
   "outputs": [],
   "source": [
    "import math\n",
    "\n",
    "print(math.sqrt(16))       # 4.0\n",
    "print(math.factorial(5))   # 120\n",
    "print(math.gcd(28, 35))    # 7\n",
    "print(math.lcm(4, 6))      # 12\n",
    "print(math.floor(3.7))     # 3\n",
    "print(math.ceil(3.2))      # 4\n",
    "print(math.isclose(0.1 + 0.2, 0.3))  # True\n",
    "print(math.pi)             # 3.141592653589793"
   ]
  },
  {
   "cell_type": "markdown",
   "id": "7d45facd",
   "metadata": {},
   "source": [
    "## collections.Counter"
   ]
  },
  {
   "cell_type": "code",
   "execution_count": null,
   "id": "c9b8d8be",
   "metadata": {},
   "outputs": [],
   "source": [
    "from collections import Counter\n",
    "\n",
    "cnt = Counter(\"leetcode\")\n",
    "print(cnt)\n",
    "print(cnt.most_common(2))     # [('e', 3), ('l', 1)]"
   ]
  },
  {
   "cell_type": "markdown",
   "id": "7c3b2bae",
   "metadata": {},
   "source": [
    "## collections.defaultdict"
   ]
  },
  {
   "cell_type": "code",
   "execution_count": null,
   "id": "d47fe5a2",
   "metadata": {},
   "outputs": [],
   "source": [
    "from collections import defaultdict\n",
    "\n",
    "dd = defaultdict(list)\n",
    "dd['a'].append(1)\n",
    "dd['b'].append(2)\n",
    "print(dd)"
   ]
  },
  {
   "cell_type": "markdown",
   "id": "57e622b4",
   "metadata": {},
   "source": [
    "## collections.OrderedDict"
   ]
  },
  {
   "cell_type": "code",
   "execution_count": 3,
   "id": "202d8c25",
   "metadata": {},
   "outputs": [
    {
     "name": "stdout",
     "output_type": "stream",
     "text": [
      "OrderedDict([('three', 3), ('two', 2), ('one', 1)])\n"
     ]
    }
   ],
   "source": [
    "from collections import OrderedDict\n",
    "\n",
    "od = OrderedDict()\n",
    "od['one'] = 1\n",
    "od['two'] = 2\n",
    "od['three'] = 3\n",
    "od.move_to_end('one')\n",
    "od.move_to_end('three', last=False)\n",
    "print(od)"
   ]
  },
  {
   "cell_type": "markdown",
   "id": "4106f91c",
   "metadata": {},
   "source": [
    "## collections.deque"
   ]
  },
  {
   "cell_type": "code",
   "execution_count": 4,
   "id": "308c7057",
   "metadata": {},
   "outputs": [
    {
     "name": "stdout",
     "output_type": "stream",
     "text": [
      "deque([0, 1])\n"
     ]
    },
    {
     "data": {
      "text/plain": [
       "0"
      ]
     },
     "execution_count": 4,
     "metadata": {},
     "output_type": "execute_result"
    }
   ],
   "source": [
    "from collections import deque\n",
    "\n",
    "dq = deque()\n",
    "dq.append(1)\n",
    "dq.appendleft(0)\n",
    "print(dq)\n",
    "dq.pop()\n",
    "dq.popleft()"
   ]
  },
  {
   "cell_type": "markdown",
   "id": "decc4a7c",
   "metadata": {},
   "source": [
    "## heapq (min-heap)"
   ]
  },
  {
   "cell_type": "code",
   "execution_count": 5,
   "id": "e66138be",
   "metadata": {},
   "outputs": [
    {
     "name": "stdout",
     "output_type": "stream",
     "text": [
      "1\n"
     ]
    }
   ],
   "source": [
    "import heapq\n",
    "\n",
    "nums = []\n",
    "heapq.heappush(nums, 3)\n",
    "heapq.heappush(nums, 1)\n",
    "heapq.heappush(nums, 4)\n",
    "print(heapq.heappop(nums))  # 1"
   ]
  },
  {
   "cell_type": "markdown",
   "id": "dfb56c3a",
   "metadata": {},
   "source": [
    "## heapq (max-heap with negation)"
   ]
  },
  {
   "cell_type": "code",
   "execution_count": null,
   "id": "0247ae54",
   "metadata": {},
   "outputs": [],
   "source": [
    "import heapq\n",
    "\n",
    "nums = [3, 1, 4]\n",
    "max_heap = [-x for x in nums]\n",
    "heapq.heapify(max_heap)\n",
    "print(-heapq.heappop(max_heap))  # 4"
   ]
  },
  {
   "cell_type": "markdown",
   "id": "52ac806d",
   "metadata": {},
   "source": [
    "## heapq nlargest/nsmallest"
   ]
  },
  {
   "cell_type": "code",
   "execution_count": null,
   "id": "c70e700d",
   "metadata": {},
   "outputs": [],
   "source": [
    "import heapq\n",
    "\n",
    "nums = [5, 1, 3, 7, 9]\n",
    "print(heapq.nlargest(2, nums))  # [9, 7]\n",
    "print(heapq.nsmallest(2, nums)) # [1, 3]"
   ]
  },
  {
   "cell_type": "markdown",
   "id": "b9ea23b1",
   "metadata": {},
   "source": [
    "## functools.lru_cache"
   ]
  },
  {
   "cell_type": "code",
   "execution_count": null,
   "id": "7bcf8e1b",
   "metadata": {},
   "outputs": [],
   "source": [
    "from functools import lru_cache\n",
    "\n",
    "@lru_cache(maxsize=None)\n",
    "def fib(n):\n",
    "    if n < 2:\n",
    "        return n\n",
    "    return fib(n-1) + fib(n-2)\n",
    "\n",
    "print(fib(10))  # 55"
   ]
  },
  {
   "cell_type": "markdown",
   "id": "a3995dfc",
   "metadata": {},
   "source": [
    "## functools.reduce"
   ]
  },
  {
   "cell_type": "code",
   "execution_count": null,
   "id": "e2250fff",
   "metadata": {},
   "outputs": [],
   "source": [
    "from functools import reduce\n",
    "\n",
    "nums = [1, 2, 3, 4]\n",
    "product = reduce(lambda x, y: x * y, nums)\n",
    "print(product)  # 24"
   ]
  },
  {
   "cell_type": "markdown",
   "id": "097831de",
   "metadata": {},
   "source": [
    "## functools.partial"
   ]
  },
  {
   "cell_type": "code",
   "execution_count": null,
   "id": "bea3590f",
   "metadata": {},
   "outputs": [],
   "source": [
    "from functools import partial\n",
    "\n",
    "def power(base, exp):\n",
    "    return base ** exp\n",
    "\n",
    "square = partial(power, exp=2)\n",
    "print(square(5))  # 25"
   ]
  },
  {
   "cell_type": "markdown",
   "id": "a474e58c",
   "metadata": {},
   "source": [
    "## functools.cmp_to_key"
   ]
  },
  {
   "cell_type": "code",
   "execution_count": null,
   "id": "db9208ec",
   "metadata": {},
   "outputs": [],
   "source": [
    "from functools import cmp_to_key\n",
    "\n",
    "def compare(a, b):\n",
    "    return b - a\n",
    "\n",
    "nums = [5, 2, 9]\n",
    "nums.sort(key=cmp_to_key(compare))\n",
    "print(nums)"
   ]
  },
  {
   "cell_type": "markdown",
   "id": "5bfe8cd6",
   "metadata": {},
   "source": [
    "## itertools.permutations and combinations"
   ]
  },
  {
   "cell_type": "code",
   "execution_count": null,
   "id": "67738ab6",
   "metadata": {},
   "outputs": [],
   "source": [
    "from itertools import permutations, combinations\n",
    "\n",
    "print(list(permutations([1, 2, 3], 2)))\n",
    "print(list(combinations([1, 2, 3], 2)))"
   ]
  },
  {
   "cell_type": "markdown",
   "id": "fe21df1a",
   "metadata": {},
   "source": [
    "## itertools.product and accumulate"
   ]
  },
  {
   "cell_type": "code",
   "execution_count": null,
   "id": "a9dcaf41",
   "metadata": {},
   "outputs": [],
   "source": [
    "from itertools import product, accumulate\n",
    "\n",
    "print(list(product([1, 2], ['a', 'b'])))  # Cartesian product\n",
    "print(list(accumulate([1, 2, 3, 4])))     # [1, 3, 6, 10]"
   ]
  },
  {
   "cell_type": "markdown",
   "id": "7ffbbfca",
   "metadata": {},
   "source": [
    "## itertools.groupby"
   ]
  },
  {
   "cell_type": "code",
   "execution_count": null,
   "id": "38c5a772",
   "metadata": {},
   "outputs": [],
   "source": [
    "from itertools import groupby\n",
    "\n",
    "data = [(\"fruit\", \"apple\"), (\"fruit\", \"banana\"), (\"veg\", \"carrot\")]\n",
    "for key, group in groupby(data, lambda x: x[0]):\n",
    "    print(key, list(group))"
   ]
  }
 ],
 "metadata": {
  "kernelspec": {
   "display_name": "Python 3 (ipykernel)",
   "language": "python",
   "name": "python3"
  },
  "language_info": {
   "codemirror_mode": {
    "name": "ipython",
    "version": 3
   },
   "file_extension": ".py",
   "mimetype": "text/x-python",
   "name": "python",
   "nbconvert_exporter": "python",
   "pygments_lexer": "ipython3",
   "version": "3.9.13"
  }
 },
 "nbformat": 4,
 "nbformat_minor": 5
}
