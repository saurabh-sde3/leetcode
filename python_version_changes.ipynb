{
 "cells": [
  {
   "cell_type": "markdown",
   "metadata": {},
   "source": [
    "# 🐍 Python Version Differences: 2.7 → 3.11\n",
    "\n",
    "This notebook explores major syntax and feature differences across Python versions from 2.7 up to 3.11."
   ]
  },
  {
   "cell_type": "markdown",
   "metadata": {},
   "source": [
    "## ✅ Print Statement vs Function (Python 2 → 3)"
   ]
  },
  {
   "cell_type": "code",
   "execution_count": null,
   "metadata": {},
   "outputs": [],
   "source": [
    "# Python 2:\n",
    "# print 'Hello World'\n",
    "\n",
    "# Python 3:\n",
    "print('Hello World')"
   ]
  },
  {
   "cell_type": "markdown",
   "metadata": {},
   "source": [
    "## ✅ Integer Division (Python 2 vs Python 3)"
   ]
  },
  {
   "cell_type": "code",
   "execution_count": null,
   "metadata": {},
   "outputs": [],
   "source": [
    "# Python 2: 5 / 2 = 2\n",
    "# Python 3: 5 / 2 = 2.5\n",
    "\n",
    "print(5 / 2)       # Float division\n",
    "print(5 // 2)      # Floor division"
   ]
  },
  {
   "cell_type": "markdown",
   "metadata": {},
   "source": [
    "## ✅ Unicode (Default in Python 3)"
   ]
  },
  {
   "cell_type": "code",
   "execution_count": null,
   "metadata": {},
   "outputs": [],
   "source": [
    "s = \"hello\"\n",
    "print(type(s))     # str is unicode by default in Python 3"
   ]
  },
  {
   "cell_type": "markdown",
   "metadata": {},
   "source": [
    "## ✅ f-Strings (Python 3.6+)"
   ]
  },
  {
   "cell_type": "code",
   "execution_count": null,
   "metadata": {},
   "outputs": [],
   "source": [
    "name = \"Alice\"\n",
    "age = 30\n",
    "print(f\"My name is {name} and I'm {age} years old.\")"
   ]
  },
  {
   "cell_type": "markdown",
   "metadata": {},
   "source": [
    "## ✅ Assignment Expressions (Walrus Operator) – Python 3.8+"
   ]
  },
  {
   "cell_type": "code",
   "execution_count": null,
   "metadata": {},
   "outputs": [],
   "source": [
    "while (n := len(\"hello\")) > 0:\n",
    "    print(n)\n",
    "    break"
   ]
  },
  {
   "cell_type": "markdown",
   "metadata": {},
   "source": [
    "## ✅ Pattern Matching (Python 3.10+)"
   ]
  },
  {
   "cell_type": "code",
   "execution_count": null,
   "metadata": {},
   "outputs": [],
   "source": [
    "def match_demo(val):\n",
    "    match val:\n",
    "        case 1:\n",
    "            return \"One\"\n",
    "        case 2:\n",
    "            return \"Two\"\n",
    "        case _:\n",
    "            return \"Something else\"\n",
    "\n",
    "print(match_demo(2))"
   ]
  },
  {
   "cell_type": "markdown",
   "metadata": {},
   "source": [
    "## ✅ Structural Pattern Matching – Python 3.10+\n",
    "Matching against lists, dicts, and more complex patterns."
   ]
  },
  {
   "cell_type": "code",
   "execution_count": null,
   "metadata": {},
   "outputs": [],
   "source": [
    "point = (0, 1)\n",
    "\n",
    "match point:\n",
    "    case (0, y):\n",
    "        print(f\"Y is {y}\")\n",
    "    case (x, 0):\n",
    "        print(f\"X is {x}\")"
   ]
  },
  {
   "cell_type": "markdown",
   "metadata": {},
   "source": [
    "## ✅ Type Hints & Annotations (Python 3.5+ with enhancements later)"
   ]
  },
  {
   "cell_type": "code",
   "execution_count": null,
   "metadata": {},
   "outputs": [],
   "source": [
    "def greet(name: str) -> str:\n",
    "    return f\"Hello, {name}\"\n",
    "\n",
    "print(greet(\"Saurabh\"))"
   ]
  },
  {
   "cell_type": "markdown",
   "metadata": {},
   "source": [
    "## ✅ Data Classes (Python 3.7+)"
   ]
  },
  {
   "cell_type": "code",
   "execution_count": null,
   "metadata": {},
   "outputs": [],
   "source": [
    "from dataclasses import dataclass\n",
    "\n",
    "@dataclass\n",
    "class Point:\n",
    "    x: int\n",
    "    y: int\n",
    "\n",
    "p = Point(1, 2)\n",
    "print(p)"
   ]
  },
  {
   "cell_type": "markdown",
   "metadata": {},
   "source": [
    "# ✅ Summary Table"
   ]
  },
  {
   "cell_type": "markdown",
   "metadata": {},
   "source": [
    "| Version | Feature | Example |\n",
    "|---------|---------|---------|\n",
    "| 3.0     | Print function | `print('Hello')` |\n",
    "| 3.5     | Type hints | `def foo(x: int) -> int:` |\n",
    "| 3.6     | f-Strings | `f\"Hello {name}\"` |\n",
    "| 3.7     | Data Classes | `@dataclass` |\n",
    "| 3.8     | Walrus operator | `if (n := len(data)) > 5:` |\n",
    "| 3.9     | str.removeprefix/suffix | `'test'.removeprefix('t')` |\n",
    "| 3.10    | match-case | `match x:` |\n",
    "| 3.11    | Faster CPython | Performance improvements |\n"
   ]
  }
 ],
 "metadata": {
  "kernelspec": {
   "display_name": "Python 3",
   "language": "python",
   "name": "python3"
  },
  "language_info": {
   "name": "python",
   "version": "3.11"
  }
 },
 "nbformat": 4,
 "nbformat_minor": 5
}
