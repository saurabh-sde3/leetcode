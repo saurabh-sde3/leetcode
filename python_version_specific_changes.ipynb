{
 "cells": [
  {
   "cell_type": "markdown",
   "metadata": {},
   "source": [
    "# Python 2.7 to 3.11 - Key Differences with Examples"
   ]
  },
  {
   "cell_type": "markdown",
   "metadata": {},
   "source": [
    "## 🚀 Python 2.7 vs Python 3.x"
   ]
  },
  {
   "cell_type": "markdown",
   "metadata": {},
   "source": [
    "## 🆕 Python 3.5 - `async` and `await`, `typing`, `@` operator for matrices"
   ]
  },
  {
   "cell_type": "code",
   "execution_count": null,
   "metadata": {},
   "outputs": [],
   "source": [
    "import asyncio\n",
    "\n",
    "async def greet():\n",
    "    await asyncio.sleep(1)\n",
    "    print(\"Hello Async!\")\n",
    "\n",
    "# asyncio.run(greet())  # Python 3.7+\n"
   ]
  },
  {
   "cell_type": "markdown",
   "metadata": {},
   "source": [
    "## 🧮 Python 3.5+: Matrix multiplication operator `@`"
   ]
  },
  {
   "cell_type": "code",
   "execution_count": null,
   "metadata": {},
   "outputs": [],
   "source": [
    "import numpy as np\n",
    "a = np.array([[1, 2], [3, 4]])\n",
    "b = np.array([[2, 0], [1, 2]])\n",
    "print(a @ b)  # matrix multiplication"
   ]
  },
  {
   "cell_type": "markdown",
   "metadata": {},
   "source": [
    "## 📦 Python 3.6 - Formatted String Literals (f-strings), Underscores in Numbers"
   ]
  },
  {
   "cell_type": "code",
   "execution_count": null,
   "metadata": {},
   "outputs": [],
   "source": [
    "name = \"Alice\"\n",
    "age = 30\n",
    "print(f\"{name} is {age} years old\")\n",
    "\n",
    "num = 1_000_000\n",
    "print(num)"
   ]
  },
  {
   "cell_type": "markdown",
   "metadata": {},
   "source": [
    "## 🔐 Python 3.8 - Walrus Operator `:=` and Positional-Only Parameters"
   ]
  },
  {
   "cell_type": "code",
   "execution_count": null,
   "metadata": {},
   "outputs": [],
   "source": [
    "# Walrus operator\n",
    "nums = [1, 2, 3, 4, 5]\n",
    "while (n := len(nums)) > 0:\n",
    "    print(f\"Length: {n}\")\n",
    "    nums.pop()"
   ]
  },
  {
   "cell_type": "code",
   "execution_count": null,
   "metadata": {},
   "outputs": [],
   "source": [
    "# Positional-only parameters using /\n",
    "def power(base, exp, /):\n",
    "    return base ** exp\n",
    "\n",
    "print(power(2, 3))"
   ]
  },
  {
   "cell_type": "markdown",
   "metadata": {},
   "source": [
    "## 🧰 Python 3.9 - Dictionary Merge and Update with `|` and `|=`"
   ]
  },
  {
   "cell_type": "code",
   "execution_count": null,
   "metadata": {},
   "outputs": [],
   "source": [
    "d1 = {'a': 1}\n",
    "d2 = {'b': 2}\n",
    "d3 = d1 | d2\n",
    "print(d3)\n",
    "d1 |= d2\n",
    "print(d1)"
   ]
  },
  {
   "cell_type": "markdown",
   "metadata": {},
   "source": [
    "## 🪄 Python 3.10 - Structural Pattern Matching (like switch-case)"
   ]
  },
  {
   "cell_type": "code",
   "execution_count": null,
   "metadata": {},
   "outputs": [],
   "source": [
    "def http_status(code):\n",
    "    match code:\n",
    "        case 200:\n",
    "            return \"OK\"\n",
    "        case 404:\n",
    "            return \"Not Found\"\n",
    "        case _:\n",
    "            return \"Unknown\"\n",
    "\n",
    "print(http_status(404))"
   ]
  },
  {
   "cell_type": "markdown",
   "metadata": {},
   "source": [
    "## ⚙️ Python 3.11 - Exception Groups and `except*`, Faster Performance"
   ]
  },
  {
   "cell_type": "code",
   "execution_count": null,
   "metadata": {},
   "outputs": [],
   "source": [
    "# Basic speed improvement - cannot demonstrate visually\n",
    "# Use timeit module to measure performance across versions\n",
    "import timeit\n",
    "print(timeit.timeit('sum(range(1000))'))"
   ]
  },
  {
   "cell_type": "markdown",
   "metadata": {},
   "source": [
    "## ✅ Summary Table\n",
    "\n",
    "| Version | Feature |\n",
    "|---------|---------|\n",
    "| 3.5     | async/await, @ operator |\n",
    "| 3.6     | f-strings, underscores in numbers |\n",
    "| 3.8     | walrus :=, positional-only args `/` |\n",
    "| 3.9     | dict union `|`, type hinting improvements |\n",
    "| 3.10    | pattern matching (match-case) |\n",
    "| 3.11    | except*, ExceptionGroup, speed boost |\n"
   ]
  }
 ],
 "metadata": {
  "kernelspec": {
   "display_name": "Python 3",
   "language": "python",
   "name": "python3"
  },
  "language_info": {
   "name": "python",
   "version": ""
  }
 },
 "nbformat": 4,
 "nbformat_minor": 5
}
